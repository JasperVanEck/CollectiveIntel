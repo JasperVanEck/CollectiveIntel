{
 "cells": [
  {
   "cell_type": "markdown",
   "metadata": {
    "colab_type": "text",
    "id": "mmgCUk4WFleR"
   },
   "source": [
    "# Groeps Opdracht CI\n",
    "## Joost Vledder, Sadjia Safdari, Simon Kreulen & Jasper van Eck"
   ]
  },
  {
   "cell_type": "markdown",
   "metadata": {},
   "source": [
    "### Inhoudsopgave <a name='Top'></a>\n",
    "\n",
    "[Imports](#import)\n",
    "\n",
    "[Load data](#loaddata)\n",
    "\n",
    "[Content Based Filtering Algorithm](#contentbased)\n",
    "\n",
    "[Data Clean Up](#cleanup)\n",
    "\n",
    "[Basic Data Stats](#basicdata)\n",
    "\n",
    "[Plots](#plots)\n",
    "\n",
    "[Cosine Similiraty Content Based](#cossim)\n",
    "\n",
    "[Query vector](#queryvector)\n",
    "\n",
    "[SVD](#svd)\n",
    "\n",
    "[K-Means](#kmeans)\n",
    "\n",
    "[Cohen Kappa](#cohenkappa)\n",
    "\n",
    "[Item-Based Collaborative Filtering Algorithm](#itembasedcollab)\n",
    "\n",
    "[Basic Data Stats for Collabaritive Filtering](#basicdatacollab)\n",
    "\n",
    "[Implementation](#implementation)\n",
    "\n",
    "[Deel 1: Mesa](#mesa)\n",
    "\n",
    "[Deel 2: Calgary](#calgary)\n"
   ]
  },
  {
   "cell_type": "markdown",
   "metadata": {
    "colab_type": "text",
    "id": "giTmkchgFleV"
   },
   "source": [
    "### Imports <a name='import'></a>\n",
    "\n",
    "[Top](#Top)"
   ]
  },
  {
   "cell_type": "code",
   "execution_count": 1,
   "metadata": {
    "colab": {},
    "colab_type": "code",
    "id": "7im3ZUTtFleY"
   },
   "outputs": [],
   "source": [
    "import os\n",
    "import pandas as pd\n",
    "import numpy as np\n",
    "np.seterr(divide='raise', over='raise', under='raise', invalid='raise')\n",
    "import matplotlib.pyplot as plt\n",
    "from collections import defaultdict\n",
    "import json\n",
    "#pip install geopy\n",
    "from geopy import geocoders\n",
    "from geopy.geocoders import Nominatim\n",
    "from sklearn.cluster import KMeans, AgglomerativeClustering\n",
    "from sklearn.decomposition import TruncatedSVD"
   ]
  },
  {
   "cell_type": "markdown",
   "metadata": {
    "colab_type": "text",
    "id": "F1sKruAeFlep"
   },
   "source": [
    "### Load data <a name='loaddata'></a>\n",
    "\n",
    "[Top](#Top)"
   ]
  },
  {
   "cell_type": "code",
   "execution_count": 2,
   "metadata": {
    "colab": {},
    "colab_type": "code",
    "id": "th5wJc8yFler",
    "outputId": "e6ee5c01-4d29-419a-9f08-6596ad923a57"
   },
   "outputs": [
    {
     "data": {
      "text/html": [
       "<div>\n",
       "<style scoped>\n",
       "    .dataframe tbody tr th:only-of-type {\n",
       "        vertical-align: middle;\n",
       "    }\n",
       "\n",
       "    .dataframe tbody tr th {\n",
       "        vertical-align: top;\n",
       "    }\n",
       "\n",
       "    .dataframe thead th {\n",
       "        text-align: right;\n",
       "    }\n",
       "</style>\n",
       "<table border=\"1\" class=\"dataframe\">\n",
       "  <thead>\n",
       "    <tr style=\"text-align: right;\">\n",
       "      <th></th>\n",
       "      <th>name</th>\n",
       "      <th>address</th>\n",
       "      <th>city</th>\n",
       "      <th>state</th>\n",
       "      <th>postal_code</th>\n",
       "      <th>latitude</th>\n",
       "      <th>longitude</th>\n",
       "      <th>stars</th>\n",
       "      <th>review_count</th>\n",
       "      <th>is_open</th>\n",
       "      <th>attributes</th>\n",
       "      <th>categories</th>\n",
       "      <th>hours</th>\n",
       "    </tr>\n",
       "    <tr>\n",
       "      <th>business_id</th>\n",
       "      <th></th>\n",
       "      <th></th>\n",
       "      <th></th>\n",
       "      <th></th>\n",
       "      <th></th>\n",
       "      <th></th>\n",
       "      <th></th>\n",
       "      <th></th>\n",
       "      <th></th>\n",
       "      <th></th>\n",
       "      <th></th>\n",
       "      <th></th>\n",
       "      <th></th>\n",
       "    </tr>\n",
       "  </thead>\n",
       "  <tbody>\n",
       "    <tr>\n",
       "      <th>5JucpCfHZltJh5r1JabjDg</th>\n",
       "      <td>Edgeworxx Studio</td>\n",
       "      <td>20 Douglas Woods Drive Southeast</td>\n",
       "      <td>Calgary</td>\n",
       "      <td>AB</td>\n",
       "      <td>T2Z 1K4</td>\n",
       "      <td>50.943646</td>\n",
       "      <td>-114.001828</td>\n",
       "      <td>3.5</td>\n",
       "      <td>7</td>\n",
       "      <td>1</td>\n",
       "      <td>{'RestaurantsPriceRange2': '2', 'BusinessParki...</td>\n",
       "      <td>Beauty &amp; Spas, Hair Salons</td>\n",
       "      <td>None</td>\n",
       "    </tr>\n",
       "    <tr>\n",
       "      <th>fcXOEZdXYeZqnQ3lGlOXmg</th>\n",
       "      <td>Nucleus Information Service</td>\n",
       "      <td>1210 8th Street SW, Unit 220</td>\n",
       "      <td>Calgary</td>\n",
       "      <td>AB</td>\n",
       "      <td>T2R 1L3</td>\n",
       "      <td>51.041771</td>\n",
       "      <td>-114.081109</td>\n",
       "      <td>2.0</td>\n",
       "      <td>5</td>\n",
       "      <td>1</td>\n",
       "      <td>{'BikeParking': 'False', 'ByAppointmentOnly': ...</td>\n",
       "      <td>Local Services, Professional Services, Compute...</td>\n",
       "      <td>{'Monday': '9:0-17:0', 'Tuesday': '9:0-17:0', ...</td>\n",
       "    </tr>\n",
       "    <tr>\n",
       "      <th>e_EMySqP0uwlVZfd8mRaaQ</th>\n",
       "      <td>Pearl Garden</td>\n",
       "      <td>2825 32 Avenue NE</td>\n",
       "      <td>Calgary</td>\n",
       "      <td>AB</td>\n",
       "      <td>T1Y</td>\n",
       "      <td>51.081162</td>\n",
       "      <td>-113.993474</td>\n",
       "      <td>2.0</td>\n",
       "      <td>4</td>\n",
       "      <td>0</td>\n",
       "      <td>{'BusinessParking': '{'garage': False, 'street...</td>\n",
       "      <td>Chinese, Dim Sum, Restaurants</td>\n",
       "      <td>None</td>\n",
       "    </tr>\n",
       "    <tr>\n",
       "      <th>Jff5hTK1ZMLKS06sOSNWdA</th>\n",
       "      <td>Radisson Hotel &amp; Conference Centre Calgary Air...</td>\n",
       "      <td>6620 36 Street NE</td>\n",
       "      <td>Calgary</td>\n",
       "      <td>AB</td>\n",
       "      <td>T3J 4C8</td>\n",
       "      <td>51.111892</td>\n",
       "      <td>-113.980480</td>\n",
       "      <td>3.5</td>\n",
       "      <td>14</td>\n",
       "      <td>1</td>\n",
       "      <td>{'RestaurantsPriceRange2': '2', 'WiFi': ''free''}</td>\n",
       "      <td>Hotels &amp; Travel, Hotels, Event Planning &amp; Serv...</td>\n",
       "      <td>None</td>\n",
       "    </tr>\n",
       "    <tr>\n",
       "      <th>cQ8FKduGfVskvi11NZXsAg</th>\n",
       "      <td>Tomkins Park</td>\n",
       "      <td>880 17 Avenue SW</td>\n",
       "      <td>Calgary</td>\n",
       "      <td>AB</td>\n",
       "      <td>T2T 0A2</td>\n",
       "      <td>51.037994</td>\n",
       "      <td>-114.081367</td>\n",
       "      <td>3.5</td>\n",
       "      <td>3</td>\n",
       "      <td>1</td>\n",
       "      <td>{'GoodForKids': 'True', 'BusinessParking': '{'...</td>\n",
       "      <td>Parks, Active Life</td>\n",
       "      <td>None</td>\n",
       "    </tr>\n",
       "  </tbody>\n",
       "</table>\n",
       "</div>"
      ],
      "text/plain": [
       "                                                                     name  \\\n",
       "business_id                                                                 \n",
       "5JucpCfHZltJh5r1JabjDg                                   Edgeworxx Studio   \n",
       "fcXOEZdXYeZqnQ3lGlOXmg                        Nucleus Information Service   \n",
       "e_EMySqP0uwlVZfd8mRaaQ                                       Pearl Garden   \n",
       "Jff5hTK1ZMLKS06sOSNWdA  Radisson Hotel & Conference Centre Calgary Air...   \n",
       "cQ8FKduGfVskvi11NZXsAg                                       Tomkins Park   \n",
       "\n",
       "                                                 address     city state  \\\n",
       "business_id                                                               \n",
       "5JucpCfHZltJh5r1JabjDg  20 Douglas Woods Drive Southeast  Calgary    AB   \n",
       "fcXOEZdXYeZqnQ3lGlOXmg      1210 8th Street SW, Unit 220  Calgary    AB   \n",
       "e_EMySqP0uwlVZfd8mRaaQ                 2825 32 Avenue NE  Calgary    AB   \n",
       "Jff5hTK1ZMLKS06sOSNWdA                 6620 36 Street NE  Calgary    AB   \n",
       "cQ8FKduGfVskvi11NZXsAg                  880 17 Avenue SW  Calgary    AB   \n",
       "\n",
       "                       postal_code   latitude   longitude  stars  \\\n",
       "business_id                                                        \n",
       "5JucpCfHZltJh5r1JabjDg     T2Z 1K4  50.943646 -114.001828    3.5   \n",
       "fcXOEZdXYeZqnQ3lGlOXmg     T2R 1L3  51.041771 -114.081109    2.0   \n",
       "e_EMySqP0uwlVZfd8mRaaQ         T1Y  51.081162 -113.993474    2.0   \n",
       "Jff5hTK1ZMLKS06sOSNWdA     T3J 4C8  51.111892 -113.980480    3.5   \n",
       "cQ8FKduGfVskvi11NZXsAg     T2T 0A2  51.037994 -114.081367    3.5   \n",
       "\n",
       "                        review_count  is_open  \\\n",
       "business_id                                     \n",
       "5JucpCfHZltJh5r1JabjDg             7        1   \n",
       "fcXOEZdXYeZqnQ3lGlOXmg             5        1   \n",
       "e_EMySqP0uwlVZfd8mRaaQ             4        0   \n",
       "Jff5hTK1ZMLKS06sOSNWdA            14        1   \n",
       "cQ8FKduGfVskvi11NZXsAg             3        1   \n",
       "\n",
       "                                                               attributes  \\\n",
       "business_id                                                                 \n",
       "5JucpCfHZltJh5r1JabjDg  {'RestaurantsPriceRange2': '2', 'BusinessParki...   \n",
       "fcXOEZdXYeZqnQ3lGlOXmg  {'BikeParking': 'False', 'ByAppointmentOnly': ...   \n",
       "e_EMySqP0uwlVZfd8mRaaQ  {'BusinessParking': '{'garage': False, 'street...   \n",
       "Jff5hTK1ZMLKS06sOSNWdA  {'RestaurantsPriceRange2': '2', 'WiFi': ''free''}   \n",
       "cQ8FKduGfVskvi11NZXsAg  {'GoodForKids': 'True', 'BusinessParking': '{'...   \n",
       "\n",
       "                                                               categories  \\\n",
       "business_id                                                                 \n",
       "5JucpCfHZltJh5r1JabjDg                         Beauty & Spas, Hair Salons   \n",
       "fcXOEZdXYeZqnQ3lGlOXmg  Local Services, Professional Services, Compute...   \n",
       "e_EMySqP0uwlVZfd8mRaaQ                      Chinese, Dim Sum, Restaurants   \n",
       "Jff5hTK1ZMLKS06sOSNWdA  Hotels & Travel, Hotels, Event Planning & Serv...   \n",
       "cQ8FKduGfVskvi11NZXsAg                                 Parks, Active Life   \n",
       "\n",
       "                                                                    hours  \n",
       "business_id                                                                \n",
       "5JucpCfHZltJh5r1JabjDg                                               None  \n",
       "fcXOEZdXYeZqnQ3lGlOXmg  {'Monday': '9:0-17:0', 'Tuesday': '9:0-17:0', ...  \n",
       "e_EMySqP0uwlVZfd8mRaaQ                                               None  \n",
       "Jff5hTK1ZMLKS06sOSNWdA                                               None  \n",
       "cQ8FKduGfVskvi11NZXsAg                                               None  "
      ]
     },
     "metadata": {},
     "output_type": "display_data"
    },
    {
     "data": {
      "text/html": [
       "<div>\n",
       "<style scoped>\n",
       "    .dataframe tbody tr th:only-of-type {\n",
       "        vertical-align: middle;\n",
       "    }\n",
       "\n",
       "    .dataframe tbody tr th {\n",
       "        vertical-align: top;\n",
       "    }\n",
       "\n",
       "    .dataframe thead th {\n",
       "        text-align: right;\n",
       "    }\n",
       "</style>\n",
       "<table border=\"1\" class=\"dataframe\">\n",
       "  <thead>\n",
       "    <tr style=\"text-align: right;\">\n",
       "      <th></th>\n",
       "      <th>name</th>\n",
       "      <th>review_count</th>\n",
       "      <th>yelping_since</th>\n",
       "      <th>useful</th>\n",
       "      <th>funny</th>\n",
       "      <th>cool</th>\n",
       "      <th>elite</th>\n",
       "      <th>friends</th>\n",
       "      <th>fans</th>\n",
       "      <th>average_stars</th>\n",
       "      <th>...</th>\n",
       "      <th>compliment_more</th>\n",
       "      <th>compliment_profile</th>\n",
       "      <th>compliment_cute</th>\n",
       "      <th>compliment_list</th>\n",
       "      <th>compliment_note</th>\n",
       "      <th>compliment_plain</th>\n",
       "      <th>compliment_cool</th>\n",
       "      <th>compliment_funny</th>\n",
       "      <th>compliment_writer</th>\n",
       "      <th>compliment_photos</th>\n",
       "    </tr>\n",
       "    <tr>\n",
       "      <th>user_id</th>\n",
       "      <th></th>\n",
       "      <th></th>\n",
       "      <th></th>\n",
       "      <th></th>\n",
       "      <th></th>\n",
       "      <th></th>\n",
       "      <th></th>\n",
       "      <th></th>\n",
       "      <th></th>\n",
       "      <th></th>\n",
       "      <th></th>\n",
       "      <th></th>\n",
       "      <th></th>\n",
       "      <th></th>\n",
       "      <th></th>\n",
       "      <th></th>\n",
       "      <th></th>\n",
       "      <th></th>\n",
       "      <th></th>\n",
       "      <th></th>\n",
       "      <th></th>\n",
       "    </tr>\n",
       "  </thead>\n",
       "  <tbody>\n",
       "    <tr>\n",
       "      <th>U4INQZOPSUaj8hMjLlZ3KA</th>\n",
       "      <td>Michael</td>\n",
       "      <td>4308</td>\n",
       "      <td>2008-01-31 02:55:30</td>\n",
       "      <td>22757</td>\n",
       "      <td>10209</td>\n",
       "      <td>16249</td>\n",
       "      <td>2008,2010,2011,2012,2013,2014,2015</td>\n",
       "      <td>yqumc_CYlWeghZ5vM3Ilyw, mX84lBw8jwS2uQqdgKu_aA...</td>\n",
       "      <td>912</td>\n",
       "      <td>3.88</td>\n",
       "      <td>...</td>\n",
       "      <td>75</td>\n",
       "      <td>43</td>\n",
       "      <td>13</td>\n",
       "      <td>52</td>\n",
       "      <td>442</td>\n",
       "      <td>656</td>\n",
       "      <td>801</td>\n",
       "      <td>801</td>\n",
       "      <td>663</td>\n",
       "      <td>634</td>\n",
       "    </tr>\n",
       "    <tr>\n",
       "      <th>GYMIDghm2k7gSTpyKNid1Q</th>\n",
       "      <td>David</td>\n",
       "      <td>764</td>\n",
       "      <td>2009-11-16 05:47:43</td>\n",
       "      <td>2208</td>\n",
       "      <td>983</td>\n",
       "      <td>1193</td>\n",
       "      <td>2010,2011,2012,2013,2014,2015,2016,2017,2018</td>\n",
       "      <td>Fw7234jE2NpKIxA7OHNQeA, GdawZ1FdT-fvZ0BP1PZV9A...</td>\n",
       "      <td>63</td>\n",
       "      <td>3.55</td>\n",
       "      <td>...</td>\n",
       "      <td>18</td>\n",
       "      <td>32</td>\n",
       "      <td>4</td>\n",
       "      <td>6</td>\n",
       "      <td>120</td>\n",
       "      <td>587</td>\n",
       "      <td>386</td>\n",
       "      <td>386</td>\n",
       "      <td>113</td>\n",
       "      <td>69</td>\n",
       "    </tr>\n",
       "    <tr>\n",
       "      <th>l1jYrj9DvTe4t92kGEH3BQ</th>\n",
       "      <td>V</td>\n",
       "      <td>257</td>\n",
       "      <td>2014-05-12 04:49:30</td>\n",
       "      <td>266</td>\n",
       "      <td>104</td>\n",
       "      <td>183</td>\n",
       "      <td>2017</td>\n",
       "      <td>LDhgLrBDHxTbzLY1O3XkZQ, 5vGVjw4erJX-FsHS60bWpA...</td>\n",
       "      <td>13</td>\n",
       "      <td>3.95</td>\n",
       "      <td>...</td>\n",
       "      <td>0</td>\n",
       "      <td>0</td>\n",
       "      <td>1</td>\n",
       "      <td>0</td>\n",
       "      <td>10</td>\n",
       "      <td>10</td>\n",
       "      <td>17</td>\n",
       "      <td>17</td>\n",
       "      <td>2</td>\n",
       "      <td>13</td>\n",
       "    </tr>\n",
       "    <tr>\n",
       "      <th>Vc4QSYKAOf8NXriGXo919Q</th>\n",
       "      <td>Laurel</td>\n",
       "      <td>394</td>\n",
       "      <td>2011-08-29 02:35:29</td>\n",
       "      <td>920</td>\n",
       "      <td>253</td>\n",
       "      <td>386</td>\n",
       "      <td>2012,2013,2014,2015,2016,2017,2018</td>\n",
       "      <td>LqOAgmXiJoPV4HEsKjfDRQ, oyQqCjdK_u1FiPdyaNov_w...</td>\n",
       "      <td>21</td>\n",
       "      <td>3.88</td>\n",
       "      <td>...</td>\n",
       "      <td>4</td>\n",
       "      <td>1</td>\n",
       "      <td>3</td>\n",
       "      <td>7</td>\n",
       "      <td>44</td>\n",
       "      <td>89</td>\n",
       "      <td>95</td>\n",
       "      <td>95</td>\n",
       "      <td>36</td>\n",
       "      <td>3</td>\n",
       "    </tr>\n",
       "    <tr>\n",
       "      <th>zBIFEYvXRQLKQbEpSXipIA</th>\n",
       "      <td>Jay</td>\n",
       "      <td>65</td>\n",
       "      <td>2013-10-10 14:34:21</td>\n",
       "      <td>41</td>\n",
       "      <td>5</td>\n",
       "      <td>14</td>\n",
       "      <td></td>\n",
       "      <td>bOAI63GjcSSiKR23nX1Suw, gT-BXzd3N94JRQM0V4r7yA...</td>\n",
       "      <td>3</td>\n",
       "      <td>3.79</td>\n",
       "      <td>...</td>\n",
       "      <td>0</td>\n",
       "      <td>0</td>\n",
       "      <td>0</td>\n",
       "      <td>0</td>\n",
       "      <td>2</td>\n",
       "      <td>5</td>\n",
       "      <td>2</td>\n",
       "      <td>2</td>\n",
       "      <td>1</td>\n",
       "      <td>0</td>\n",
       "    </tr>\n",
       "  </tbody>\n",
       "</table>\n",
       "<p>5 rows × 21 columns</p>\n",
       "</div>"
      ],
      "text/plain": [
       "                           name  review_count        yelping_since  useful  \\\n",
       "user_id                                                                      \n",
       "U4INQZOPSUaj8hMjLlZ3KA  Michael          4308  2008-01-31 02:55:30   22757   \n",
       "GYMIDghm2k7gSTpyKNid1Q    David           764  2009-11-16 05:47:43    2208   \n",
       "l1jYrj9DvTe4t92kGEH3BQ        V           257  2014-05-12 04:49:30     266   \n",
       "Vc4QSYKAOf8NXriGXo919Q   Laurel           394  2011-08-29 02:35:29     920   \n",
       "zBIFEYvXRQLKQbEpSXipIA      Jay            65  2013-10-10 14:34:21      41   \n",
       "\n",
       "                        funny   cool  \\\n",
       "user_id                                \n",
       "U4INQZOPSUaj8hMjLlZ3KA  10209  16249   \n",
       "GYMIDghm2k7gSTpyKNid1Q    983   1193   \n",
       "l1jYrj9DvTe4t92kGEH3BQ    104    183   \n",
       "Vc4QSYKAOf8NXriGXo919Q    253    386   \n",
       "zBIFEYvXRQLKQbEpSXipIA      5     14   \n",
       "\n",
       "                                                               elite  \\\n",
       "user_id                                                                \n",
       "U4INQZOPSUaj8hMjLlZ3KA            2008,2010,2011,2012,2013,2014,2015   \n",
       "GYMIDghm2k7gSTpyKNid1Q  2010,2011,2012,2013,2014,2015,2016,2017,2018   \n",
       "l1jYrj9DvTe4t92kGEH3BQ                                          2017   \n",
       "Vc4QSYKAOf8NXriGXo919Q            2012,2013,2014,2015,2016,2017,2018   \n",
       "zBIFEYvXRQLKQbEpSXipIA                                                 \n",
       "\n",
       "                                                                  friends  \\\n",
       "user_id                                                                     \n",
       "U4INQZOPSUaj8hMjLlZ3KA  yqumc_CYlWeghZ5vM3Ilyw, mX84lBw8jwS2uQqdgKu_aA...   \n",
       "GYMIDghm2k7gSTpyKNid1Q  Fw7234jE2NpKIxA7OHNQeA, GdawZ1FdT-fvZ0BP1PZV9A...   \n",
       "l1jYrj9DvTe4t92kGEH3BQ  LDhgLrBDHxTbzLY1O3XkZQ, 5vGVjw4erJX-FsHS60bWpA...   \n",
       "Vc4QSYKAOf8NXriGXo919Q  LqOAgmXiJoPV4HEsKjfDRQ, oyQqCjdK_u1FiPdyaNov_w...   \n",
       "zBIFEYvXRQLKQbEpSXipIA  bOAI63GjcSSiKR23nX1Suw, gT-BXzd3N94JRQM0V4r7yA...   \n",
       "\n",
       "                        fans  average_stars  ...  compliment_more  \\\n",
       "user_id                                      ...                    \n",
       "U4INQZOPSUaj8hMjLlZ3KA   912           3.88  ...               75   \n",
       "GYMIDghm2k7gSTpyKNid1Q    63           3.55  ...               18   \n",
       "l1jYrj9DvTe4t92kGEH3BQ    13           3.95  ...                0   \n",
       "Vc4QSYKAOf8NXriGXo919Q    21           3.88  ...                4   \n",
       "zBIFEYvXRQLKQbEpSXipIA     3           3.79  ...                0   \n",
       "\n",
       "                        compliment_profile  compliment_cute  compliment_list  \\\n",
       "user_id                                                                        \n",
       "U4INQZOPSUaj8hMjLlZ3KA                  43               13               52   \n",
       "GYMIDghm2k7gSTpyKNid1Q                  32                4                6   \n",
       "l1jYrj9DvTe4t92kGEH3BQ                   0                1                0   \n",
       "Vc4QSYKAOf8NXriGXo919Q                   1                3                7   \n",
       "zBIFEYvXRQLKQbEpSXipIA                   0                0                0   \n",
       "\n",
       "                        compliment_note  compliment_plain  compliment_cool  \\\n",
       "user_id                                                                      \n",
       "U4INQZOPSUaj8hMjLlZ3KA              442               656              801   \n",
       "GYMIDghm2k7gSTpyKNid1Q              120               587              386   \n",
       "l1jYrj9DvTe4t92kGEH3BQ               10                10               17   \n",
       "Vc4QSYKAOf8NXriGXo919Q               44                89               95   \n",
       "zBIFEYvXRQLKQbEpSXipIA                2                 5                2   \n",
       "\n",
       "                        compliment_funny  compliment_writer  compliment_photos  \n",
       "user_id                                                                         \n",
       "U4INQZOPSUaj8hMjLlZ3KA               801                663                634  \n",
       "GYMIDghm2k7gSTpyKNid1Q               386                113                 69  \n",
       "l1jYrj9DvTe4t92kGEH3BQ                17                  2                 13  \n",
       "Vc4QSYKAOf8NXriGXo919Q                95                 36                  3  \n",
       "zBIFEYvXRQLKQbEpSXipIA                 2                  1                  0  \n",
       "\n",
       "[5 rows x 21 columns]"
      ]
     },
     "metadata": {},
     "output_type": "display_data"
    },
    {
     "data": {
      "text/html": [
       "<div>\n",
       "<style scoped>\n",
       "    .dataframe tbody tr th:only-of-type {\n",
       "        vertical-align: middle;\n",
       "    }\n",
       "\n",
       "    .dataframe tbody tr th {\n",
       "        vertical-align: top;\n",
       "    }\n",
       "\n",
       "    .dataframe thead th {\n",
       "        text-align: right;\n",
       "    }\n",
       "</style>\n",
       "<table border=\"1\" class=\"dataframe\">\n",
       "  <thead>\n",
       "    <tr style=\"text-align: right;\">\n",
       "      <th></th>\n",
       "      <th>user_id</th>\n",
       "      <th>business_id</th>\n",
       "      <th>stars</th>\n",
       "      <th>useful</th>\n",
       "      <th>funny</th>\n",
       "      <th>cool</th>\n",
       "      <th>text</th>\n",
       "      <th>date</th>\n",
       "    </tr>\n",
       "    <tr>\n",
       "      <th>review_id</th>\n",
       "      <th></th>\n",
       "      <th></th>\n",
       "      <th></th>\n",
       "      <th></th>\n",
       "      <th></th>\n",
       "      <th></th>\n",
       "      <th></th>\n",
       "      <th></th>\n",
       "    </tr>\n",
       "  </thead>\n",
       "  <tbody>\n",
       "    <tr>\n",
       "      <th>yi0R0Ugj_xUx_Nek0-_Qig</th>\n",
       "      <td>dacAIZ6fTM6mqwW5uxkskg</td>\n",
       "      <td>ikCg8xy5JIg_NGPx-MSIDA</td>\n",
       "      <td>5.0</td>\n",
       "      <td>0</td>\n",
       "      <td>0</td>\n",
       "      <td>0</td>\n",
       "      <td>Went in for a lunch. Steak sandwich was delici...</td>\n",
       "      <td>2018-01-09 20:56:38</td>\n",
       "    </tr>\n",
       "    <tr>\n",
       "      <th>eed44nI0eZ4BGKtKXsRJhQ</th>\n",
       "      <td>tAcB1ZohRtjozsymvqqHzQ</td>\n",
       "      <td>m7ommfJFalI47UksyX04Iw</td>\n",
       "      <td>1.0</td>\n",
       "      <td>6</td>\n",
       "      <td>2</td>\n",
       "      <td>1</td>\n",
       "      <td>Met a friend for dinner there tonight. The ser...</td>\n",
       "      <td>2014-09-25 08:15:44</td>\n",
       "    </tr>\n",
       "    <tr>\n",
       "      <th>UoFxqWXBluvS4Q32spb8Lg</th>\n",
       "      <td>5rWm6uBPeewOiml4pcqp3w</td>\n",
       "      <td>m7ommfJFalI47UksyX04Iw</td>\n",
       "      <td>4.0</td>\n",
       "      <td>0</td>\n",
       "      <td>0</td>\n",
       "      <td>0</td>\n",
       "      <td>Another solid BBQ place in Calgary. This is de...</td>\n",
       "      <td>2014-10-27 04:22:34</td>\n",
       "    </tr>\n",
       "    <tr>\n",
       "      <th>ImAnCO3PJXW9fhh7yEazrw</th>\n",
       "      <td>TcByPmEbsEQYJYT7IBKXdg</td>\n",
       "      <td>1-mycIcKFGbvqLE60XrwnQ</td>\n",
       "      <td>3.0</td>\n",
       "      <td>0</td>\n",
       "      <td>0</td>\n",
       "      <td>0</td>\n",
       "      <td>I normally stop here for breakfast when travel...</td>\n",
       "      <td>2014-02-05 19:00:13</td>\n",
       "    </tr>\n",
       "    <tr>\n",
       "      <th>g6DFfe58tG9wnPaEnGexfQ</th>\n",
       "      <td>lxHVzV6O2ZU4gm8tA3wVZw</td>\n",
       "      <td>cLx7rt6JTTMU6aO4kBPLnA</td>\n",
       "      <td>5.0</td>\n",
       "      <td>0</td>\n",
       "      <td>0</td>\n",
       "      <td>0</td>\n",
       "      <td>Great food and greatCustomer service.They mess...</td>\n",
       "      <td>2016-09-30 19:39:51</td>\n",
       "    </tr>\n",
       "  </tbody>\n",
       "</table>\n",
       "</div>"
      ],
      "text/plain": [
       "                                       user_id             business_id  stars  \\\n",
       "review_id                                                                       \n",
       "yi0R0Ugj_xUx_Nek0-_Qig  dacAIZ6fTM6mqwW5uxkskg  ikCg8xy5JIg_NGPx-MSIDA    5.0   \n",
       "eed44nI0eZ4BGKtKXsRJhQ  tAcB1ZohRtjozsymvqqHzQ  m7ommfJFalI47UksyX04Iw    1.0   \n",
       "UoFxqWXBluvS4Q32spb8Lg  5rWm6uBPeewOiml4pcqp3w  m7ommfJFalI47UksyX04Iw    4.0   \n",
       "ImAnCO3PJXW9fhh7yEazrw  TcByPmEbsEQYJYT7IBKXdg  1-mycIcKFGbvqLE60XrwnQ    3.0   \n",
       "g6DFfe58tG9wnPaEnGexfQ  lxHVzV6O2ZU4gm8tA3wVZw  cLx7rt6JTTMU6aO4kBPLnA    5.0   \n",
       "\n",
       "                        useful  funny  cool  \\\n",
       "review_id                                     \n",
       "yi0R0Ugj_xUx_Nek0-_Qig       0      0     0   \n",
       "eed44nI0eZ4BGKtKXsRJhQ       6      2     1   \n",
       "UoFxqWXBluvS4Q32spb8Lg       0      0     0   \n",
       "ImAnCO3PJXW9fhh7yEazrw       0      0     0   \n",
       "g6DFfe58tG9wnPaEnGexfQ       0      0     0   \n",
       "\n",
       "                                                                     text  \\\n",
       "review_id                                                                   \n",
       "yi0R0Ugj_xUx_Nek0-_Qig  Went in for a lunch. Steak sandwich was delici...   \n",
       "eed44nI0eZ4BGKtKXsRJhQ  Met a friend for dinner there tonight. The ser...   \n",
       "UoFxqWXBluvS4Q32spb8Lg  Another solid BBQ place in Calgary. This is de...   \n",
       "ImAnCO3PJXW9fhh7yEazrw  I normally stop here for breakfast when travel...   \n",
       "g6DFfe58tG9wnPaEnGexfQ  Great food and greatCustomer service.They mess...   \n",
       "\n",
       "                                       date  \n",
       "review_id                                    \n",
       "yi0R0Ugj_xUx_Nek0-_Qig  2018-01-09 20:56:38  \n",
       "eed44nI0eZ4BGKtKXsRJhQ  2014-09-25 08:15:44  \n",
       "UoFxqWXBluvS4Q32spb8Lg  2014-10-27 04:22:34  \n",
       "ImAnCO3PJXW9fhh7yEazrw  2014-02-05 19:00:13  \n",
       "g6DFfe58tG9wnPaEnGexfQ  2016-09-30 19:39:51  "
      ]
     },
     "metadata": {},
     "output_type": "display_data"
    }
   ],
   "source": [
    "#rootdir = './yelp/data'\n",
<<<<<<< HEAD
    "rootdir = './yelp/data/Mesa'\n",
=======
    "rootdir = './yelp/data/Calgary'\n",
>>>>>>> e75337b1a569852543210728d2520e7012f26396
    "\n",
    "df_business = pd.DataFrame()\n",
    "df_users = pd.DataFrame()\n",
    "df_reviews = pd.DataFrame()\n",
    "\n",
    "count = 0\n",
    "\n",
    "def load_jsons(data_path, file):\n",
    "    # function to help load json files, since sometimes they give utf8 encoding errors, sometimes they don't\n",
    "    file_path = os.path.join(subdir, file)\n",
    "    lines = []\n",
    "    with open(file_path) as jsons:\n",
    "        try:\n",
    "            lines = [json.loads(json_line) for json_line in jsons]\n",
    "        except:\n",
    "            print(file_path)\n",
    "    return pd.DataFrame(lines)\n",
    "\n",
    "for subdir, dirs, files in os.walk(rootdir):\n",
    "    if count == 200: #1078 is the total amount of cities\n",
    "        break\n",
    "        \n",
    "    for file in files:\n",
    "        if os.path.basename(file) == 'business.json':\n",
    "            df_business = df_business.append(load_jsons(subdir, file))\n",
    "        if os.path.basename(file) == 'user.json':\n",
    "            df_users = df_users.append(load_jsons(subdir, file))\n",
    "        if os.path.basename(file) == 'review.json':\n",
    "            df_reviews = df_reviews.append(load_jsons(subdir, file))\n",
    "    count += 1\n",
    "\n",
    "df_business = df_business.set_index('business_id')\n",
    "df_users = df_users.set_index('user_id')\n",
    "df_reviews = df_reviews.set_index('review_id')\n",
    "\n",
    "display(df_business.head())\n",
    "display(df_users.head())\n",
    "display(df_reviews.head())"
   ]
  },
  {
   "cell_type": "code",
   "execution_count": 3,
   "metadata": {
    "colab": {},
    "colab_type": "code",
    "id": "3P5IHlh_Fle2"
   },
   "outputs": [],
   "source": [
    "df_business.to_pickle('./business_pickle.pkl')\n",
    "df_users.to_pickle('./users_pickle.pkl')\n",
    "df_reviews.to_pickle('./reviews_pickle.pkl')"
   ]
  },
  {
   "cell_type": "code",
   "execution_count": 4,
   "metadata": {
    "colab": {},
    "colab_type": "code",
    "id": "d8s5fYo_Fle_"
   },
   "outputs": [],
   "source": [
    "df_business = pd.read_pickle('./business_pickle.pkl')\n",
    "df_users = pd.read_pickle('./users_pickle.pkl')\n",
    "df_reviews = pd.read_pickle('./reviews_pickle.pkl')"
   ]
  },
  {
   "cell_type": "code",
   "execution_count": null,
   "metadata": {},
   "outputs": [],
   "source": [
    "display(df_business)\n",
    "display(df_users)\n",
    "display(df_reviews)"
   ]
  },
  {
   "cell_type": "markdown",
   "metadata": {
    "colab_type": "text",
    "id": "ILjMqUbwFlfG"
   },
   "source": [
    "### Clean up Data For Content Based <a name='cleanup'></a>\n",
    "\n",
    "[Top](#Top)"
   ]
  },
  {
   "cell_type": "code",
   "execution_count": null,
   "metadata": {
    "colab": {},
    "colab_type": "code",
    "id": "zQAexx_mFlfH"
   },
   "outputs": [],
   "source": [
    "cat_dict = defaultdict(lambda: defaultdict(int))\n",
    "\n",
    "# Drop na categories\n",
    "df_business = df_business[df_business['categories'].notna()]\n",
    "\n",
    "# Normalize long, lat, stars & review_count\n",
    "#x = cos(lat) * cos(lon)\n",
    "#y = cos(lat) * sin(lon)\n",
    "df_business['stars'] = (df_business['stars']-df_business['stars'].min()) / (df_business['stars'].max()-df_business['stars'].min())\n",
    "df_business['review_count'] = (df_business['review_count']-df_business['review_count'].min()) / (df_business['review_count'].max()-df_business['review_count'].min())\n",
    "#df_business['x_axis'] = np.cos(df_business['latitude']) * np.cos(df_business['longitude'])\n",
    "#df_business['y_axis'] = np.cos(df_business['latitude']) * np.sin(df_business['longitude'])\n",
    "\n",
    "# Dataframe of categories one hot encoded per business_id\n",
    "df_tmp = df_business['categories'].str.split(pat=', ',expand=True)\n",
    "\n",
    "# Create dict of categories\n",
    "for index, row in df_tmp.iterrows():\n",
    "    for _,elem in row.items():\n",
    "        if elem and elem not in cat_dict[index]:\n",
    "            cat_dict[index][elem] += 1  "
   ]
  },
  {
   "cell_type": "code",
   "execution_count": null,
   "metadata": {
    "colab": {},
    "colab_type": "code",
    "id": "HhwRJvKcFlfP"
   },
   "outputs": [],
   "source": [
    "# Create DF from dict\n",
    "df_cats = pd.DataFrame.from_dict(cat_dict, orient='index')\n",
    "\n",
    "#Drop NaN column\n",
    "df_cats = df_cats.drop(columns='NaN',errors='ignore')\n",
    "\n",
    "# Fillna with 0\n",
    "df_cats = df_cats.fillna(0)\n",
    "\n",
    "# Join back into business\n",
    "df_business = df_business.join(df_cats,on='business_id')\n",
    "\n",
    "# Drop cols\n",
    "df_business = df_business.drop(columns=['address','state','postal_code','attributes','categories','hours'],errors='ignore')\n",
    "\n",
    "# Remove elite & friends columns because of non use\n",
    "df_users = df_users.drop(columns=['elite','friends'],axis=1,errors='ignore')"
   ]
  },
  {
   "cell_type": "code",
   "execution_count": null,
   "metadata": {
    "colab": {},
    "colab_type": "code",
    "id": "eVdgRVODFlfV",
    "outputId": "e7bc9cbc-ae7a-490b-88cc-54824a55b9a9"
   },
   "outputs": [],
   "source": [
    "display(df_business.head())"
   ]
  },
  {
   "cell_type": "code",
   "execution_count": null,
   "metadata": {
    "colab": {},
    "colab_type": "code",
    "id": "q1tr28qCFlfb"
   },
   "outputs": [],
   "source": [
    "df_business.to_pickle('./business_pickle.pkl')\n",
    "df_users.to_pickle('./users_pickle.pkl')\n",
    "df_reviews.to_pickle('./reviews_pickle.pkl')"
   ]
  },
  {
   "cell_type": "code",
   "execution_count": null,
   "metadata": {},
   "outputs": [],
   "source": [
    "df_business = pd.read_pickle('./business_pickle.pkl')\n",
    "df_users = pd.read_pickle('./users_pickle.pkl')\n",
    "df_reviews = pd.read_pickle('./reviews_pickle.pkl')"
   ]
  },
  {
   "cell_type": "markdown",
   "metadata": {
    "colab_type": "text",
    "id": "XFKZ1tMYFlfi"
   },
   "source": [
    "### Basic Data Stats for Content Based <a name='basicdata'></a>\n",
    "\n",
    "[Top](#Top)"
   ]
  },
  {
   "cell_type": "code",
   "execution_count": null,
   "metadata": {
    "colab": {},
    "colab_type": "code",
    "id": "AQ3QBy83Flfj",
    "outputId": "d27868b8-3425-495e-e204-b3164bc3fbd3"
   },
   "outputs": [],
   "source": [
    "# Some information about the category amounts per business\n",
    "\n",
    "# series of amount of categories per business\n",
    "cats_business = df_cats.sum(axis=1).sort_values(ascending=False)\n",
    "display(cats_business)\n",
    "\n",
    "avg_cats_bus = cats_business.mean()\n",
    "max_cats_bus = cats_business.max()\n",
    "min_cats_bus = cats_business.min()\n",
    "\n",
    "print('Average amount of categories for businesses: ', avg_cats_bus)\n",
    "print('Minimum amount of categories for businesses: ', min_cats_bus)\n",
    "print('Maximum amount of categories for businesses: ', max_cats_bus)\n",
    "\n",
    "# series of amount of businesses with the index amount of categories\n",
    "cat_bus_distribution = cats_business.value_counts()\n",
    "display(cat_bus_distribution)"
   ]
  },
  {
   "cell_type": "code",
   "execution_count": null,
   "metadata": {
    "colab": {},
    "colab_type": "code",
    "id": "oC4TPFiBFlfp",
    "outputId": "53063171-ff50-44b8-a4b7-743bf76fb084"
   },
   "outputs": [],
   "source": [
    "# series of number of businesses with index as category\n",
    "cats_presences = df_cats.sum(axis=0).sort_values(ascending=False)\n",
    "display(cats_presences)\n",
    "\n",
    "avg_cats = cats_presences.mean()\n",
    "max_cats = cats_presences.max()\n",
    "min_cats = cats_presences.min()\n",
    "\n",
    "print('Average amount of presence of a category: ', avg_cats)\n",
    "print('Minimum amount of presence of a category: ', min_cats)\n",
<<<<<<< HEAD
    "print('Maximum amount of presences of a category: ', max_cats)"
=======
    "print('Maximum amount of presences of a categry: ', max_cats)"
>>>>>>> e75337b1a569852543210728d2520e7012f26396
   ]
  },
  {
   "cell_type": "markdown",
   "metadata": {
    "colab_type": "text",
    "id": "nyxJ_0yjFlfv"
   },
   "source": [
    "### Plots <a name='plots'></a>\n",
    "\n",
    "[Top](#Top)"
   ]
  },
  {
   "cell_type": "code",
   "execution_count": null,
   "metadata": {
    "colab": {},
    "colab_type": "code",
    "id": "0J2DzcCLFlfx"
   },
   "outputs": [],
   "source": [
    "hist_bus = df_business.hist(column=['stars','review_count'])\n",
<<<<<<< HEAD
    "# df_business.plot(x='x_axis',y='y_axis',kind='scatter')\n",
    "df_business.plot(x='longitude', y='latitude', kind='scatter')\n",
=======
    "#df_business.plot(x='x_axis',y='y_axis',kind='scatter')\n",
    "df_business.plot(x='longitude',y='latitude',kind='scatter')\n",
>>>>>>> e75337b1a569852543210728d2520e7012f26396
    "plt.show()\n",
    "cats_presences.plot()\n",
    "plt.show()\n",
    "cats_business.plot()\n",
    "plt.show()\n",
    "\n",
    "total_cats = sum(cat_bus_distribution.values)\n",
<<<<<<< HEAD
    "percentages = [(values/total_cats) * 100 for value in cat_bus_distribution.values]\n",
=======
    "percentages = [(value/total_cats) * 100 for value in cat_bus_distribution.values]\n",
>>>>>>> e75337b1a569852543210728d2520e7012f26396
    "\n",
    "fig1, ax1 = plt.subplots()\n",
    "ax1.pie(percentages, labels=cat_bus_distribution.index, autopct='%1.1f%%')\n",
    "ax1.axis('equal')\n",
    "plt.show()"
   ]
  },
  {
   "cell_type": "code",
   "execution_count": null,
   "metadata": {},
   "outputs": [],
   "source": [
    "df_business = pd.read_pickle('./business_pickle.pkl')\n",
    "df_cats = pd.read_pickle('./cats_pickle.pkl')\n",
    "df_users = pd.read_pickle('./users_pickle.pkl')\n",
    "df_reviews = pd.read_pickle('./reviews_pickle.pkl')"
   ]
  },
  {
   "cell_type": "markdown",
   "metadata": {},
   "source": [
    "### Cosine Similarity <a name='cossim'></a>\n",
    "\n",
    "[Top](#Top)"
   ]
  },
  {
   "cell_type": "code",
   "execution_count": null,
   "metadata": {},
   "outputs": [],
   "source": [
    "# Input vectors are series, convert to np array\n",
    "def cosineSim(vector, docVector):\n",
    "    vector = vector.to_numpy()\n",
    "    docVector = docVector.to_numpy()\n",
    "    \n",
    "    # Get lengths of vectors\n",
    "    sim = (np.sqrt(sum(vector**2))*np.sqrt(sum(docVector**2)))\n",
    "    \n",
    "    # Ensure no division by 0\n",
    "    if sim == 0.:\n",
    "        return np.nan\n",
    "    \n",
    "    # Calculate cosine sim\n",
    "    return vector.dot(docVector)/sim"
   ]
  },
  {
   "cell_type": "code",
   "execution_count": null,
   "metadata": {},
   "outputs": [],
   "source": [
    "def rankedBusinessList(df_business, queryVector):\n",
    "    df_bus_features = df_business.copy().drop(columns=['name','city','stars','review_count','is_open','Score Cos'],errors='ignore')\n",
    "    scoreList = np.zeros(len(df_business))\n",
    "    for i in range(len(df_bus_features)):\n",
    "        scoreList[i] = cosineSim(queryVector, df_bus_features.iloc[i])\n",
    "    \n",
    "    df_business['Score Cos'] = scoreList\n",
    "    return df_business.sort_values(by=['Score Cos','stars'],ascending=False)"
   ]
  },
  {
   "cell_type": "markdown",
   "metadata": {},
   "source": [
    "### Create Query Vector <a name='queryvector'></a>\n",
    "\n",
    "[Top](#Top)"
   ]
  },
  {
   "cell_type": "markdown",
   "metadata": {},
   "source": [
    "This first cell get the longitude and latitude of a given city and state, and normalizes both values."
   ]
  },
  {
   "cell_type": "code",
   "execution_count": null,
   "metadata": {},
   "outputs": [],
   "source": [
    "display(df_business['city'].value_counts().sort_values(ascending=False))"
   ]
  },
  {
   "cell_type": "code",
   "execution_count": null,
   "metadata": {},
   "outputs": [],
   "source": [
    "loc_string = 'Scottsdale AZ'\n",
    "gn = Nominatim(user_agent='WalterGKurtz')\n",
    "location = gn.geocode(loc_string)\n",
    "queryVector = pd.Series(data=0.,index=df_business.columns)\n",
    "queryVector.at['latitude'] = location.latitude\n",
    "queryVector.at['longitude'] = location.longitude\n",
    "#x = cos(lat) * cos(lon)\n",
    "#y = cos(lat) * sin(lon)\n",
    "#queryVector.at['x_axis'] = np.cos(location.latitude) * np.cos(location.longitude)\n",
    "#queryVector.at['y_axis'] = np.cos(location.latitude) * np.sin(location.longitude)\n"
   ]
  },
  {
   "cell_type": "markdown",
   "metadata": {},
   "source": [
    "The second cell inputs the preferences of the user."
   ]
  },
  {
   "cell_type": "code",
   "execution_count": null,
   "metadata": {},
   "outputs": [],
   "source": [
    "# Preferences\n",
    "queryVector = queryVector.drop(labels=['name','city','stars','review_count','is_open'],errors='ignore')\n",
    "queryVector.at['Automotive'] = 1.\n",
    "queryVector.at['Auto Repair'] = 1.\n",
    "queryVector.at['Fast Food'] = 1.\n",
    "queryVector.at['Restaurants'] = 1.\n",
    "queryVector.at['Pizza'] = 1.\n",
    "queryVector.at['Men\\'s Clothing'] = 1.\n",
    "queryVector.at['Women\\'s Clothing'] = 1.\n",
    "queryVector.at['Fashion'] = 1.\n",
    "queryVector.at['Bars'] = 1.\n",
    "display(queryVector)\n",
    "#queryVector.to_csv('test.csv', header=False)"
   ]
  },
  {
   "cell_type": "code",
   "execution_count": null,
   "metadata": {},
   "outputs": [],
   "source": [
    "display(rankedBusinessList(df_business,queryVector).head(20))"
   ]
  },
  {
   "cell_type": "markdown",
   "metadata": {},
   "source": [
    "### SVD <a name='svd'></a>\n",
    "\n",
    "[Top](#Top)"
   ]
  },
  {
   "cell_type": "code",
   "execution_count": null,
   "metadata": {},
   "outputs": [],
   "source": [
    "stars = df_business['stars'].values\n",
    "cities = df_business['city'].values\n",
    "names = df_business['name'].values\n",
    "bus_ids = df_business.index\n",
    "df_tmp_svd = df_business.copy().drop(columns=['name','city', 'stars','review_count','is_open', 'Score Cos'],errors='ignore').to_numpy()"
   ]
  },
  {
   "cell_type": "code",
   "execution_count": null,
   "metadata": {},
   "outputs": [],
   "source": [
    "# This code can be used to find the optimal amount of dimension by the SVD\n",
    "\n",
    "# trunc_svd = TruncatedSVD(n_components=len(df_tmp_svd[0])-1).fit(df_tmp_svd)\n",
    "# reduced_x = trunc_svd.transform(df_tmp_svd)\n",
    "# singles = trunc_svd.singular_values_\n",
    "\n",
    "# eigvals = singles**2 / np.sum(singles**2)\n",
    "# fig = plt.figure(figsize=(8,5))\n",
    "# sing_vals = np.arange(len(df_tmp_svd[0])-1) + 1\n",
    "# plt.plot(sing_vals[2:200], eigvals[2:200], 'ro-', linewidth=2)\n",
    "# plt.title('Scree Plot')\n",
    "# plt.xlabel('Component number')\n",
    "# plt.ylabel('Eigenvalue')\n",
    "# plt.show()"
   ]
  },
  {
   "cell_type": "code",
   "execution_count": null,
   "metadata": {},
   "outputs": [],
   "source": [
    "optimal_dims = 25\n",
    "trunc_svd = TruncatedSVD(n_components=optimal_dims).fit(df_tmp_svd)\n",
    "reduced_x = trunc_svd.transform(df_tmp_svd)"
   ]
  },
  {
   "cell_type": "code",
   "execution_count": null,
   "metadata": {},
   "outputs": [],
   "source": [
    "queryVectorReduced = trunc_svd.transform(np.array([queryVector]))\n",
    "\n",
    "df_reduced_x = pd.DataFrame(data=reduced_x, index=bus_ids)\n",
    "df_reduced_x.insert(0, 'stars', stars)\n",
    "df_reduced_x.insert(0, 'city', cities)\n",
    "df_reduced_x.insert(0, 'name', names)\n",
    "df_queryVectorReduced = pd.Series(data=queryVectorReduced[0])\n",
    "display(rankedBusinessList(df_reduced_x,df_queryVectorReduced).head(20))"
   ]
  },
  {
   "cell_type": "markdown",
   "metadata": {},
   "source": [
    "### K-means <a name='kmeans'></a>\n",
    "\n",
    "[Top](#Top)"
   ]
  },
  {
   "cell_type": "code",
   "execution_count": null,
   "metadata": {},
   "outputs": [],
   "source": []
  },
  {
   "cell_type": "code",
   "execution_count": null,
   "metadata": {},
   "outputs": [],
   "source": [
    "# # This block of code was used to find the optimal K, it takes very long to run, so that's why it is commented now.\n",
    "\n",
    "# from yellowbrick.cluster import KElbowVisualizer\n",
    "\n",
    "# df_bus_kmeans = df_reduced_x.copy().drop(columns=['name','city','stars','Score Cos'],errors='ignore').to_numpy()\n",
    "\n",
    "# # choose k\n",
    "\n",
    "# model = KMeans(random_state=0)\n",
    "# visualizer = KElbowVisualizer(model, k=[100, 200, 300, 400, 500, 600, 700, 800, 900, 1000])\n",
    "# visualizer.fit(df_bus_kmeans)        # Fit the data to the visualizer\n",
    "# visualizer.show() "
   ]
  },
  {
   "cell_type": "code",
   "execution_count": null,
   "metadata": {},
   "outputs": [],
   "source": [
    "df_bus_kmeans = df_reduced_x.copy().drop(columns=['name','city','stars','Score Cos'],errors='ignore').to_numpy()\n",
    "kmeans = KMeans(n_clusters=300,random_state=0).fit(df_bus_kmeans)"
   ]
  },
  {
   "cell_type": "code",
   "execution_count": null,
   "metadata": {},
   "outputs": [],
   "source": [
    "# Predict query vector\n",
    "labels = np.array(kmeans.predict(df_bus_kmeans))\n",
    "prediction = kmeans.predict([df_queryVectorReduced.to_numpy()])\n",
    "\n",
    "matches = [y[0] for y,val in np.ndenumerate(labels) if val == prediction]\n",
    "\n",
    "df_matched = df_business.iloc[matches]\n",
    "\n",
    "display(df_matched.sort_values(by=['stars'],ascending=False).head(20))"
   ]
  },
  {
   "cell_type": "markdown",
   "metadata": {},
   "source": [
    "### Cohen's Kappa <a name='cohenkappa'></a>\n",
    "\n",
    "[Top](#Top)"
   ]
  },
  {
   "cell_type": "code",
   "execution_count": null,
   "metadata": {},
   "outputs": [],
   "source": [
    "# Dataformat\n",
    "# 1 | 0\n",
    "# 1 | 1\n",
    "# 0 | 1\n",
    "\n",
    "def PE(data):\n",
    "    '''On input data, return the P(E) (expected agreement).'''\n",
    "    relevant = 0\n",
    "    nonrelevant = 0\n",
    "    # Iterate over the data\n",
    "    for i in data:\n",
    "        for j in i:\n",
    "            \n",
    "            # Top up the relevant documents by one if 1 is encountered\n",
    "            if j == 1:\n",
    "                relevant += 1\n",
    "            # Top up the nonrelevant documents by one if 0 is encountered\n",
    "            if j == 0:\n",
    "                nonrelevant += 1\n",
    "\n",
    "    # Calculates the total of inspected documents for the judges combined\n",
    "    total = len(data)*2\n",
    "\n",
    "    # Calculates the pooled marginals\n",
    "    rel = relevant/total\n",
    "    nonrel = nonrelevant/total\n",
    "\n",
    "    # Calculates the P(E)\n",
    "    P_E = nonrel**2 + rel **2    \n",
    "    return    P_E \n",
    "\n",
    "\n",
    "def kappa(data, P_E):\n",
    "    agree = 0\n",
    "    for i in data:\n",
    "        temp = None\n",
    "        for j in i:\n",
    "            if temp == j:\n",
    "                agree += 1\n",
    "            temp = j\n",
    "    P_A = agree / len(data)\n",
    "    if P_E == 1:\n",
    "        kappa = 1\n",
    "    else:\n",
    "        kappa = (P_A - P_E)/(1 - P_E)   \n",
    "    return kappa"
   ]
  },
  {
   "cell_type": "code",
   "execution_count": null,
   "metadata": {},
   "outputs": [],
   "source": [
    "def AveragePrecision(ranked_list_of_results, list_of_relevant_objects):\n",
    "    total = len(list_of_relevant_objects)\n",
    "    sumPk = 0\n",
    "    rank = 0\n",
    "    relevant = 0\n",
    "    for result in ranked_list_of_results:\n",
    "        rank += 1\n",
    "        if result in list_of_relevant_objects:\n",
    "            relevant += 1\n",
    "            sumPk += relevant/rank\n",
    "            \n",
    "    aprecision = sumPk/total\n",
    "    return aprecision"
   ]
  },
  {
   "cell_type": "code",
   "execution_count": null,
   "metadata": {},
   "outputs": [],
   "source": [
    "ranked_result_list = list(range(20))\n",
    "relevant_objects_cos = [0,1,2,3,4,5,6,7,8,10,11,12,19]\n",
    "relevant_objects_kmeans = [0,1,4,5,6,7,8,9,10,11,15,16,17,18]\n",
    "print('Average Precision of cosine sim: ', AveragePrecision(ranked_result_list,relevant_objects_cos))\n",
    "print('Average Precision of K-Means: ', AveragePrecision(ranked_result_list,relevant_objects_kmeans))"
   ]
  },
  {
   "cell_type": "markdown",
   "metadata": {},
   "source": [
    "## Item-Based Collaborative Filtering Algorithm <a name='itembasedcollab'></a>\n",
    "\n",
    "[Top](#Top)\n"
   ]
  },
  {
   "cell_type": "markdown",
   "metadata": {},
   "source": [
    "### Basic Data Stats for Collaborative Based <a name='basicdatacollab'></a>\n",
    "\n",
    "[Top](#Top)\n"
   ]
  },
  {
   "cell_type": "code",
   "execution_count": null,
   "metadata": {},
   "outputs": [],
   "source": [
    "# reset index\n",
    "df_reviews = df_reviews.reset_index()\n",
    "\n",
    "# count reviews per user and reviews per business\n",
    "reviews_per_user = df_reviews.groupby(\"user_id\")[\"review_id\"].count().sort_values(ascending=False).to_frame()\n",
    "reviews_per_business = df_reviews.groupby(\"business_id\")[\"review_id\"].count().sort_values(ascending=False).to_frame()\n",
    "\n",
    "\n",
    "# plot both review counts\n",
    "user_plot = reviews_per_user.plot()\n",
    "business_plot = reviews_per_business.plot()"
   ]
  },
  {
   "cell_type": "code",
   "execution_count": null,
   "metadata": {},
   "outputs": [],
   "source": [
    "\"\"\"\"\"\n",
    "userplot --> the distribution of the reviews over the users (long-tail): considering the fact that there are more\n",
    "reviews on business than users (one user can rate more than 1 business), it is probably better to choose\n",
    "item-based CF than user-based CF. \n",
    "\n",
    "\"\"\"\"\"\n",
    "users_series = df_users['review_count'].sort_values(ascending=False).drop_duplicates(keep='first')\n",
    "\n",
    "display(users_series)\n",
    "userplot = users_series.plot()\n",
    "\n",
    "userplot.set(xlabel='user_id', ylabel='review_count')\n",
    "plt.show()"
   ]
  },
  {
   "cell_type": "markdown",
   "metadata": {},
   "source": [
    "### Implementation <a name='implementation'></a>\n",
    "\n",
    "\n",
    "[Top](#Top)"
   ]
  },
  {
   "cell_type": "markdown",
   "metadata": {},
   "source": [
    "### Deel 1: Mesa <a name='mesa'></a>\n",
    "\n",
    "[Top](#Top)"
   ]
  },
  {
   "cell_type": "code",
   "execution_count": null,
   "metadata": {},
   "outputs": [],
   "source": [
    "reviews = df_reviews[:5000]\n",
    "reviews"
   ]
  },
  {
   "cell_type": "code",
   "execution_count": null,
   "metadata": {},
   "outputs": [],
   "source": [
    "def pivot_ratings(ratings):\n",
    "    pivottable = ratings.pivot_table(index=\"business_id\", columns=\"user_id\", values=\"stars\")\n",
    "    return pivottable\n",
    "\n",
    "utility_matrix = pivot_ratings(reviews)\n",
<<<<<<< HEAD
    "display(utility_matrix.loc['mRUVMJkUGxrByzMQ2MuOpA'][utility_matrix.loc['mRUVMJkUGxrByzMQ2MuOpA'].notna()])\n",
=======
    "display(utility_matrix.loc['m7ommfJFalI47UksyX04Iw'][utility_matrix.loc['m7ommfJFalI47UksyX04Iw'].notna()])\n",
>>>>>>> e75337b1a569852543210728d2520e7012f26396
    "display(utility_matrix)"
   ]
  },
  {
   "cell_type": "code",
   "execution_count": null,
   "metadata": {},
   "outputs": [],
   "source": [
    "def cosine_distance(matrix, id1, id2):\n",
    "    selected_features = matrix.loc[id1].notna() & matrix.loc[id2].notna()\n",
    "    \n",
    "    # if no matching features, return 'not a number' (NaN)\n",
    "    if not selected_features.any():\n",
    "        return np.nan\n",
    "    \n",
    "    # get the features from the matrix\n",
    "    features1 = matrix.loc[id1][selected_features]\n",
    "    features2 = matrix.loc[id2][selected_features]\n",
    "\n",
    "    #if sum(features1)==0. or sum(features2)==0.:\n",
    "        #return 1.\n",
    "    \n",
    "    if id1 == id2:\n",
    "        return 1.\n",
    "    \n",
    "    sim = (np.sqrt(sum(features1**2))*np.sqrt(sum(features2**2)))\n",
    "    \n",
    "    if sim == 0.:\n",
    "        return np.nan\n",
    "    \n",
    "    return sum(features1*features2)/sim\n",
    "    \n",
    "def create_similarity_matrix_cosine(matrix):\n",
    "    similarity_matrix = pd.DataFrame(0, index=matrix.index, columns=matrix.index, dtype=float)\n",
    "    # Iter of rows & columns, cause I couldnt get apply/-map to work\n",
    "    for index, row in similarity_matrix.iteritems():\n",
    "        for i in row.index:\n",
    "            similarity_matrix.at[index,i] = cosine_distance(matrix,index,i)\n",
    "    \n",
<<<<<<< HEAD
    "    return similarity_matrix"
=======
    "    return similarity_matrix\n",
    "\n",
    "#display(create_similarity_matrix_euclid(matrix))\n",
    "    \n",
    "#similarity = create_similarity_matrix_cosine(utility_matrix)\n",
    "#display(similarity)"
>>>>>>> e75337b1a569852543210728d2520e7012f26396
   ]
  },
  {
   "cell_type": "code",
   "execution_count": null,
   "metadata": {},
   "outputs": [],
   "source": [
    "def mean_center_columns(matrix):\n",
    "    return matrix.apply(lambda x: x - x.mean())\n",
    "\n",
    "centered_utility_matrix = mean_center_columns(utility_matrix)\n",
    "display(centered_utility_matrix)\n",
    "\n",
    "similarity = create_similarity_matrix_cosine(centered_utility_matrix)\n",
    "display(similarity)"
   ]
  },
  {
   "cell_type": "code",
   "execution_count": null,
   "metadata": {},
   "outputs": [],
   "source": [
    "similarity.to_pickle('./similarity_pickle.pkl')\n",
    "similarity_matrix_mesa = pd.read_pickle('./similarity_pickle.pkl')"
   ]
  },
  {
   "cell_type": "code",
   "execution_count": null,
   "metadata": {},
   "outputs": [],
   "source": [
    "# TEST neighborhood op eentje\n",
    "\n",
    "#def select_neighborhood(similarities, ratings, k):\n",
    "#    \"\"\" selects all items with similarity > 0  \"\"\"\n",
    "#    moviesNotWatched = ratings[ratings.isna()].index\n",
    "    \n",
    "#    similarities = similarities.where(lambda x : x > 0.00).dropna()\n",
    "#    similarities = similarities.drop(labels=moviesNotWatched,errors='ignore')\n",
    "    \n",
    "#    return similarities.sort_values(ascending=False)[:k]\n",
    "\n",
    "def select_neighborhood(similarities, ratings, k):\n",
    "    \"\"\" selects all items with similarity > 0  \"\"\"\n",
<<<<<<< HEAD
=======
    "    # drop all non watched movies\n",
>>>>>>> e75337b1a569852543210728d2520e7012f26396
    "    \n",
    "    for key,v in ratings.iteritems():\n",
    "        if np.isnan(v):\n",
    "            similarities = similarities.drop(labels=key)\n",
    "    \n",
    "    for key,v in similarities.iteritems():\n",
    "        if not v > 0.:\n",
    "            similarities = similarities.drop(labels=key)\n",
<<<<<<< HEAD
    "    \n",
    "    similarities = similarities.sort_values(ascending=False)\n",
    "    return similarities[:k]\n",
=======
    "            \n",
    "    similarities = similarities.sort_values(ascending=False)\n",
>>>>>>> e75337b1a569852543210728d2520e7012f26396
    "    \n",
    "    return similarities[:k]\n",
    "\n",
<<<<<<< HEAD
    "neighborhood = select_neighborhood(similarity[\"mRUVMJkUGxrByzMQ2MuOpA\"], utility_matrix[\"-mA3-1mN4JIEkqOtdbNXCQ\"], 10)\n",
    "display(neighborhood)\n"
=======
    "neighborhood = select_neighborhood(similarity[\"m7ommfJFalI47UksyX04Iw\"], utility_matrix[\"17iYh7v5zhZXINObBfZLoA\"], 10)\n",
    "display(neighborhood)"
>>>>>>> e75337b1a569852543210728d2520e7012f26396
   ]
  },
  {
   "cell_type": "code",
   "execution_count": null,
   "metadata": {},
   "outputs": [],
   "source": [
    "# TEST\n",
    "def weighted_mean(neighborhood, ratings):  \n",
    "    upper = 0\n",
    "    bottom = 0\n",
    "    \n",
    "    for index in neighborhood.index:\n",
    "        similarity = neighborhood.get(index)\n",
    "        upper += ratings.get(index) * similarity\n",
    "        bottom += similarity\n",
    "    \n",
    "    if bottom == 0:\n",
    "        return np.nan\n",
    "    else:\n",
    "        return upper / bottom\n",
    "\n",
<<<<<<< HEAD
    "neighborhood1 = select_neighborhood(similarity[\"mRUVMJkUGxrByzMQ2MuOpA\"], utility_matrix[\"-mA3-1mN4JIEkqOtdbNXCQ\"], 10)\n",
    "prediction1 = weighted_mean(neighborhood1, utility_matrix[\"-mA3-1mN4JIEkqOtdbNXCQ\"])\n",
    "\n",
    "\n",
    "print(f\"User -mA3-1mN4JIEkqOtdbNXCQ predicted rating for business mRUVMJkUGxrByzMQ2MuOpA is {prediction1:.2f}\")\n"
=======
    "\n",
    "neighborhood1 = select_neighborhood(similarity[\"m7ommfJFalI47UksyX04Iw\"], utility_matrix[\"17iYh7v5zhZXINObBfZLoA\"], 10)\n",
    "prediction1 = weighted_mean(neighborhood1, utility_matrix[\"17iYh7v5zhZXINObBfZLoA\"])\n",
    "\n",
    "display(prediction1)"
>>>>>>> e75337b1a569852543210728d2520e7012f26396
   ]
  },
  {
   "cell_type": "code",
   "execution_count": null,
   "metadata": {},
   "outputs": [],
   "source": [
    "def predict_ratings_item_based(similarity, utility, user_item_pairs):\n",
    "    ratings_test_c = user_item_pairs.copy()\n",
    "    ratings_test_c['predicted rating'] = 0.\n",
    "    for index,row in user_item_pairs.iterrows():\n",
<<<<<<< HEAD
    "        neighborhood = select_neighborhood(similarity[row['business_id']],utility[row['user_id']], 1000)\n",
=======
    "        neighborhood = select_neighborhood(similarity[row['business_id']],utility[row['user_id']],1000)\n",
>>>>>>> e75337b1a569852543210728d2520e7012f26396
    "        ratings_test_c.at[index,'predicted rating'] = weighted_mean(neighborhood,utility[row['user_id']])\n",
    "    return ratings_test_c"
   ]
  },
  {
   "cell_type": "code",
   "execution_count": null,
   "metadata": {},
   "outputs": [],
   "source": [
    "test_data = df_reviews[:500][['business_id','user_id','stars']].copy()\n",
    "\n",
    "display(predict_ratings_item_based(similarity, utility_matrix, test_data))"
   ]
<<<<<<< HEAD
=======
  },
  {
   "cell_type": "markdown",
   "metadata": {},
   "source": [
    "### Deel 2: Calgary <a name='calgary'></a>\n",
    "\n",
    "[Top](#Top)"
   ]
  },
  {
   "cell_type": "markdown",
   "metadata": {},
   "source": [
    "### Utility Matrix & Similarity Matrix"
   ]
  },
  {
   "cell_type": "code",
   "execution_count": null,
   "metadata": {},
   "outputs": [],
   "source": [
    "reviews = df_reviews[:5000]"
   ]
  },
  {
   "cell_type": "markdown",
   "metadata": {},
   "source": [
    "### Utility Matrix"
   ]
  },
  {
   "cell_type": "code",
   "execution_count": null,
   "metadata": {},
   "outputs": [],
   "source": [
    "def pivot_ratings(ratings):\n",
    "    pivottable = ratings.pivot_table(index=\"business_id\", columns=\"user_id\", values=\"stars\").fillna(0)\n",
    "    return pivottable\n",
    "\n",
    "utility_matrix = pivot_ratings(reviews)\n",
    "display(utility_matrix)"
   ]
  },
  {
   "cell_type": "markdown",
   "metadata": {},
   "source": [
    "### Similarity"
   ]
  },
  {
   "cell_type": "code",
   "execution_count": null,
   "metadata": {},
   "outputs": [],
   "source": [
    "def cosine_similarity(matrix, id1, id2):\n",
    "    \n",
    "    selected_features = matrix.loc[id1].notna() & matrix.loc[id2].notna()\n",
    "    features1 = matrix.loc[id1][selected_features]\n",
    "    features2 = matrix.loc[id2][selected_features]\n",
    "    \n",
    "    if id1 == id2:\n",
    "        return 1\n",
    "    \n",
    "    elif selected_features.any() == False:\n",
    "        return np.nan\n",
    "                                                                                                \n",
    "    if (features1==0).all() and (features2==0).all() == True:\n",
    "         return np.nan\n",
    "    elif (features1==0).all() or (features2==0).all() == True:\n",
    "         return np.nan\n",
    "                                                   \n",
    "    else:\n",
    "         \n",
    "        teller = sum(features1*features2)\n",
    "        noemer = np.sqrt(sum(features1**2)) * np.sqrt(sum(features2**2))\n",
    "        cos = teller / noemer   \n",
    "        \n",
    "        return cos \n",
    "\n",
    "\n",
    "def create_similarity_matrix_cosine(matrix):\n",
    "    \n",
    "    cosine_similarity_matrix = pd.DataFrame(0, index=matrix.index, columns=matrix.index, dtype=float)\n",
    "    \n",
    "    for i1 in matrix.index.values:\n",
    "        for i2 in matrix.index.values:\n",
    "            similarity = cosine_similarity(matrix, i1, i2)\n",
    "            cosine_similarity_matrix[i1][i2] = similarity\n",
    "    \n",
    "    return cosine_similarity_matrix\n",
    "\n",
    "\n",
    "#similarity = create_similarity_matrix_cosine(utility_matrix)\n",
    "#display(similarity)"
   ]
  },
  {
   "cell_type": "markdown",
   "metadata": {},
   "source": [
    "### Mean Centering"
   ]
  },
  {
   "cell_type": "code",
   "execution_count": null,
   "metadata": {},
   "outputs": [],
   "source": [
    "def mean_center_columns(matrix):\n",
    "    result = matrix.copy()\n",
    "    \n",
    "    for i in result.columns.values:\n",
    "        m = result[i].mean()\n",
    "        for j in result.index.values:\n",
    "            result[i][j] = result[i][j] - m\n",
    "            \n",
    "    return result\n",
    "\n",
    "\n",
    "centered_utility_matrix = mean_center_columns(utility_matrix)\n",
    "display(centered_utility_matrix)\n",
    "\n",
    "\n",
    "similarity = create_similarity_matrix_cosine(centered_utility_matrix)\n",
    "display(similarity)"
   ]
  },
  {
   "cell_type": "code",
   "execution_count": null,
   "metadata": {},
   "outputs": [],
   "source": [
    "similarity.to_pickle('./similarity_pickle.pkl')"
   ]
  },
  {
   "cell_type": "code",
   "execution_count": null,
   "metadata": {},
   "outputs": [],
   "source": [
    "similarity = pd.read_pickle('./similarity_pickle.pkl')"
   ]
  },
  {
   "cell_type": "markdown",
   "metadata": {},
   "source": [
    "### Neighborhood"
   ]
  },
  {
   "cell_type": "code",
   "execution_count": null,
   "metadata": {},
   "outputs": [],
   "source": [
    "def select_neighborhood(similarities, ratings, k):\n",
    "    \"\"\" selects all items with similarity > 0  \"\"\"\n",
    "   \n",
    "    results = {}\n",
    "    \n",
    "    for i in similarities.index.values:\n",
    "        if similarities[i]>0.000 and not np.isnan(ratings[i]):\n",
    "            print(similarities[i])\n",
    "            results[i] = similarities[i]\n",
    "    \n",
    "    df = pd.Series(results)\n",
    "        \n",
    "    \n",
    "    return df.sort_values(ascending=False)[:k]  \n",
    "        \n",
    "    \n",
    "#print(similarity[\"-3n__pVgU99k4jaSANVFgw\"], utility_matrix[\"-InhDRRVG7wrwsgAUvN4Qw\"])\n",
    "neighborhood = select_neighborhood(similarity[\"m7ommfJFalI47UksyX04Iw\"], utility_matrix[\"17iYh7v5zhZXINObBfZLoA\"], 10)\n",
    "display(neighborhood)"
   ]
  },
  {
   "cell_type": "markdown",
   "metadata": {},
   "source": [
    "### Voorspelling"
   ]
  },
  {
   "cell_type": "code",
   "execution_count": null,
   "metadata": {},
   "outputs": [],
   "source": [
    "def weighted_mean(neighborhood, ratings):  \n",
    "    \n",
    "    a = 0.\n",
    "    b = 0.\n",
    "    \n",
    "    for (i, m) in neighborhood.iteritems():\n",
    "        a += m * ratings[i]\n",
    "        b += m \n",
    "\n",
    "    print(ratings)   \n",
    "    \n",
    "    if b == 0.:\n",
    "        return np.nan\n",
    "    else:\n",
    "        return a/b\n",
    "    \n",
    "neighborhood = select_neighborhood(similarity[\"m7ommfJFalI47UksyX04Iw\"], utility_matrix[\"17iYh7v5zhZXINObBfZLoA\"], 10)\n",
    "prediction = weighted_mean(neighborhood, utility_matrix[\"17iYh7v5zhZXINObBfZLoA\"])\n",
    "print(f'User \"17iYh7v5zhZXINObBfZLoA\" predicted rating for \"m7ommfJFalI47UksyX04Iw\" is {prediction:.3f}')"
   ]
>>>>>>> e75337b1a569852543210728d2520e7012f26396
  }
 ],
 "metadata": {
  "colab": {
   "collapsed_sections": [],
   "name": "GroepsOpdracht_CI.ipynb",
   "provenance": []
  },
  "kernelspec": {
   "display_name": "Python 3",
   "language": "python",
   "name": "python3"
  },
  "language_info": {
   "codemirror_mode": {
    "name": "ipython",
    "version": 3
   },
   "file_extension": ".py",
   "mimetype": "text/x-python",
   "name": "python",
   "nbconvert_exporter": "python",
   "pygments_lexer": "ipython3",
   "version": "3.7.4"
  }
 },
 "nbformat": 4,
 "nbformat_minor": 1
}
