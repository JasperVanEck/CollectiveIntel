{
 "cells": [
  {
   "cell_type": "markdown",
   "metadata": {},
   "source": [
    "## Jasper van Eck - 6228194"
   ]
  },
  {
   "cell_type": "markdown",
   "metadata": {
    "deletable": false,
    "editable": false,
    "nbgrader": {
     "cell_type": "markdown",
     "checksum": "fc4f9ae4f239dd18a13938f446283243",
     "grade": false,
     "grade_id": "cell-0f095c5ac4a4b0cb",
     "locked": true,
     "schema_version": 3,
     "solution": false
    }
   },
   "source": [
    "# Module 2: Feature Spaces en Collaborative Filtering\n",
    "\n",
    "## Doel\n",
    "\n",
    "Services als Bol.com, Amazon, YouTube, Netflix willen allemaal voorspellen welke producten (boeken, films, etc.) jij interessant vindt. In deze opdracht ga je zelf een systeem maken dat zulke voorspellingen kan doen. \n",
    "\n",
    "Vaak gebeurt dit door goed te kijken naar je gedrag op een website. Gebruikers bekijken producten, kopen producten en geven waarderingen (ratings). Deze informatie geeft een beeld van de producten die je leuk vindt. Vervolgens is de kunst om producten te vinden die daar op lijken. De kans is groot dat je die dan ook wel leuk vindt. \n",
    "\n",
    "Een manier om te achterhalen of bijvoorbeeld twee films op elkaar lijken is door de inhoud te vergelijken (gaan ze bijvoorbeeld over hetzelfde onderwerp). Dit heet _content based filtering_. Daar gaan we in de volgende opdracht naar kijken.\n",
    "\n",
    "De opdracht deze week is gericht op _collaborative filtering_. Hierbij is het idee dat het collectieve gedrag van de gebruikers informatie geeft over de producten.\n",
    "\n",
    "In collaborative filtering kan je weer twee strategieën onderscheiden: _user based filtering_ en _item based filtering_. Met user based filtering probeer je er achter te komen in welke mate gebruikers in gedrag op elkaar lijken en daarop gebaseerd een film aan te raden. Met item based filtering probeer je juist vast te stellen in welke mate twee films op elkaar lijken.\n",
    "\n",
    "Welke aanpak is het best? Content based filtering? User based collaborative filtering? Item based collaborative filtering? Daar valt geen eenduidig antwoord op te geven. Dat blijkt enorm af te hangen van de specifieke toepassing.\n",
    "\n",
    "Het probleem wordt nog groter als je beseft dat bij elke aanpak weer een hoop subtiele keuzes te maken zijn die de resultaten beïnvloeden. Je kan bijvoorbeeld verschillende keuzes maken in hoe je meet of twee producten (of gebruikers) op elkaar lijken. Hieronder kom je twee veelgebruikte maten daarvoor tegen: _euclidean similarity_ en _cosine similarity_. En in de praktijk zijn het er nog veel meer dan dat.\n",
    "\n",
    "Omdat er geen eenduidig antwoord te geven is op de vraag: \"Wat werkt het beste?\" Is het enorm belangrijk om te weten hoe je de werking van het door jou samengestelde algoritme evalueert.  \n",
    "\n",
    "## Opbouw\n",
    "\n",
    "De opdracht van deze week bestaat uit twee delen. In het eerste deel ga je verschillende varianten van een collaborative filtering systeem uitwerken. In het tweede deel ga je leren hoe je de kwaliteit van de voorspellingen van deze varianten kan evalueren.\n",
    "\n",
    "## Studiemateriaal\n",
    "\n",
    "- [Collaborative filtering, Harvard CS50](https://www.youtube.com/watch?v=Eeg1DEeWUjA)\n",
    "- [Recommender systems handbook, Springerlink](https://link.springer.com/book/10.1007%2F978-0-387-85820-3) Hoofdstuk 1. Gratis te downloaden vanaf het UvA netwerk.\n",
    "\n",
    "Voor het maken van een collaborative filtering systeem maken we gebruik van de movieLens dataset die je ook in de vorige opdracht hebt gezien. We willen deze data gebruiken om gebruikers een film aan te raden die ze nog niet hebben gezien. Dit willen we doen gebaseerd op de ratings die de gebruiker voor _andere_ films heeft gegeven. \n",
    "\n",
    "We willen dus voor een gebruiker weten hoe goed hij of zij een bepaalde film _waarschijnlijk_ gaat vinden. Als we het probleem herformuleren in termen van ratings: Gegeven een gebruiker die een bepaalde film nog niet heeft gezien, _voorspel de rating_ die de gebruiker aan de film zou gegeven na het zien van de film."
   ]
  },
  {
   "cell_type": "markdown",
   "metadata": {
    "deletable": false,
    "editable": false,
    "nbgrader": {
     "cell_type": "markdown",
     "checksum": "b88aa87d3f2f3816b897b49fb2580792",
     "grade": false,
     "grade_id": "cell-ebfded3b11fcf372",
     "locked": true,
     "schema_version": 3,
     "solution": false
    }
   },
   "source": [
    "## Aan de slag\n",
    "\n",
    "We beginnen met het laden van de libraries die we nodig hebben:"
   ]
  },
  {
   "cell_type": "code",
   "execution_count": null,
   "metadata": {
    "deletable": false,
    "editable": false,
    "nbgrader": {
     "cell_type": "code",
     "checksum": "85033208e91d1e917f67816287097aed",
     "grade": false,
     "grade_id": "cell-57c753859d984f64",
     "locked": true,
     "schema_version": 3,
     "solution": false
    }
   },
   "outputs": [],
   "source": [
    "import pandas as pd\n",
    "from pandas import Series, DataFrame\n",
    "import numpy as np\n",
    "np.seterr(divide='raise', over='raise', under='raise', invalid='raise')\n",
    "import matplotlib.pyplot as plt\n",
    "import matplotlib.patches as mpatches\n",
    "from mpl_toolkits.mplot3d import Axes3D\n",
    "\n",
    "import answers"
   ]
  },
  {
   "cell_type": "markdown",
   "metadata": {
    "deletable": false,
    "editable": false,
    "nbgrader": {
     "cell_type": "markdown",
     "checksum": "1546b961cb8ac90850546d81bd13d131",
     "grade": false,
     "grade_id": "cell-090834481ac51d09",
     "locked": true,
     "schema_version": 3,
     "solution": false
    }
   },
   "source": [
    "# Deel 1: Item based filtering\n",
    "\n",
    "Uiteindelijk ga je een film aanbevelen aan een gebruiker. Er zijn verschillende manieren om dat te doen. In deze opdracht ga je allereerst collaborative filtering toepassen. Het idee van collaborative filtering is dat we gebruik maken van de interactie van gebruikers om gebruikers items aan te raden. In de MovieLens dataset bestaat die interactie uit de ratings. \n",
    "\n",
    "Eerst kijken naar _item based filtering_. De intuïtie is eenvoudig: als een gebruiker twee verschillende films dezelfde rating geeft, dan is dat een indicatie dat de films op elkaar lijken. Door alle ratings van alle gebruikers te beschouwen kunnen we een redelijk compleet beeld krijgen van de _similarity_ tussen twee films.\n",
    "\n",
    "Dit deel bestaat uit de volgende stappen:\n",
    "1. het lezen van de data\n",
    "2. het transformeren van de data naar een bruikbaar formaat (utility matrix)\n",
    "3. het bepalen van similarities\n",
    "4. het doen van een aanbeveling"
   ]
  },
  {
   "cell_type": "markdown",
   "metadata": {
    "deletable": false,
    "editable": false,
    "nbgrader": {
     "cell_type": "markdown",
     "checksum": "ba0bef42bd7d3cc9fd694c1b5cb16230",
     "grade": false,
     "grade_id": "cell-88b845472fcaea59",
     "locked": true,
     "schema_version": 3,
     "solution": false
    }
   },
   "source": [
    "### Data lezen\n",
    "\n",
    "We beginnen met een micro-dataset. Zo kan je straks makkelijk jouw code testen, want je hebt een overzicht over alle input. Deze kleine set bevat 3 films en 5 gebruikers. Dit is een subset van de [movielens](https://grouplens.org/datasets/movielens/) dataset. Ter vergelijking, de originele set bevat 27,000 films en 138,000 gebruikers. De algoritmes die we gaan toepassen werken in principe ook op de volledige dataset, hoewel we in deel drie zullen zien dat daar wel wat haken en ogen aan zitten.\n",
    "\n",
    "De dataset bevat 3 tabellen (dataframes):\n",
    "- **movies**, een tabel met de id van een film, de naam en het genre.\n",
    "- **users**, een table met de id van de gebruiker en de naam.\n",
    "- **ratings**, een tabel met de id van de user, de id van de film, de bijbehorende rating en de timestamp. \n",
    "\n",
    "We zullen in de onderstaande opdrachten alleen gebruik maken van de ratings tabel. De andere twee tabellen zijn er alleen voor onze eigen intuïtie. Het is makkelijker praten over Shrek, dan film 4306.\n",
    "\n",
    "Laad de data: "
   ]
  },
  {
   "cell_type": "code",
   "execution_count": null,
   "metadata": {
    "deletable": false,
    "editable": false,
    "nbgrader": {
     "cell_type": "code",
     "checksum": "1300e69a9f6612b32b2dfa5a1e960563",
     "grade": false,
     "grade_id": "cell-7f3f311387022d66",
     "locked": true,
     "schema_version": 3,
     "solution": false
    }
   },
   "outputs": [],
   "source": [
    "# Load the micro movielens set. This set contains 5 users and 3 movies\n",
    "\n",
    "movies = pd.read_csv('./micro-movielens/movies.csv', index_col='movieId')\n",
    "users = pd.read_csv('./micro-movielens/users.csv', index_col='userId')\n",
    "ratings = pd.read_csv('./micro-movielens/ratings.csv')\n",
    "\n",
    "display(movies)\n",
    "display(users)\n",
    "display(ratings)"
   ]
  },
  {
   "cell_type": "markdown",
   "metadata": {
    "deletable": false,
    "editable": false,
    "nbgrader": {
     "cell_type": "markdown",
     "checksum": "a9704fa86078299285055a33f5bfbfbd",
     "grade": false,
     "grade_id": "cell-3557105b7778757a",
     "locked": true,
     "schema_version": 3,
     "solution": false
    }
   },
   "source": [
    "### Vraag 1\n",
    "\n",
    "In het algoritme dat we gaan maken hebben we vaak de rating voor een film en gebruiker nodig. Dus het is handig om een functie te maken die dit voor ons opzoekt. Hieronder staat de functie `get_rating()` gedefinieerd. Deze is nog niet helemaal af. Het is de bedoeling dat het de rating van een gebruiker voor een bepaalde film uit de tabel haalt. Bijvoorbeeld, `get_rating(ratings, 182, 2571)` zou `5.0` moeten geven. Randgeval: als er geen rating te vinden is voor de combinatie van film en gebruiker moet `get_rating()` de waarde `NaN` geven. Gebruik `np.nan` hiervoor. \n",
    "\n",
    "Implementeer `get_rating()` hieronder: "
   ]
  },
  {
   "cell_type": "code",
   "execution_count": null,
   "metadata": {
    "deletable": false,
    "nbgrader": {
     "cell_type": "code",
     "checksum": "0d3b0117704fdc99854fc0a5c838b1db",
     "grade": false,
     "grade_id": "cell-da7d0223a2543f1a",
     "locked": false,
     "schema_version": 3,
     "solution": true
    }
   },
   "outputs": [],
   "source": [
    "# define a helper function for accessing data\n",
    "def get_rating(ratings, userId, movieId):\n",
    "    \"\"\"Given a userId and movieId, this function returns the corresponding rating.\n",
    "       Should return NaN if no rating exists.\"\"\"\n",
    "    rating = np.nan\n",
    "    rating = ratings[(ratings['userId']==userId) & (ratings['movieId']==movieId)]['rating']\n",
    "    if rating.empty:\n",
    "        rating = np.nan\n",
    "    return float(rating)\n",
    "    \n",
    "\n",
    "# test: this should print '4.5'\n",
    "rate = get_rating(ratings, 182, 2710)\n",
    "print(f'The rating for user 182 and movie 2710 is {rate}')"
   ]
  },
  {
   "cell_type": "markdown",
   "metadata": {
    "deletable": false,
    "editable": false,
    "nbgrader": {
     "cell_type": "markdown",
     "checksum": "25d531eb28a1198b2e0597c3926265e4",
     "grade": false,
     "grade_id": "cell-6a58119e4b1f48cd",
     "locked": true,
     "schema_version": 3,
     "solution": false
    }
   },
   "source": [
    "### Check"
   ]
  },
  {
   "cell_type": "code",
   "execution_count": null,
   "metadata": {
    "deletable": false,
    "editable": false,
    "nbgrader": {
     "cell_type": "code",
     "checksum": "7666057972e34d59b55b9b7dce39b9b0",
     "grade": true,
     "grade_id": "test_1",
     "locked": true,
     "points": 1,
     "schema_version": 3,
     "solution": false
    }
   },
   "outputs": [],
   "source": [
    "answers.test_1(get_rating, ratings)"
   ]
  },
  {
   "cell_type": "markdown",
   "metadata": {
    "deletable": false,
    "editable": false,
    "nbgrader": {
     "cell_type": "markdown",
     "checksum": "84c69e55986721272203b82e30879d0b",
     "grade": false,
     "grade_id": "cell-a4f0b0b251aba8f3",
     "locked": true,
     "schema_version": 3,
     "solution": false
    }
   },
   "source": [
    "### Feature spaces\n",
    "\n",
    "Voor het analyseren van de data hebben we een tabel nodig waarin we makkelijk kunnen opzoeken wat de gebruikers van de films vonden. Zoals deze tabel:\n",
    "\n",
    "<table border=\"1\" class=\"dataframe\"><thead><tr style=\"text-align: right;\"><th></th><th>182</th><th>195</th><th>204</th><th>376</th><th>542</th></tr></thead><tbody><tr><th>2571</th><td>5.0</td><td>3.0</td><td>4.5</td><td>3.5</td><td>5.0</td></tr><tr><th>2710</th><td>4.5</td><td>1.0</td><td>5.0</td><td>1.5</td><td>0.5</td></tr><tr><th>4306</th><td>4.0</td><td>3.0</td><td>4.0</td><td>4.0</td><td>5.0</td></tr></tbody></table>\n",
    "\n",
    "Zo'n tabel wordt de **utility matrix** genoemd. Hierin is het bijvoorbeeld makkelijk te zien dat gebruiker `542` (Nicolai) de film `2710` (The Blair Witch Project) knap waardeloos vond, met een rating van `0.5`.\n",
    "\n",
    "We zijn bezig met item-based filtering, dus we willen films met elkaar kunnen vergelijken. Het is conventie om die dan op de verticale as te zetten. De rijen zijn dus de _items_ die we met elkaar willen vergelijken, en de kolommonen zijn de _eigenschappen_ van de items (in dit geval de ratings van de gebruikers). Deze eigenschappen worden meestal **features** genoemd. Elke film in deze tabel heeft dus vijf features: de rating van elke gebruiker."
   ]
  },
  {
   "cell_type": "markdown",
   "metadata": {
    "deletable": false,
    "editable": false,
    "nbgrader": {
     "cell_type": "markdown",
     "checksum": "0e2fe995362f5d7956bde29fee1cf3b3",
     "grade": false,
     "grade_id": "cell-52a135baa5de5436",
     "locked": true,
     "schema_version": 3,
     "solution": false
    }
   },
   "source": [
    "### Vraag 2\n",
    "\n",
    "De functie `pivot_ratings()` hieronder is nog niet af. Het is de bedoeling dat deze functie de bovenstaande tabel genereert. De functie maakt al een lege tabel aan met de juiste kolommen en rijen, het is aan jou om de juiste ratings in te vullen. Randgeval: als er geen rating te vinden is voor de combinatie van film en gebruiker moet er `NaN` op die plek in de tabel komen. Gebruik ook hier `np.nan`.\n",
    "\n",
    "Tip: je kan eventueel gebruik maken van `get_rating()` die je in de bovenstaande opgaven hebt gedefinieerd."
   ]
  },
  {
   "cell_type": "code",
   "execution_count": null,
   "metadata": {
    "deletable": false,
    "nbgrader": {
     "cell_type": "code",
     "checksum": "67db1307b5e9e90d7951dec7df6d6e5d",
     "grade": false,
     "grade_id": "cell-6883873209b41ca7",
     "locked": false,
     "schema_version": 3,
     "solution": true
    }
   },
   "outputs": [],
   "source": [
    "def pivot_ratings(ratings):\n",
    "    \"\"\" takes a rating table as input and computes the utility matrix \"\"\"\n",
    "    return ratings.pivot(index='movieId',columns='userId',values='rating')\n",
    "    \n",
    "\n",
    "# test\n",
    "utility_matrix = pivot_ratings(ratings)\n",
    "display(utility_matrix)\n"
   ]
  },
  {
   "cell_type": "markdown",
   "metadata": {
    "deletable": false,
    "editable": false,
    "nbgrader": {
     "cell_type": "markdown",
     "checksum": "488e91ed78393904f9323bb936342ee2",
     "grade": false,
     "grade_id": "cell-c04ec78f518de423",
     "locked": true,
     "schema_version": 3,
     "solution": false
    }
   },
   "source": [
    "### Check"
   ]
  },
  {
   "cell_type": "code",
   "execution_count": null,
   "metadata": {
    "deletable": false,
    "editable": false,
    "nbgrader": {
     "cell_type": "code",
     "checksum": "9c32bba1b1a9e9237e5101376b7ce23d",
     "grade": true,
     "grade_id": "test_2",
     "locked": true,
     "points": 1,
     "schema_version": 3,
     "solution": false
    }
   },
   "outputs": [],
   "source": [
    "answers.test_2(pivot_ratings, ratings)"
   ]
  },
  {
   "cell_type": "markdown",
   "metadata": {
    "deletable": false,
    "editable": false,
    "nbgrader": {
     "cell_type": "markdown",
     "checksum": "fd2dba1e02271c77f93ed02fcf1bf4b1",
     "grade": false,
     "grade_id": "cell-845866c31592a145",
     "locked": true,
     "schema_version": 3,
     "solution": false
    }
   },
   "source": [
    "De utility matrix geeft ons een hoop informatie over de relatie tussen films en de gebruikers. Dit kunnen we inzichtelijk maken door de data te visualiseren. Laten we eerst wat histogrammen maken:"
   ]
  },
  {
   "cell_type": "code",
   "execution_count": null,
   "metadata": {
    "deletable": false,
    "editable": false,
    "nbgrader": {
     "cell_type": "code",
     "checksum": "eedc093d377ea1d95b3e2a30a7f9c82c",
     "grade": false,
     "grade_id": "cell-47d52521fb02df1f",
     "locked": true,
     "schema_version": 3,
     "solution": false
    }
   },
   "outputs": [],
   "source": [
    "# create histograms for movie ratings\n",
    "hist = utility_matrix.T.hist(bins=[0,1,2,3,4,5], layout=(1,5), figsize=(14,2));\n",
    "\n",
    "# set axes\n",
    "for ax in hist[0]:\n",
    "    ax.set_ylim(0, 3.1)\n",
    "    ax.set_xlim(-0.1, 5.1)"
   ]
  },
  {
   "cell_type": "markdown",
   "metadata": {
    "deletable": false,
    "editable": false,
    "nbgrader": {
     "cell_type": "markdown",
     "checksum": "2ce30f84c51e1b3628ba2c6cf4aac8a5",
     "grade": false,
     "grade_id": "cell-4fc98da0b7ce42ea",
     "locked": true,
     "schema_version": 3,
     "solution": false
    }
   },
   "source": [
    "### Vraag 3 \n",
    "\n",
    "Gegeven de bovenstaande histograms wat is de _naam_ van de film met de gemiddelde hoogste rating? \n",
    "En wat is de _naam_ van de film waarover de meningen het meest verdeeld zijn?"
   ]
  },
  {
   "cell_type": "markdown",
   "metadata": {
    "deletable": false,
    "nbgrader": {
     "cell_type": "markdown",
     "checksum": "8d2db37dbcb662455d8f1491c2ec1730",
     "grade": true,
     "grade_id": "cell-5852535f8ef82f69",
     "locked": false,
     "points": 2,
     "schema_version": 3,
     "solution": true
    }
   },
   "source": [
    "Naam van de film met gemiddelde hoogste waardering is The Matrix. En de film met de meest verdeelde meningen is The Blair Witch Project."
   ]
  },
  {
   "cell_type": "markdown",
   "metadata": {
    "deletable": false,
    "editable": false,
    "nbgrader": {
     "cell_type": "markdown",
     "checksum": "d3391aec3ce664d1d91e5ff2b2466f32",
     "grade": false,
     "grade_id": "cell-6afb0876d188f57e",
     "locked": true,
     "schema_version": 3,
     "solution": false
    }
   },
   "source": [
    "De histogrammen geven nog niet zo heel veel informatie over de films. Door scatterplots te gebruiken kunnen we de data inzichtelijker maken."
   ]
  },
  {
   "cell_type": "code",
   "execution_count": null,
   "metadata": {
    "deletable": false,
    "editable": false,
    "nbgrader": {
     "cell_type": "code",
     "checksum": "3d6671b708fed6a9e64eaea860483230",
     "grade": false,
     "grade_id": "cell-55ae7620734c603a",
     "locked": true,
     "schema_version": 3,
     "solution": false
    }
   },
   "outputs": [],
   "source": [
    "def plot_scatter(matrix, feature1, feature2, colors = ['#e41a1c', '#377eb8', '#4eae4b', '#994fa1', '#ff8101']):\n",
    "    # setup plot\n",
    "    elements = matrix.shape[0]\n",
    "    scatter = matrix.plot.scatter(feature1, feature2, color = colors[:elements])\n",
    "    scatter.set_title('movie rating plot')\n",
    "    \n",
    "    # plot settings\n",
    "    scatter.set_xlim(-0.1, 5.1)\n",
    "    scatter.set_ylim(-0.1, 5.1)\n",
    "    scatter.set_xlabel('rating for userId {}'.format(feature1))\n",
    "    scatter.set_ylabel('rating for userId {}'.format(feature2))\n",
    "    scatter.legend([mpatches.Circle((0,0), 1, fc=c) for c in colors], matrix.index, loc = 'lower right', title = 'movieId')\n",
    "    \n",
    "# scatter plot    \n",
    "plot_scatter(utility_matrix, 542, 182)"
   ]
  },
  {
   "cell_type": "markdown",
   "metadata": {
    "deletable": false,
    "editable": false,
    "nbgrader": {
     "cell_type": "markdown",
     "checksum": "37d0f9de046c1964f8cc97d1c599516d",
     "grade": false,
     "grade_id": "cell-16c954e122239a25",
     "locked": true,
     "schema_version": 3,
     "solution": false
    }
   },
   "source": [
    "In de bovenstaande plot staan de punten voor de drie films. De x-as geeft de rating van Ada (195) en de y-as geeft de rating Carl (376). We kunnen ons dus de films als punten in een abstracte ruimte voorstellen. Zo'n ruimte wordt een **feature space** genoemt.\n",
    "\n",
    "### Vraag 4\n",
    "\n",
    "Als je naar deze ruimte kijkt, welke films denk je dan dat het meest op elkaar lijken? Waarom?"
   ]
  },
  {
   "cell_type": "markdown",
   "metadata": {
    "deletable": false,
    "nbgrader": {
     "cell_type": "markdown",
     "checksum": "e7aed0b8fcc7f168a6cf52aa5d439140",
     "grade": true,
     "grade_id": "cell-28272fb318652c13",
     "locked": false,
     "points": 2,
     "schema_version": 3,
     "solution": true
    }
   },
   "source": [
    "Shrek en The Matrix lijken het meest op elkaar gebaseerd op de bovenstaande scatterplot. Dit is omdat ze van beide gebruikers een hoge rating krijgen."
   ]
  },
  {
   "cell_type": "markdown",
   "metadata": {
    "deletable": false,
    "editable": false,
    "nbgrader": {
     "cell_type": "markdown",
     "checksum": "7f92f31dbdc22cda9717a7547c8d5be4",
     "grade": false,
     "grade_id": "cell-704a2dacec70be6b",
     "locked": true,
     "schema_version": 3,
     "solution": false
    }
   },
   "source": [
    "### Vraag 5\n",
    "\n",
    "Plot de feature space zoals boven, maar dan voor Isaac en Gotlob.\n",
    "\n",
    "Tip: Als je even snel wil kijken welke userId overeenkomt met welke naam kan je het commando `display(users)` gebruiken."
   ]
  },
  {
   "cell_type": "code",
   "execution_count": null,
   "metadata": {
    "deletable": false,
    "nbgrader": {
     "cell_type": "code",
     "checksum": "257fc90132ad0a2a523b92ad6e985315",
     "grade": true,
     "grade_id": "cell-5e261dd1df2c6788",
     "locked": false,
     "points": 1,
     "schema_version": 3,
     "solution": true
    }
   },
   "outputs": [],
   "source": [
    "# Isaac - 204\n",
    "# Gotlob - 182\n",
    "plot_scatter(utility_matrix, 204, 182)\n"
   ]
  },
  {
   "cell_type": "markdown",
   "metadata": {
    "deletable": false,
    "editable": false,
    "nbgrader": {
     "cell_type": "markdown",
     "checksum": "ae375e8efd24208c46427530be7a24cc",
     "grade": false,
     "grade_id": "cell-0c947797a18705a6",
     "locked": true,
     "schema_version": 3,
     "solution": false
    }
   },
   "source": [
    "### Vraag 6\n",
    "\n",
    "Als je naar _deze_ ruimte kijkt, welke films denk je _dan_ dat het meest op elkaar lijken?"
   ]
  },
  {
   "cell_type": "markdown",
   "metadata": {
    "deletable": false,
    "nbgrader": {
     "cell_type": "markdown",
     "checksum": "502f9dfe3228f970e24416eff465fad8",
     "grade": true,
     "grade_id": "cell-49170281175384c0",
     "locked": false,
     "points": 1,
     "schema_version": 3,
     "solution": true
    }
   },
   "source": [
    "The Matrix en The Blair Witch Project. De ratings daarvan voor beide gebruikers liggen het dichste bij elkaar."
   ]
  },
  {
   "cell_type": "markdown",
   "metadata": {
    "deletable": false,
    "editable": false,
    "nbgrader": {
     "cell_type": "markdown",
     "checksum": "06b15d08341225f3c6af1a152cd0a782",
     "grade": false,
     "grade_id": "cell-f53be32869f32fdb",
     "locked": true,
     "schema_version": 3,
     "solution": false
    }
   },
   "source": [
    "Door de ratings voor te stellen als een ruimte (een feature space) kan je kijken of twee films fysiek dicht bij elkaar zitten. En dat kan wat zeggen over of de films wellicht op elkaar lijken. Met andere woorden, als veel gebruikers die The Matrix goed vonden ook een positieve beoordeling gegeven aan The Blair Witch Project, dan lijken die films wellicht op elkaar.\n",
    "\n",
    "Een recommender system kan kiezen om iemand die The Matrix goed vond ook The Blair Witch Project aan te bevelen.\n",
    "\n",
    "In de bovenstaande voorbeelden gebruikten we steeds een 2D-ruimte, een gebruiker per as. Zoals je zag kan de uitkomst flink verschillen per ruimte. Normaal gesproken gebruik je geen 2D-feature space, maar is het aantal dimensies gelijk aan het aantal features in de tabel. In ons voorbeeld zijn dat vijf dimensies (namelijk de ranking van de vijf gebruikers, Ada, Nicolai, Isaac, Gotlob en Carl). \n",
    "\n",
    "Helaas is een hoog-dimensionale feature space lastig te plotten. Met een beetje moeite kan je nog 3 dimensies plotten:"
   ]
  },
  {
   "cell_type": "code",
   "execution_count": null,
   "metadata": {
    "deletable": false,
    "editable": false,
    "nbgrader": {
     "cell_type": "code",
     "checksum": "21bc68d7589d69f1cb62dd1677e48fa9",
     "grade": false,
     "grade_id": "cell-2edee7cd3c7e945d",
     "locked": true,
     "schema_version": 3,
     "solution": false
    }
   },
   "outputs": [],
   "source": [
    "def plot3d(matrix, feature1, feature2, feature3, colors = ['#e41a1c', '#377eb8', '#4eae4b', '#994fa1', '#ff8101']):  \n",
    "    # setup 3d plot\n",
    "    fig = plt.figure()\n",
    "    ax = Axes3D(fig)\n",
    "    \n",
    "    # enter data\n",
    "    for i, ind in enumerate(matrix.index):\n",
    "        scatter = ax.scatter(matrix.loc[ind, feature1], matrix.loc[ind, feature2], matrix.loc[ind, feature3], c = colors[i])\n",
    "\n",
    "    # plot settings\n",
    "    ax.legend([mpatches.Circle((0,0), 1, fc=c) for c in colors], matrix.index, loc = 'lower right', title = 'movieId')\n",
    "    ax.set_xlabel('rating for userId {}'.format(feature1))\n",
    "    ax.set_ylabel('rating for userId {}'.format(feature2))\n",
    "    ax.set_zlabel('rating for userId {}'.format(feature3))\n",
    "    \n",
    "    plt.show()\n",
    "\n",
    "plot3d(utility_matrix, 542, 182, 204)"
   ]
  },
  {
   "cell_type": "markdown",
   "metadata": {
    "deletable": false,
    "editable": false,
    "nbgrader": {
     "cell_type": "markdown",
     "checksum": "cf45f8d5dec2647fce7fb8e6be0a6044",
     "grade": false,
     "grade_id": "cell-24d5a22aab695a9d",
     "locked": true,
     "schema_version": 3,
     "solution": false
    }
   },
   "source": [
    "Helaas is zo'n 3D-plot lastig te lezen. Welke films liggen er nou dichter bij elkaar in de bovenstaande plot? Bovendien, we hebben nog meer dimensies die we willen laten zien. Een gebruikelijke manier om zo'n hoger dimensionale ruimte te plotten is een _scatter plot matrix_. Hierin maken we alle scatterplots van alle combinaties van dimensies. Dit werkt al een stuk beter:"
   ]
  },
  {
   "cell_type": "code",
   "execution_count": null,
   "metadata": {
    "deletable": false,
    "editable": false,
    "nbgrader": {
     "cell_type": "code",
     "checksum": "720f47cb11b1f11d726ea56e3f20cbfc",
     "grade": false,
     "grade_id": "cell-618648f4c6a50519",
     "locked": true,
     "schema_version": 3,
     "solution": false
    }
   },
   "outputs": [],
   "source": [
    "def plot_scatter_matrix(matrix, colors = ['#e41a1c', '#377eb8', '#4eae4b', '#994fa1', '#ff8101', '#000000', '#999999'], figsize = (8,8)):\n",
    "    # setup plot\n",
    "    max_val = matrix.max(axis = 1).max()\n",
    "    min_val = matrix.min(axis = 1).min()\n",
    "    fmatrix = matrix.fillna(min_val - 1)\n",
    "    elements = fmatrix.shape[0]\n",
    "    axarr = pd.plotting.scatter_matrix(fmatrix, s = 180.0, c = colors[:elements], figsize=figsize, alpha = 1.0, diagonal = '')\n",
    "    m = fmatrix.shape[1]\n",
    "    max_val = matrix.max(axis = 1).max()\n",
    "    min_val = matrix.min(axis = 1).min()\n",
    "    \n",
    "    # set axes for all subplots\n",
    "    for i in range(m):\n",
    "        for j in range(m):\n",
    "            axarr[i,j].set_xlim(min_val - 0.5, max_val + 0.5)\n",
    "            axarr[i,j].set_ylim(min_val - 0.5, max_val + 0.5)\n",
    "\n",
    "    # set labels for subplots\n",
    "    labels = fmatrix.index \n",
    "    axarr[0,0].legend([mpatches.Circle((0,0),1,fc=c) for c in colors], labels, loc = 'lower left');\n",
    "\n",
    "plot_scatter_matrix(utility_matrix)"
   ]
  },
  {
   "cell_type": "markdown",
   "metadata": {
    "deletable": false,
    "editable": false,
    "nbgrader": {
     "cell_type": "markdown",
     "checksum": "8077dfd37073bbe4002a4f91ff8e313c",
     "grade": false,
     "grade_id": "cell-b84774492b93b865",
     "locked": true,
     "schema_version": 3,
     "solution": false
    }
   },
   "source": [
    "### Vraag 7\n",
    "\n",
    "a) Als je naar de bovenstaande scatterplot matrix kijkt, welke twee films denk je dat het meest op elkaar lijken? Beargumenteer.\n",
    "\n",
    "b) Waarom zijn er geen plots getekend op de diagonaal?"
   ]
  },
  {
   "cell_type": "markdown",
   "metadata": {
    "deletable": false,
    "nbgrader": {
     "cell_type": "markdown",
     "checksum": "a1daf9fe652dfdb192903763865d3bb8",
     "grade": true,
     "grade_id": "cell-7ec0afc3c0949366",
     "locked": false,
     "points": 2,
     "schema_version": 3,
     "solution": true
    }
   },
   "source": [
    "a) 2571(The Maxtrix) & 4306 (Shrek), dit is omdat in de meeste scatter plots ze het dichtste bij elkaar staan qua ratings. Daardoor lijkt het erop dat de gemiddelde afstand tussen die 2 films het kleinst is, en daarme het meest op elkaar zouden moeten lijken.\n",
    "b) Omdat de gebruikers dan tegen over zichzelf zouden worden geplot, wat niet zo nuttig is."
   ]
  },
  {
   "cell_type": "markdown",
   "metadata": {
    "deletable": false,
    "editable": false,
    "nbgrader": {
     "cell_type": "markdown",
     "checksum": "4bcd0daed0c1a567e8d73c26e0d778f1",
     "grade": false,
     "grade_id": "cell-7afb9ae36db057db",
     "locked": true,
     "schema_version": 3,
     "solution": false
    }
   },
   "source": [
    "### Similarity\n",
    "\n",
    "In het vorige deel hebben we gekeken of we aan de hand van de plots van de data konden zien welke films het meest op elkaar lijken. Nu gaan we kijken of we die intuïties iets verder kunnen formaliseren. \n",
    "\n",
    "Uiteindelijk willen we een functie maken die, aan de hand van de gegeven data, kan uitrekenen in welke mate twee films op elkaar lijken.\n",
    "\n",
    "Eerst moeten we een goede definitie van afstand hebben. De eenvoudigste manier is door te kijken naar de verschillen in de ratings van de gebruikers.\n",
    "\n",
    "<table><thead><tr style=\"text-align: center;\"><th></th><th>2571</th><th></th><th>4306</th><th></th><th>difference</th><th></th></tr></thead>\n",
    "<tbody><tr><th>182</th><td>5.0</td><td>-</td><td>4.0</td><td>=</td><td>1.0</td><td>(Gotlob vindt The Matrix beter dan Shrek)</td></tr>\n",
    "<tr><th>195</th><td>3.0</td><td>-</td><td>3.0</td><td>=</td><td>0.0</td><td>(Ada vindt beide films even goed)</td></tr>\n",
    "<tr><th>204</th><td>4.5</td><td>-</td><td>4.0</td><td>=</td><td>0.5</td><td>(Isaac vindt The Matrix een klein beetje beter)</td></tr>\n",
    "<tr><th>376</th><td>3.5</td><td>-</td><td>4.0</td><td>=</td><td>-0.5</td><td>(Carl vindt Shrek een klein beetje beter)</td></tr>\n",
    "<tr><th>542</th><td>5.0</td><td>-</td><td>5.0</td><td>=</td><td>0.0</td><td>(Nicolai vindt beide films even goed)</td></tr>\n",
    "</tbody></table>\n",
    "\n",
    "Vervolgens berekenen we de afstand tussen de twee films door de som van de absolute waarde van deze verschillen te nemen:\n",
    "\n",
    "$$\n",
    "d = abs(1.0) + abs(0.0) + abs(0.5) + abs(-0.5) + abs(0.0) = 2.0\n",
    "$$\n",
    "\n",
    "Deze afstandsmaat noemen we de **manhattan distance** (kijk [hier](https://en.wikipedia.org/wiki/Taxicab_geometry) als je wil weten waarom dit zo heet). Let wel, dit is een afstandsmaat: de waarde wordt _groter_ naarmate de films _minder_ op elkaar lijken. In de praktijk willen we een gelijkheidsmaat: een waarde die groter wordt naarmate de films _meer_ op elkaar lijken. Een afstandsmaat is vrij eenvoudig om te zetten naar een gelijkheidsmaat. Er zijn meerdere manieren waarop dit kan, maar een veelgebruikte functie is:\n",
    "\n",
    "$$\n",
    "s = 1/(1 + d)\n",
    "$$\n",
    "\n",
    "Waarbij $s$ staat voor _similarity_ en $d$ voor de _distance_. In het geval van dit voorbeeld is de similarity dus:\n",
    "\n",
    "$$\n",
    "1 / (1 + 2.0) = 0.33\n",
    "$$\n",
    "\n",
    "Voor de volledigheid geven we ook de formele definitie van de manhattan distance. Gegeven item (film) $x$ en item $y$ met $n$ features (user ratings) definiëren we de manhattan distance $d(x, y)$ als volgt:\n",
    "\n",
    "$$\n",
    "d(x, y) = \\Sigma_{i=1}^{n}|x_{i} - y_{i}|\n",
    "$$ \n",
    "\n",
    "$$\n",
    "s(x, y) = 1/(1 + d(x, y))\n",
    "$$\n",
    "\n",
    "\n",
    "Hier volgt de implementatie van de manhattan distance:"
   ]
  },
  {
   "cell_type": "code",
   "execution_count": null,
   "metadata": {
    "deletable": false,
    "editable": false,
    "nbgrader": {
     "cell_type": "code",
     "checksum": "c60d72c26dbca18f0ea440b5b575336e",
     "grade": false,
     "grade_id": "cell-92d646592388428d",
     "locked": true,
     "schema_version": 3,
     "solution": false
    }
   },
   "outputs": [],
   "source": [
    "def manhattan_distance(matrix, id1, id2):\n",
    "    \"\"\"Compute manhattan distance between two rows.\"\"\"    \n",
    "    # only take the features that have values for both id1 and id2\n",
    "    selected_features = matrix.loc[id1].notna() & matrix.loc[id2].notna()\n",
    "    \n",
    "    # if no matching features, return 'not a number' (NaN)\n",
    "    if not selected_features.any():\n",
    "        return np.nan\n",
    "    \n",
    "    # get the features from the matrix\n",
    "    features1 = matrix.loc[id1][selected_features]\n",
    "    features2 = matrix.loc[id2][selected_features]\n",
    "    \n",
    "    # compute the distances for the features\n",
    "    distances = features1 - features2\n",
    "    \n",
    "    # return the absolute sum\n",
    "    return distances.abs().sum()\n",
    "\n",
    "def manhattan_similarity(matrix, id1, id2):\n",
    "    \"\"\"Compute manhattan similarity between two rows.\"\"\"\n",
    "    # compute distance\n",
    "    distance = manhattan_distance(matrix, id1, id2)\n",
    "    \n",
    "    # if no distance could be computed (no shared features) return a similarity of 0\n",
    "    if distance is np.nan:\n",
    "        return np.nan\n",
    "    \n",
    "    # else return similarity\n",
    "    return 1 / (1 + distance)\n",
    "\n",
    "similarity = manhattan_similarity(utility_matrix, 2571, 4306)\n",
    "print(f'Similarity between The Matrix and Shrek: {similarity:.2f}')"
   ]
  },
  {
   "cell_type": "markdown",
   "metadata": {
    "deletable": false,
    "editable": false,
    "nbgrader": {
     "cell_type": "markdown",
     "checksum": "2c6b6c942ddfe8cc9d69b373cc9538ac",
     "grade": false,
     "grade_id": "cell-f140fcbefe3225d6",
     "locked": true,
     "schema_version": 3,
     "solution": false
    }
   },
   "source": [
    "Net als we eerder de utility matrix hadden gemaakt om gemakkelijk ratings op te kunnen zoeken, zo gaan we nu een matrix maken om makkelijk te kunnen zoeken naar similarity:\n",
    "\n",
    "<table border=\"1\" class=\"dataframe\"><thead><tr style=\"text-align: right;\"><th></th><th>2571</th><th>2710</th><th>4306</th></tr></thead><tbody><tr><th>2571</th><td>1.000000</td><td>0.095238</td><td>0.333333</td></tr><tr><th>2710</th><td>0.095238</td><td>1.000000</td><td>0.086957</td></tr><tr><th>4306</th><td>0.333333</td><td>0.086957</td><td>1.000000</td></tr></tbody></table>\n",
    "\n",
    "### Vraag 8\n",
    "\n",
    "De functie `create_similarity_matrix_manhattan()` hieronder is nog niet af. Er wordt al een matrix met de juiste dimensies gegenereerd, maar de rest is aan jou. Vul de matrix met de juiste similarities:"
   ]
  },
  {
   "cell_type": "code",
   "execution_count": null,
   "metadata": {
    "deletable": false,
    "nbgrader": {
     "cell_type": "code",
     "checksum": "f05e7c1f58e4781481932cbf59ede71b",
     "grade": false,
     "grade_id": "cell-5bc7ad4513542246",
     "locked": false,
     "schema_version": 3,
     "solution": true
    }
   },
   "outputs": [],
   "source": [
    "def create_similarity_matrix_manhattan(matrix):\n",
    "    \"\"\"Creates the similarity matrix based on manhattan distance.\"\"\"\n",
    "    similarity_matrix = pd.DataFrame(0, index=matrix.index, columns=matrix.index, dtype=float)\n",
    "    # Iter of rows & columns, cause I couldnt get apply/-map to work\n",
    "    for index, row in similarity_matrix.iteritems():\n",
    "        for i in row.index:\n",
    "            similarity_matrix.at[index,i] = manhattan_similarity(matrix,float(index),float(i))\n",
    "    \n",
    "    return similarity_matrix\n",
    "\n",
    "similarity_matrix = create_similarity_matrix_manhattan(utility_matrix)\n",
    "display(similarity_matrix)"
   ]
  },
  {
   "cell_type": "markdown",
   "metadata": {},
   "source": [
    "### Check"
   ]
  },
  {
   "cell_type": "code",
   "execution_count": null,
   "metadata": {
    "deletable": false,
    "editable": false,
    "nbgrader": {
     "cell_type": "code",
     "checksum": "19dbd4924cc2a7615c665da203760772",
     "grade": true,
     "grade_id": "test_8",
     "locked": true,
     "points": 1,
     "schema_version": 3,
     "solution": false
    }
   },
   "outputs": [],
   "source": [
    "answers.test_8(create_similarity_matrix_manhattan, utility_matrix)"
   ]
  },
  {
   "cell_type": "markdown",
   "metadata": {
    "deletable": false,
    "editable": false,
    "nbgrader": {
     "cell_type": "markdown",
     "checksum": "ce786afe694700530c71e3ff0910c0c4",
     "grade": false,
     "grade_id": "cell-1111cb0ed373bb7b",
     "locked": true,
     "schema_version": 3,
     "solution": false
    }
   },
   "source": [
    "### Vraag 9\n",
    "\n",
    "a) In de bovenstaande matrix bevatten alle cellen op de diagonaal de waarde 1.0. Waarom is dat?\n",
    "\n",
    "b) De output van de tweede test is een matrix die een aantal NaN's bevat. Waar zou dit door kunnen komen?"
   ]
  },
  {
   "cell_type": "markdown",
   "metadata": {
    "deletable": false,
    "nbgrader": {
     "cell_type": "markdown",
     "checksum": "a79f891e403a4c618ea2167598e8e64d",
     "grade": true,
     "grade_id": "cell-581e34630c79900c",
     "locked": false,
     "points": 3,
     "schema_version": 3,
     "solution": true
    }
   },
   "source": [
    "a) Omdat de afstand tot zichzelf wordt berekend, en die is natuurlijk 0, waardoor de similarity 1 wordt.\n",
    "b) Omdat sommige gebruikers die films geen rating hebben gegeven, waardoor de ratings NaN zijn, en daar wordt ook mee verder gerekend, wat betekent dat het eind resultaat ook NaN's zijn."
   ]
  },
  {
   "cell_type": "markdown",
   "metadata": {
    "deletable": false,
    "editable": false,
    "nbgrader": {
     "cell_type": "markdown",
     "checksum": "9ed246272bc262aa89960370c9cb8087",
     "grade": false,
     "grade_id": "cell-0c96a90802437ee2",
     "locked": true,
     "schema_version": 3,
     "solution": false
    }
   },
   "source": [
    "### Euclidean similarity\n",
    "\n",
    "Manhattan distance is een makkelijke maat om te gebruiken, maar wordt in de praktijk weinig gebruikt. Want stel, je hebt twee films met soortgelijke ratings, maar telkens met een klein verschil. Dan tel je bij de Manhattan distance alle verschillen in elke dimensie, hoe klein ze ook zijn, bij elkaar op. Daardoor lijkt het alsof de films toch veel verschillen.\n",
    "\n",
    "Een populairdere maat is daarom de **Euclidische afstand**. Dit is de afstand die je krijgt als je de feature-space als een gewone fysieke ruimte beschouwd en de stelling van Pythagoras gebruikt om de afstand tussen twee punten (films) te bepalen. Door het gebruik van machten in de berekening van deze afstand worden kleine verschillen vrijwel genegeerd.\n",
    "\n",
    "Net als bij de Manhattan distance kijken we eerst naar de verschillen in afstand.\n",
    "\n",
    "<table><thead><tr style=\"text-align: center;\"><th></th><th>2571</th><th></th><th>4306</th><th></th><th>difference</th><th></th></tr></thead>\n",
    "<tbody><tr><th>182</th><td>5.0</td><td>-</td><td>4.0</td><td>=</td><td>1.0</td><td>(Gotlob vindt The Matrix beter dan Shrek)</td></tr>\n",
    "<tr><th>195</th><td>3.0</td><td>-</td><td>3.0</td><td>=</td><td>0.0</td><td>(Ada vindt beide films even goed)</td></tr>\n",
    "<tr><th>204</th><td>4.5</td><td>-</td><td>4.0</td><td>=</td><td>0.5</td><td>(Isaac vindt The Matrix een klein beetje beter)</td></tr>\n",
    "<tr><th>376</th><td>3.5</td><td>-</td><td>4.0</td><td>=</td><td>-0.5</td><td>(Carl vindt Shrek een klein beetje beter)</td></tr>\n",
    "<tr><th>542</th><td>5.0</td><td>-</td><td>5.0</td><td>=</td><td>0.0</td><td>(Nicolai vindt beide films even goed)</td></tr>\n",
    "</tbody></table>\n",
    "\n",
    "Vervolgens gebruiken we de stelling van Pythagoras voor het bereken van de euclidische afstand. In een 2D-ruimte is de stelling $d^2 = x^2 + y^2$ of, herschreven: $d = \\sqrt{x^2 + y^2}$. In het 3D-geval is $d = \\sqrt{x^2 + y^2 + z^2}$. In het algemeen is de stelling voor $n$ features $f_{1}$ t/m $f_{n}$:\n",
    "\n",
    "$$\n",
    "d = \\sqrt{f_{1}^2 + f_{2}^2 + \\ldots + f_{n}^2}\n",
    "$$\n",
    "\n",
    "In ons voorbeeld is de afstand $d$ dus:\n",
    "\n",
    "$$\n",
    "d = \\sqrt{1.0^2 + 0.0^2 + 0.5^2 + -0.5^2 + 0.0^2} \\approx 1.22\n",
    "$$\n",
    "\n",
    "Als we deze afstand omrekenen naar similarities:\n",
    "\n",
    "$$\n",
    "1 / (1 + 1.22) \\approx 0.45\n",
    "$$\n",
    "\n",
    "De formele definitie:\n",
    "\n",
    "$$\n",
    "d(x, y) = \\sqrt{\\Sigma_{i=1}^{n}(x_{i} - y_{i})^2}\n",
    "$$\n",
    "\n",
    "$$\n",
    "s(x, y) = 1/(1 + d(x, y))\n",
    "$$\n",
    "\n",
    "### Vraag 10\n",
    "\n",
    "Implementeer hieronder de functie `create_similarity_matrix_euclid()`:"
   ]
  },
  {
   "cell_type": "code",
   "execution_count": null,
   "metadata": {
    "deletable": false,
    "nbgrader": {
     "cell_type": "code",
     "checksum": "a97a3fbcedcce76f20af96b833350234",
     "grade": false,
     "grade_id": "cell-1346b3f62951d34e",
     "locked": false,
     "schema_version": 3,
     "solution": true
    }
   },
   "outputs": [],
   "source": [
    "# implement some helper functions?\n",
    "# TODO\n",
    "def euclid_dist(matrix, id1, id2):\n",
    "    # only take the features that have values for both id1 and id2\n",
    "    selected_features = matrix.loc[id1].notna() & matrix.loc[id2].notna()\n",
    "    \n",
    "    # if no matching features, return 'not a number' (NaN)\n",
    "    if not selected_features.any():\n",
    "        return np.nan\n",
    "    \n",
    "    # get the features from the matrix\n",
    "    features1 = matrix.loc[id1][selected_features]\n",
    "    features2 = matrix.loc[id2][selected_features]\n",
    "    \n",
    "    distance = np.sqrt(sum((features1-features2)**2))\n",
    "    \n",
    "    return distance\n",
    "    \n",
    "\n",
    "def euclid_sim(matrix, id1, id2):\n",
    "    # compute distance\n",
    "    distance = euclid_dist(matrix, id1, id2)\n",
    "    \n",
    "    # if no distance could be computed (no shared features) return a similarity of 0\n",
    "    if distance is np.nan:\n",
    "        return np.nan\n",
    "    \n",
    "    # else return similarity\n",
    "    return 1 / (1 + distance)   \n",
    "\n",
    "def create_similarity_matrix_euclid(matrix):\n",
    "    \"\"\"creates the similarity matrix based on eucledian distance\"\"\"\n",
    "    similarity_matrix = pd.DataFrame(0, index=matrix.index, columns=matrix.index, dtype=float)\n",
    "    # Iter of rows & columns, cause I couldnt get apply/-map to work\n",
    "    for index, row in similarity_matrix.iteritems():\n",
    "        for i in row.index:\n",
    "            similarity_matrix.at[index,i] = euclid_sim(matrix,float(index),float(i))\n",
    "    \n",
    "    return similarity_matrix\n",
    "    \n",
    "\n",
    "similarity = create_similarity_matrix_euclid(utility_matrix)\n",
    "display(similarity)"
   ]
  },
  {
   "cell_type": "markdown",
   "metadata": {
    "deletable": false,
    "editable": false,
    "nbgrader": {
     "cell_type": "markdown",
     "checksum": "d4c52e2ba7917b903ec8cad6021b3e25",
     "grade": false,
     "grade_id": "cell-adce1ac2cafe8db4",
     "locked": true,
     "schema_version": 3,
     "solution": false
    }
   },
   "source": [
    "### Check"
   ]
  },
  {
   "cell_type": "code",
   "execution_count": null,
   "metadata": {
    "deletable": false,
    "editable": false,
    "nbgrader": {
     "cell_type": "code",
     "checksum": "ce78a6bb179381c03a646af50b91d334",
     "grade": true,
     "grade_id": "test_10",
     "locked": true,
     "points": 1,
     "schema_version": 3,
     "solution": false
    }
   },
   "outputs": [],
   "source": [
    "answers.test_10(create_similarity_matrix_euclid, utility_matrix)"
   ]
  },
  {
   "cell_type": "markdown",
   "metadata": {
    "deletable": false,
    "editable": false,
    "nbgrader": {
     "cell_type": "markdown",
     "checksum": "6bc84023bce36e13f666b3d3e5c360c9",
     "grade": false,
     "grade_id": "cell-2a0f9c7b51544976",
     "locked": true,
     "schema_version": 3,
     "solution": false
    }
   },
   "source": [
    "### Cosine similarity\n",
    "\n",
    "Voor het vergelijken van verschillende items wordt in de praktijk veel van de _cosine similarity_ gebruik gemaakt. Voor het bepalen hiervan trekken we twee denkbeeldige lijnen van de oorsprong naar de data punten die we willen vergelijken en nemen we de hoek tussen die twee lijnen: \n",
    "\n",
    "<img src = './include/cosine similarity.png'>\n",
    "\n",
    "In het bovenstaande voorbeeld bepalen we de cosine similarity voor film 2571 en 2710 en kijken we even alleen naar de ratings van gebruiker 195 en 542. De hoek tussen de twee lijnen voor beide films $\\Theta$ is $0.57^{\\circ}$ rad. De cosine similarity is gedefinieerd als de cosinus van deze hoek. In dit voorbeeld is de similarity dus cos$(0.57) \\approx 0.84$.\n",
    "\n",
    "In het geval van de cosine similarity doet de afstand van een punt tot oorsprong er niet toe. Waarom zou dit een voordeel kunnen zijn?\n",
    "\n",
    "Het bereken van de cosine similarity is eenvoudiger dan het voorbeeld doet vermoeden voor twee punten $A = (a_1, a_2)$ en $B = (b_1, b_2)$ is de cosine similarity:\n",
    "$$\n",
    "\\textrm{cos}(A, B) = \\frac{a_1*b_1 + a_2*b_2}{\\sqrt{a_1^2 + a_2^2}*\\sqrt{b_1^2 + b_2^2}}\n",
    "$$\n",
    "\n",
    "In ons geval is dat dus:\n",
    "$$\n",
    "\\textrm{cos}(2571, 2710) = \\frac{3.0*1.0 + 5.0*0.5}{\\sqrt{3.0^2 + 5.0^2} * \\sqrt{1.0^2 + 0.5^2}} \\approx 0.84\n",
    "$$\n",
    "\n",
    "In de bovenstaande berekening hebben we voor het gemak aangenomen dat er maar twee features zijn (de ratings van gebruiker 195 en 542). In werkelijkheid hebben we natuurlijk niet twee features, maar veel meer. In ons geval hebben we er vijf. De algemene formule voor de cosinus van items met $n$ features $A = (a_1, a_2, \\ldots, a_n)$ en $B = (b_1, b_2, \\ldots, b_n)$ is:\n",
    "\n",
    "$$\n",
    "\\textrm{cos}(A, B) = \\frac{a_1*b_1 + a_2*b_2 + \\ldots + a_n*b_n}{\\sqrt{a_1^2 + a_2^2 + \\ldots + a_n^2}*\\sqrt{b_1^2 + b_2^2 + \\ldots b_n^2}}\n",
    "$$\n",
    "\n",
    "In ons geval is dat dus:\n",
    "$$\n",
    "\\textrm{cos}(2571, 2710) = \\frac{5.0*4.5  + 3.0*1.0 + 4.5*5.0 + 3.5*1.5 + 5.0*0.5}{\\sqrt{5.0^2 + 3.0^2 + 4.5^2 + 3.5^2 + 5.0^2} * \\sqrt{4.5 ^ 2  + 1.0^2 + 5.0^2 + 1.5^2 + 0.5^2}} \\approx 0.83\n",
    "$$\n",
    "\n",
    "De formele defnitie:\n",
    "$$\n",
    "\\textrm{cos}(A, B) = \\frac{\\sum_{i = 1}^n a_i * b_i}{\\sqrt{\\sum_{i = 1}^n a_i^2}{\\sqrt{\\sum_{i = 1}^n b_i^2}}}\n",
    "$$\n",
    "\n",
    "### Vraag 11\n",
    "\n",
    "Gebruik de bovenstaande formule voor het implementeren van de functie `create_similarity_matrix_cosine()` hieronder. Let erop dat als er geen overeenkomende features zijn, je `0.0` returned. Er is een randgeval bij een film die enkel wordt gerate met `0.0`, `return` ook dan `0.0`. Waarom is dit eigenlijk een randgeval bij het berekenen van cosine similarity?"
   ]
  },
  {
   "cell_type": "code",
   "execution_count": null,
   "metadata": {
    "deletable": false,
    "nbgrader": {
     "cell_type": "code",
     "checksum": "8f712aa3de2bf9379af739e7372707b7",
     "grade": false,
     "grade_id": "cell-e1b0bec2ce286579",
     "locked": false,
     "schema_version": 3,
     "solution": true
    }
   },
   "outputs": [],
   "source": [
    "# TODO\n",
    "def cos_sim(matrix, id1, id2):\n",
    "    # only take the features that have values for both id1 and id2\n",
    "    selected_features = matrix.loc[id1].notna() & matrix.loc[id2].notna()\n",
    "    \n",
    "    # if no matching features, return 'not a number' (NaN)\n",
    "    if not selected_features.any():\n",
    "        return np.nan\n",
    "    \n",
    "    # get the features from the matrix\n",
    "    features1 = matrix.loc[id1][selected_features]\n",
    "    features2 = matrix.loc[id2][selected_features]\n",
    "\n",
    "    #if sum(features1)==0. or sum(features2)==0.:\n",
    "        #return 1.\n",
    "    \n",
    "    if id1 == id2:\n",
    "        return 1.\n",
    "    \n",
    "    sim = (np.sqrt(sum(features1**2))*np.sqrt(sum(features2**2)))\n",
    "    \n",
    "    if sim == 0.:\n",
    "        return np.nan\n",
    "    \n",
    "    return sum(tfeatures1*features2)/sim\n",
    "\n",
    "def create_similarity_matrix_cosine(matrix):\n",
    "    similarity_matrix = pd.DataFrame(0, index=matrix.index, columns=matrix.index, dtype=float)\n",
    "    # Iter of rows & columns, cause I couldnt get apply/-map to work\n",
    "    for index, row in similarity_matrix.iteritems():\n",
    "        for i in row.index:\n",
    "            similarity_matrix.at[index,i] = cos_sim(matrix,float(index),float(i))\n",
    "    \n",
    "    return similarity_matrix\n",
    "\n",
    "similarity = create_similarity_matrix_cosine(utility_matrix)\n",
    "display(similarity)"
   ]
  },
  {
   "cell_type": "markdown",
   "metadata": {},
   "source": [
    "### Check"
   ]
  },
  {
   "cell_type": "code",
   "execution_count": null,
   "metadata": {
    "deletable": false,
    "editable": false,
    "nbgrader": {
     "cell_type": "code",
     "checksum": "d3a3cd8264ca3da6719b1662eb0b4ac3",
     "grade": true,
     "grade_id": "test_11",
     "locked": true,
     "points": 1,
     "schema_version": 3,
     "solution": false
    }
   },
   "outputs": [],
   "source": [
    "answers.test_11(create_similarity_matrix_cosine, utility_matrix)"
   ]
  },
  {
   "cell_type": "markdown",
   "metadata": {
    "deletable": false,
    "editable": false,
    "nbgrader": {
     "cell_type": "markdown",
     "checksum": "765424702033cbb616c072a5ffd65a28",
     "grade": false,
     "grade_id": "cell-41868eb98fe60d01",
     "locked": true,
     "schema_version": 3,
     "solution": false
    }
   },
   "source": [
    "### Mean centering\n",
    "\n",
    "Het probleem met de cosine similarity is dat het erg gevoelig is voor bias. Dat wil zeggen, als de gemiddelde waarde van een feature geen 0 is, dan geeft de cosine similarity geen goede scores. In ons geval is dit een probleem. De gemiddelde rating per gebruiker is zeker geen 0.\n",
    "\n",
    "De oplossing hiervoor is **mean centering**. Hierbij is het idee om de gemiddelde rating van een gebruiker te verminderen met het gemiddelde _van diezelfde_ gebruiker. Aangezien we in de utility matrix elke kolom de ratings van één gebruiker staan komt het er dus op neer elke kolom te verminderen met het gemiddelde van die kolom.\n",
    "\n",
    "Hieronder zie je het effect hiervan. In Figuur 1 zien we de cosine similarity zonder mean centering, in Figuur 2 de cosine similairty van dezelfde twee punten, maar met centering. De cosine similarity toegepast op een mean centered utility matrix wordt ook wel de **adjusted cosine** genoemd. \n",
    "\n",
    "<table>\n",
    "    <tr style =\"background-color: #ffffff\"><td style=\"text-align:center\">Figuur 1</td><td style=\"text-align:center\">Figuur 2</td></tr>\n",
    "    <tr><td><img src = './include/cosine similarity.png'></td><td><img src = './include/adjusted cosine similarity.png'></td></tr>\n",
    "</table>\n",
    "\n",
    "### Vraag 12\n",
    "\n",
    "Implementeer hieronder de functie `mean_center_columns()`:"
   ]
  },
  {
   "cell_type": "code",
   "execution_count": null,
   "metadata": {
    "deletable": false,
    "nbgrader": {
     "cell_type": "code",
     "checksum": "5f5ea18512d7b84d4b1fbd93d70c0fc4",
     "grade": false,
     "grade_id": "cell-3c777218f021955b",
     "locked": false,
     "schema_version": 3,
     "solution": true
    }
   },
   "outputs": [],
   "source": [
    "def mean_center_columns(matrix):\n",
    "    mean_centered = matrix.copy()\n",
    "    for col in list(matrix.columns):\n",
    "        mean_centered[col] -= matrix[col].mean()\n",
    "        \n",
    "    return mean_centered\n",
    "\n",
    "\n",
    "centered_utility_matrix = mean_center_columns(utility_matrix)\n",
    "display(centered_utility_matrix)\n",
    "\n",
    "similarity = create_similarity_matrix_cosine(centered_utility_matrix)\n",
    "display(similarity)"
   ]
  },
  {
   "cell_type": "markdown",
   "metadata": {
    "deletable": false,
    "editable": false,
    "nbgrader": {
     "cell_type": "markdown",
     "checksum": "cd5a21e3b59f03788ccdfc1292f9dce6",
     "grade": false,
     "grade_id": "cell-f808f2f7b85b9148",
     "locked": true,
     "schema_version": 3,
     "solution": false,
     "task": false
    }
   },
   "source": [
    "### Check"
   ]
  },
  {
   "cell_type": "code",
   "execution_count": null,
   "metadata": {
    "deletable": false,
    "editable": false,
    "nbgrader": {
     "cell_type": "code",
     "checksum": "fd169d353d0e7646f700e3c7e7435b15",
     "grade": true,
     "grade_id": "test_12",
     "locked": true,
     "points": 1,
     "schema_version": 3,
     "solution": false
    }
   },
   "outputs": [],
   "source": [
    "answers.test_12(mean_center_columns, utility_matrix, create_similarity_matrix_cosine)"
   ]
  },
  {
   "cell_type": "markdown",
   "metadata": {
    "deletable": false,
    "editable": false,
    "nbgrader": {
     "cell_type": "markdown",
     "checksum": "5ee0b5041bf5d99eae620335ef707795",
     "grade": false,
     "grade_id": "cell-034a7ba79c46d7c8",
     "locked": true,
     "schema_version": 3,
     "solution": false
    }
   },
   "source": [
    "### Voorspellingen\n",
    "\n",
    "We hebben nu meerdere maten voor het vergelijken van films. Hoe kunnen we de similarity functies gebruiken voor het aanbevelen van films. Dit probleem kunnen we herformuleren: Gegeven een gebruiker (de *target user*) die een bepaalde film (de *target film*) nog niet heeft gezien, hoe zou deze gebruiker de film raten na het zien?\n",
    "\n",
    "De kern van het probleem is dus het voorspellen van een \"missende\" rating.\n",
    "\n",
    "Er zijn veel mogelijke aanpakken, maar een veelgebruikte manier voor het aanbevelen van items is **neighborhood based**. De intuïtie is weer eenvoudig. Voor de *target film*, kijk welke films erop lijken (de *neighborhood*) en kijk wat de *target user* daarvon vond. \n",
    "\n",
    "Het algoritme bestaat uit twee stappen:\n",
    "\n",
    "1. Selecteer de *neighborhood* van de *target film*. Selecteer alle films waarvoor geldt dat:\n",
    "    - de *target user* de film gezien heeft\n",
    "    - de film zeer vergelijkbaar is met de *target film*\n",
    "    \n",
    "    \n",
    "2. Neem het gewogen gemiddelde van de geselecteerde films. Dat wil zeggen dat een film die meer vergelijkbaar is met de *target film* ook meer bijdraagt aan het gemiddelde.\n",
    "\n",
    "Om deze stappen uit te werken hebben we iets meer data nodig. Voor het uitproberen van het algoritme voegen we handmatig wat data toe. We introduceren 2 extra gebruikers (123 en 456) en een extra film (4444):"
   ]
  },
  {
   "cell_type": "code",
   "execution_count": null,
   "metadata": {
    "deletable": false,
    "editable": false,
    "nbgrader": {
     "cell_type": "code",
     "checksum": "e7439bb064a9fea5be98352ccafb81b7",
     "grade": false,
     "grade_id": "cell-5cfcb40a44093279",
     "locked": true,
     "schema_version": 3,
     "solution": false
    }
   },
   "outputs": [],
   "source": [
    "# create some mock data\n",
    "l = [[123, 2571, 5.0, 0], [123, 2710, 1.5, 0], [123, 4444, 4.0, 0],\n",
    "     [456, 2571, 1.5, 0], [456, 2710, 5.0, 0], [456, 4444, 1.0, 0],\n",
    "     [182, 4444, 3.0, 0], [195, 4444, 2.0, 0], [204, 4444, 4.0, 0],\n",
    "     [376, 4444, 4.5, 0], [542, 4444, 4.5, 0], [123, 5555, 3.5, 0], \n",
    "     [456, 5555, 3.5, 0]]\n",
    "extra_data = pd.DataFrame(l, columns = ratings.columns)\n",
    "more_ratings = pd.concat([ratings, extra_data])\n",
    "\n",
    "# recompute utility matrix\n",
    "utility_matrix2 = pivot_ratings(more_ratings)\n",
    "display(utility_matrix2)\n",
    "\n",
    "# recompute similarity matrix\n",
    "centered_matrix = mean_center_columns(utility_matrix2)\n",
    "similarity = create_similarity_matrix_cosine(centered_matrix)\n",
    "display(similarity)"
   ]
  },
  {
   "cell_type": "markdown",
   "metadata": {
    "deletable": false,
    "editable": false,
    "nbgrader": {
     "cell_type": "markdown",
     "checksum": "8c4c02d151d7752211b277190e18b9ad",
     "grade": false,
     "grade_id": "cell-99b0d485e6d4dded",
     "locked": true,
     "schema_version": 3,
     "solution": false
    }
   },
   "source": [
    "Zoals je ziet hebben de nieuwe gebruikers (123 en 456) geen rating voor de film Shrek (4306). Die ratings gaan we proberen te voorspellen.\n",
    "\n",
    "Om een beeld te krijgen van deze nieuwe data maken we weer een plot:"
   ]
  },
  {
   "cell_type": "code",
   "execution_count": null,
   "metadata": {
    "deletable": false,
    "editable": false,
    "nbgrader": {
     "cell_type": "code",
     "checksum": "62ab3f414e901b3bb32c3b2f503afa22",
     "grade": false,
     "grade_id": "cell-9a57e916a3039ce4",
     "locked": true,
     "schema_version": 3,
     "solution": false,
     "task": false
    }
   },
   "outputs": [],
   "source": [
    "plot_scatter_matrix(utility_matrix2)"
   ]
  },
  {
   "cell_type": "markdown",
   "metadata": {
    "deletable": false,
    "editable": false,
    "nbgrader": {
     "cell_type": "markdown",
     "checksum": "db6396884d4207f14fd4fd78c00e1727",
     "grade": false,
     "grade_id": "cell-58ee482d8cfa87da",
     "locked": true,
     "schema_version": 3,
     "solution": false
    }
   },
   "source": [
    "### Vraag 13\n",
    "\n",
    "Als je naar de bovenstaande plots kijkt, welke film zou je aanbevelen aan gebruiker 123? En aan gebruiker 456? Beargumenteer."
   ]
  },
  {
   "cell_type": "markdown",
   "metadata": {
    "deletable": false,
    "nbgrader": {
     "cell_type": "markdown",
     "checksum": "6fca3ec074d30516fae8f1e32d4b0cba",
     "grade": true,
     "grade_id": "cell-0b80c9ce3e49e852",
     "locked": false,
     "points": 3,
     "schema_version": 3,
     "solution": true
    }
   },
   "source": [
    "Voor gebruiker 123 zou ik film 4306 aanraden. Die film ligt vrij vaak bij de films 2571 en 4444, en dat zijn 2 films die 123 een hoge rating gaf.\n",
    "\n",
    "Voor gebruiker 456 zou ik ook film 4306 aanraden. De andere film die gebruiker niet gezien heeft is 5555, maar er zijn voor mij te weinig data punten om goed te bepalen wat de gebruiker van die film zou vinden. Verder staat 4306 met enige regelmaat in de buurt van film 2710, en film 2710 is een film die gebruiker 456 een hoge rating gaf. Daarnaast is het voor de keren 5555 voorkomt met 2710, is de afstand niet echt dichtbij, maar ook niet heel erg ver. Dat maakt het schatten extra lastig."
   ]
  },
  {
   "cell_type": "markdown",
   "metadata": {
    "deletable": false,
    "editable": false,
    "nbgrader": {
     "cell_type": "markdown",
     "checksum": "38365595fbdd24ed62590e9f7fc46a16",
     "grade": false,
     "grade_id": "cell-0093075937b1f6a2",
     "locked": true,
     "schema_version": 3,
     "solution": false
    }
   },
   "source": [
    "### Vraag 14\n",
    "\n",
    "We gaan eerst Stap 1 van het algoritme uitwerken:\n",
    "\n",
    "1. Selecteer de neighborhood van de target film. Selecteer alle films waarvoor geldt dat:\n",
    "    - de target user de film gezien heeft\n",
    "    - de film zeer vergelijkbaar is met de target film\n",
    "\n",
    "We moeten alleen een definitie geven van \"zeer vergelijkbaar\". Hiervoor kunnen we vele keuzes maken. Vaak worden de top $k$ meest vergelijkbare items genomen. Waarbij de beste waarde voor $k$ proefondervindelijk wordt vastgesteld. Bovendien is het belangrijk om alleen items te nemen waarvan de _cosine similarity_ groter is dan 0.\n",
    "\n",
    "Implementeer hieronder de functie `select_neighborhood()`. Deze functie krijgt als input een `Series` met de similarities, een `Series` met ratings en de parameter `k` en geeft een `Series` terug met de top `k` `movieId`'s en de bijbehorende similarities. Voor bijvoorbeeld gebruiker 123, film 4306 en k = 10 geeft de functie de volgende `Series` terug:\n",
    "\n",
    "    2571    0.732576\n",
    "    4444    0.584364\n",
    "    Name: 4306, dtype: float64\n",
    "    \n",
    "Let op: deze output bevat noch de film 2710 noch de film 4306. De film 2710 mist omdat de similarity kleiner is dan 0, en 4306 mist omdat gebruiker 123 deze nog niet heeft gezien. De output bevat bovendien maar 2 items, in plaats van 10. Dit komt omdat er in totaal maar 2 films zijn die een similarity groter dan 0 hebben met film 4306."
   ]
  },
  {
   "cell_type": "code",
   "execution_count": null,
   "metadata": {
    "deletable": false,
    "nbgrader": {
     "cell_type": "code",
     "checksum": "de701f9840b96accb146448271d6abbb",
     "grade": false,
     "grade_id": "cell-bc604a78a71584c8",
     "locked": false,
     "schema_version": 3,
     "solution": true
    }
   },
   "outputs": [],
   "source": [
    "def select_neighborhood(similarities, ratings, k):\n",
    "    \"\"\" selects all items with similarity > 0  \"\"\"\n",
    "    # drop all non watched movies\n",
    "    \n",
    "    for key,v in ratings.iteritems():\n",
    "        if np.isnan(v):\n",
    "            similarities = similarities.drop(labels=key)\n",
    "    \n",
    "    for key,v in similarities.iteritems():\n",
    "        if not v > 0.:\n",
    "            similarities = similarities.drop(labels=key)\n",
    "            \n",
    "    similarities = similarities.sort_values(ascending=False)\n",
    "    \n",
    "    return similarities[:k]\n",
    "    \n",
    "neighborhood = select_neighborhood(similarity[4306], utility_matrix2[123], 10)\n",
    "display(neighborhood)"
   ]
  },
  {
   "cell_type": "markdown",
   "metadata": {
    "deletable": false,
    "editable": false,
    "nbgrader": {
     "cell_type": "markdown",
     "checksum": "0e1632ec811d2cd3e402ded5bee65b22",
     "grade": false,
     "grade_id": "cell-9b23f9c3192883bd",
     "locked": true,
     "schema_version": 3,
     "solution": false
    }
   },
   "source": [
    "### Check"
   ]
  },
  {
   "cell_type": "code",
   "execution_count": null,
   "metadata": {
    "deletable": false,
    "editable": false,
    "nbgrader": {
     "cell_type": "code",
     "checksum": "739158e9344d111bb682b3b782868bd0",
     "grade": true,
     "grade_id": "test_14",
     "locked": true,
     "points": 1,
     "schema_version": 3,
     "solution": false
    }
   },
   "outputs": [],
   "source": [
    "answers.test_14(select_neighborhood, similarity, utility_matrix2)"
   ]
  },
  {
   "cell_type": "markdown",
   "metadata": {
    "deletable": false,
    "editable": false,
    "nbgrader": {
     "cell_type": "markdown",
     "checksum": "85e79613799d42f53ec39be41cdc7299",
     "grade": false,
     "grade_id": "cell-1d8f2b9359d7f80e",
     "locked": true,
     "schema_version": 3,
     "solution": false,
     "task": false
    }
   },
   "source": [
    "### Vraag 15\n",
    "\n",
    "Nu rest nog stap 2 van het algoritme:\n",
    "\n",
    "2. Neem het gewogen gemiddelde van de geselecteerde films. Dat wil zeggen dat een film die meer vergelijkbaar is met de _target film_ ook meer bijdraagt aan het gemiddelde.\n",
    "\n",
    "In het voorbeeld hierboven bevat de neighborhood de similarities $0.73$ en $0.58$ voor respectievelijk de films 2571 en 4444. De ratings die gebruiker 123 voor deze films heeft gegeven zijn $5.0$ en $4.0$. Het gewogen gemiddelde is dan:\n",
    "$$\n",
    "\\textrm{predicted rating} = \\frac{5.0 * 0.73+4.0 * 0.58}{0.73 + 0.58} \\approx 4.56\n",
    "$$\n",
    "\n",
    "De formele definitie (met $r_i$ de rating en $s_i$ de similarity voor film $i$):\n",
    "$$\n",
    "\\textrm{predicted rating} = \\frac{\\sum_{\\textrm{i in neighborhood}} r_i * s_i}{\\sum_{\\textrm{i in neighborhood}}s_i}\n",
    "$$\n",
    "\n",
    "Implementeer hieronder de laatste stap van het item based collaborative filtering algoritme. Implementeer de functie `weighted_mean()`."
   ]
  },
  {
   "cell_type": "code",
   "execution_count": null,
   "metadata": {
    "deletable": false,
    "nbgrader": {
     "cell_type": "code",
     "checksum": "2f455841c4d82bf72882014757565042",
     "grade": false,
     "grade_id": "cell-81f44a2931819d17",
     "locked": false,
     "schema_version": 3,
     "solution": true
    }
   },
   "outputs": [],
   "source": [
    "def weighted_mean(neighborhood, ratings):  \n",
    "    pred_rating = 0.\n",
    "    for k,v in neighborhood.iteritems():\n",
    "        pred_rating += v*ratings[k]\n",
    "    \n",
    "    if sum(neighborhood)==0:\n",
    "        return np.nan\n",
    "    return pred_rating/sum(neighborhood)\n",
    "    \n",
    "    \n",
    "neighborhood1 = select_neighborhood(similarity[4306], utility_matrix2[123], 10)\n",
    "neighborhood2 = select_neighborhood(similarity[4306], utility_matrix2[456], 10)\n",
    "prediction1 = weighted_mean(neighborhood1, utility_matrix2[123])\n",
    "prediction2 = weighted_mean(neighborhood2, utility_matrix2[456])\n",
    "# prediction2 = predict_rating_item_based(adjusted_cosine_similarity_matrix, eva, 4306)\n",
    "print(f'User 123 predicted rating for Shrek {prediction1:.2f}')\n",
    "print(f'User 456 predicted rating for Shrek {prediction2:.2f}')  "
   ]
  },
  {
   "cell_type": "markdown",
   "metadata": {
    "deletable": false,
    "editable": false,
    "nbgrader": {
     "cell_type": "markdown",
     "checksum": "476cda8fb9d85a358164cbfdc2b1baca",
     "grade": false,
     "grade_id": "cell-d273926835be987d",
     "locked": true,
     "schema_version": 3,
     "solution": false
    }
   },
   "source": [
    "### Check"
   ]
  },
  {
   "cell_type": "code",
   "execution_count": null,
   "metadata": {
    "deletable": false,
    "editable": false,
    "nbgrader": {
     "cell_type": "code",
     "checksum": "5461c70c4979fd274d18db13619d3546",
     "grade": true,
     "grade_id": "test_15",
     "locked": true,
     "points": 1,
     "schema_version": 3,
     "solution": false
    }
   },
   "outputs": [],
   "source": [
    "answers.test_15(select_neighborhood, similarity, utility_matrix2, weighted_mean)"
   ]
  },
  {
   "cell_type": "markdown",
   "metadata": {
    "deletable": false,
    "editable": false,
    "nbgrader": {
     "cell_type": "markdown",
     "checksum": "7d2442b89184baa6c7a9d0979b0c2de0",
     "grade": false,
     "grade_id": "cell-d4b9edc876b3216f",
     "locked": true,
     "schema_version": 3,
     "solution": false
    }
   },
   "source": [
    "### Vraag 16\n",
    "\n",
    "Conclusie: Zou je gebruiker 123 Shrek aanraden? En gebruiker 456?"
   ]
  },
  {
   "cell_type": "markdown",
   "metadata": {
    "deletable": false,
    "nbgrader": {
     "cell_type": "markdown",
     "checksum": "4b1e36de9c907650824b7c1926582773",
     "grade": true,
     "grade_id": "cell-2ea27efd75a52848",
     "locked": false,
     "points": 1,
     "schema_version": 3,
     "solution": true
    }
   },
   "source": [
    "Ik zou gebruiker 123 Shrek aanraden vanwege de hoge predicted rating van 4.56. En ik zou gebruiker 456 de film shrek niet aanraden vanwege de lage predicted rating van 1.28."
   ]
  },
  {
   "cell_type": "markdown",
   "metadata": {
    "deletable": false,
    "editable": false,
    "nbgrader": {
     "cell_type": "markdown",
     "checksum": "1a02a099061e97c9bee1181c90f1e64c",
     "grade": false,
     "grade_id": "cell-83438ce60dc016be",
     "locked": true,
     "schema_version": 3,
     "solution": false
    }
   },
   "source": [
    "# Deel 2: User based filtering\n",
    "\n",
    "Tot nu toe keken we naar item based filtering. Hier voorspellen we ratings aan de hand van vergelijkbaarheid van de items (films). De voornaamste tegenhanger van item based filtering is *user based filtering*. Dit is het collaborative filtering equivalent van iemand met dezelfde filmsmaak om advies vragen. \n",
    "\n",
    "Het proces van user based filtering is vrijwel identiek aan item based filtering. We draaien alleen de rollen om:\n",
    "\n",
    "- in plaats van een utility matrix met horizontaal de gebruikers en verticaal de films, wisselen we de assen om  \n",
    "- in plaats van een similarity matrix voor films maken we een similarity matrix voor gebruikers\n",
    "- in plaats van een neighborhood van de _target film_ selecteren we een neighborhood van de _target user_.\n",
    "- in plaats van een gewogen gemiddelde van de ratings van vergelijkbare films nemen we een gewogen gemiddelde van de ratings van vergelijkbare users.\n",
    "\n",
    "Voor de onderstaande vragen gaan we weer van de _uitgebreide ratings data_ uit.\n",
    "\n",
    "Tip: Voor de onderstaande vragen hoef je maar weinig code te schrijven. **Maak zoveel mogelijk gebruik van de functies die je hierboven geschreven hebt.** Als je in een cel meer dan een paar regels code moet schrijven maak je het waarschijnlijk te ingewikkeld."
   ]
  },
  {
   "cell_type": "code",
   "execution_count": null,
   "metadata": {
    "deletable": false,
    "editable": false,
    "nbgrader": {
     "cell_type": "code",
     "checksum": "668cc73b304c9c37f20519abef288a24",
     "grade": false,
     "grade_id": "cell-2b878119d0788b78",
     "locked": true,
     "schema_version": 3,
     "solution": false
    }
   },
   "outputs": [],
   "source": [
    "display(more_ratings)"
   ]
  },
  {
   "cell_type": "markdown",
   "metadata": {
    "deletable": false,
    "editable": false,
    "nbgrader": {
     "cell_type": "markdown",
     "checksum": "152303889a7f1e9b11b8060bfd87e399",
     "grade": false,
     "grade_id": "cell-78672d745a5d7b05",
     "locked": true,
     "schema_version": 3,
     "solution": false
    }
   },
   "source": [
    "### Vraag 17\n",
    "\n",
    "Maak een nieuwe utility matrix, maar nu met de gebruikers als rijen en de films als kolommen.\n",
    "\n",
    "Tip: met `df.T` kan je de rijen en kolommen van dataframe `df` omwisselen."
   ]
  },
  {
   "cell_type": "code",
   "execution_count": null,
   "metadata": {
    "deletable": false,
    "nbgrader": {
     "cell_type": "code",
     "checksum": "3d7dd103683511076eb16caa3904b0d1",
     "grade": false,
     "grade_id": "cell-d8b62ed1126d158c",
     "locked": false,
     "schema_version": 3,
     "solution": true
    }
   },
   "outputs": [],
   "source": [
    "# make sure that utility_matrix contains the new flipped utility matrix\n",
    "\n",
    "utility_matrix3 = more_ratings.pivot(index='userId',columns='movieId',values='rating')\n",
    "\n",
    "\n",
    "display(utility_matrix3)"
   ]
  },
  {
   "cell_type": "markdown",
   "metadata": {
    "deletable": false,
    "editable": false,
    "nbgrader": {
     "cell_type": "markdown",
     "checksum": "1ec0112d4436b3486a6fcf078573d980",
     "grade": false,
     "grade_id": "cell-5e9568106874e1d3",
     "locked": true,
     "schema_version": 3,
     "solution": false
    }
   },
   "source": [
    "### Check"
   ]
  },
  {
   "cell_type": "code",
   "execution_count": null,
   "metadata": {
    "deletable": false,
    "editable": false,
    "nbgrader": {
     "cell_type": "code",
     "checksum": "1bb7b213df5bffafec69c3b738a80318",
     "grade": true,
     "grade_id": "test_17",
     "locked": true,
     "points": 1,
     "schema_version": 3,
     "solution": false
    }
   },
   "outputs": [],
   "source": [
    "answers.test_17(utility_matrix3)"
   ]
  },
  {
   "cell_type": "markdown",
   "metadata": {
    "deletable": false,
    "editable": false,
    "nbgrader": {
     "cell_type": "markdown",
     "checksum": "3b2be73751a79f8900a1cbddc8dd734c",
     "grade": false,
     "grade_id": "cell-614c4ecee8cc2927",
     "locked": true,
     "schema_version": 3,
     "solution": false
    }
   },
   "source": [
    "### Vraag 18\n",
    "\n",
    "Maak een scatter plot matrix van de utility matrix."
   ]
  },
  {
   "cell_type": "code",
   "execution_count": null,
   "metadata": {
    "deletable": false,
    "nbgrader": {
     "cell_type": "code",
     "checksum": "54231da0064ac84a8ba19c96c23bfe4f",
     "grade": true,
     "grade_id": "cell-1b4a6c165b17fecd",
     "locked": false,
     "points": 1,
     "schema_version": 3,
     "solution": true
    }
   },
   "outputs": [],
   "source": [
    "# TODO\n",
    "plot_scatter_matrix(utility_matrix3)"
   ]
  },
  {
   "cell_type": "markdown",
   "metadata": {
    "deletable": false,
    "editable": false,
    "nbgrader": {
     "cell_type": "markdown",
     "checksum": "50a871747c918196e0d0c4d5b9fbaf82",
     "grade": false,
     "grade_id": "cell-4f883b946564e419",
     "locked": true,
     "schema_version": 3,
     "solution": false
    }
   },
   "source": [
    "### Vraag 19\n",
    "\n",
    "Maak een mean centered utility matrix genaamd `centered_utility_matrix`. Let hierbij op: Dit is het enige waarbij de rollen niet zijn omgedraaid. We willen nog steeds de gemiddelde rating van de _gebruikers_ als offset gebruiken, niet die van de films. Het gaat er namelijk niet om hoe een gebruiker afwijkt van het gemiddelde rating van een film, maar wel hoe de gebruiker afwijkt van zijn gemiddelde rating bij een film. Met ander woorden, je moet hier de rijen centeren in plaats van de kolommen."
   ]
  },
  {
   "cell_type": "code",
   "execution_count": null,
   "metadata": {
    "deletable": false,
    "nbgrader": {
     "cell_type": "code",
     "checksum": "7ce9ba82a7e328dc0ba9b00063089c5c",
     "grade": false,
     "grade_id": "cell-7ec202204eb1be93",
     "locked": false,
     "schema_version": 3,
     "solution": true
    }
   },
   "outputs": [],
   "source": [
    "# TODO\n",
    "centered_utility_matrix = mean_center_columns(utility_matrix3.T).T\n",
    "\n",
    "display(centered_utility_matrix)"
   ]
  },
  {
   "cell_type": "markdown",
   "metadata": {},
   "source": [
    "### Check"
   ]
  },
  {
   "cell_type": "code",
   "execution_count": null,
   "metadata": {
    "deletable": false,
    "editable": false,
    "nbgrader": {
     "cell_type": "code",
     "checksum": "2d08a0ff98e52818b4ffe7f7b6a0836a",
     "grade": true,
     "grade_id": "test_19",
     "locked": true,
     "points": 1,
     "schema_version": 3,
     "solution": false
    }
   },
   "outputs": [],
   "source": [
    "answers.test_19(centered_utility_matrix)"
   ]
  },
  {
   "cell_type": "markdown",
   "metadata": {
    "deletable": false,
    "editable": false,
    "nbgrader": {
     "cell_type": "markdown",
     "checksum": "36915a688820220d186c33659e7f36ea",
     "grade": false,
     "grade_id": "cell-bdaa15cddf176d7c",
     "locked": true,
     "schema_version": 3,
     "solution": false
    }
   },
   "source": [
    "### Vraag 20\n",
    "\n",
    "Bereken de adjusted cosine similarity matrix voor de gebruikers en sla deze op in een variabele genaamd `similarity`."
   ]
  },
  {
   "cell_type": "code",
   "execution_count": null,
   "metadata": {
    "deletable": false,
    "nbgrader": {
     "cell_type": "code",
     "checksum": "fb266450a46088fb017128f4d35a2f28",
     "grade": false,
     "grade_id": "cell-0e19811b2a3d9573",
     "locked": false,
     "schema_version": 3,
     "solution": true
    }
   },
   "outputs": [],
   "source": [
    "similarity = create_similarity_matrix_cosine(centered_utility_matrix)\n",
    "display(similarity)"
   ]
  },
  {
   "cell_type": "markdown",
   "metadata": {
    "deletable": false,
    "editable": false,
    "nbgrader": {
     "cell_type": "markdown",
     "checksum": "87637f5811e661d8a5ae927667fb42fe",
     "grade": false,
     "grade_id": "cell-4381c59d3fa1716e",
     "locked": true,
     "schema_version": 3,
     "solution": false
    }
   },
   "source": [
    "### Check"
   ]
  },
  {
   "cell_type": "code",
   "execution_count": null,
   "metadata": {
    "deletable": false,
    "editable": false,
    "nbgrader": {
     "cell_type": "code",
     "checksum": "7b73a957963ba208c2aebcae230792a7",
     "grade": true,
     "grade_id": "test_20",
     "locked": true,
     "points": 1,
     "schema_version": 3,
     "solution": false
    }
   },
   "outputs": [],
   "source": [
    "answers.test_20(similarity)"
   ]
  },
  {
   "cell_type": "markdown",
   "metadata": {
    "deletable": false,
    "editable": false,
    "nbgrader": {
     "cell_type": "markdown",
     "checksum": "30770c0e448043abc1dcf1f12e74bef8",
     "grade": false,
     "grade_id": "cell-e1157f6898f026c0",
     "locked": true,
     "schema_version": 3,
     "solution": false
    }
   },
   "source": [
    "### Vraag 21\n",
    "\n",
    "Bereken de neighborhood voor gebruiker 123 en 456 ten opzichte van film 4306. Sla de neighborhood van gebruiker 123 op in een variabele genaamd `neighborhood1` en voor gebruiker 456 in een variabele genaamd `neighborhood2`."
   ]
  },
  {
   "cell_type": "code",
   "execution_count": null,
   "metadata": {
    "deletable": false,
    "nbgrader": {
     "cell_type": "code",
     "checksum": "c78da7e053d7b53d2d7f5cd87d9c328e",
     "grade": false,
     "grade_id": "cell-8232cb78518548a6",
     "locked": false,
     "schema_version": 3,
     "solution": true
    }
   },
   "outputs": [],
   "source": [
    "# TODO\n",
    "neighborhood1 = select_neighborhood(similarity[123],utility_matrix3[4306],10)\n",
    "neighborhood2 = select_neighborhood(similarity[456],utility_matrix3[4306],10)\n",
    "\n",
    "print(neighborhood1) # print the neighborhood for user 123\n",
    "print(neighborhood2) # print the neighborhood for user 456"
   ]
  },
  {
   "cell_type": "markdown",
   "metadata": {
    "deletable": false,
    "editable": false,
    "nbgrader": {
     "cell_type": "markdown",
     "checksum": "3f6c3fce78b92421113f0447066b3eac",
     "grade": false,
     "grade_id": "cell-155d573e02864b37",
     "locked": true,
     "schema_version": 3,
     "solution": false
    }
   },
   "source": [
    "### Check"
   ]
  },
  {
   "cell_type": "code",
   "execution_count": null,
   "metadata": {
    "deletable": false,
    "editable": false,
    "nbgrader": {
     "cell_type": "code",
     "checksum": "1c367133d6cef71d199412c64fad0da4",
     "grade": true,
     "grade_id": "test_21",
     "locked": true,
     "points": 1,
     "schema_version": 3,
     "solution": false
    }
   },
   "outputs": [],
   "source": [
    "answers.test_21(neighborhood1, neighborhood2)"
   ]
  },
  {
   "cell_type": "markdown",
   "metadata": {
    "deletable": false,
    "editable": false,
    "nbgrader": {
     "cell_type": "markdown",
     "checksum": "31f132cf9925f06ee361cb8ac4288970",
     "grade": false,
     "grade_id": "cell-9cbc2d9c5c91a271",
     "locked": true,
     "schema_version": 3,
     "solution": false
    }
   },
   "source": [
    "### Vraag 22\n",
    "\n",
    "Bereken het gewogen gemiddelde voor de neighborhoods van user 123 en 456 (met de ratings voor film 4306)."
   ]
  },
  {
   "cell_type": "code",
   "execution_count": null,
   "metadata": {
    "deletable": false,
    "nbgrader": {
     "cell_type": "code",
     "checksum": "6e79173a18c62391255f0f2b130d678e",
     "grade": false,
     "grade_id": "cell-a899b0019b7d5fc2",
     "locked": false,
     "schema_version": 3,
     "solution": true
    }
   },
   "outputs": [],
   "source": [
    "# TODO\n",
    "prediction1 = weighted_mean(neighborhood1, utility_matrix3[4306])\n",
    "prediction2 = weighted_mean(neighborhood2, utility_matrix3[4306])\n",
    "\n",
    "print(f'User 123 predicted rating for Shrek {prediction1:.2f}')\n",
    "print(f'User 456 predicted rating for Shrek {prediction2:.2f}') "
   ]
  },
  {
   "cell_type": "markdown",
   "metadata": {
    "deletable": false,
    "editable": false,
    "nbgrader": {
     "cell_type": "markdown",
     "checksum": "fe0bd8770ed2199a86bdc6c89dda24f6",
     "grade": false,
     "grade_id": "cell-2a41ea141a99239a",
     "locked": true,
     "schema_version": 3,
     "solution": false
    }
   },
   "source": [
    "### Check"
   ]
  },
  {
   "cell_type": "code",
   "execution_count": null,
   "metadata": {
    "deletable": false,
    "editable": false,
    "nbgrader": {
     "cell_type": "code",
     "checksum": "a9b6e653721b0b8f655dac3c7fb43625",
     "grade": true,
     "grade_id": "test_22",
     "locked": true,
     "points": 1,
     "schema_version": 3,
     "solution": false
    }
   },
   "outputs": [],
   "source": [
    "answers.test_22(prediction1, prediction2)"
   ]
  },
  {
   "cell_type": "markdown",
   "metadata": {
    "deletable": false,
    "editable": false,
    "nbgrader": {
     "cell_type": "markdown",
     "checksum": "81d6603ded668c355a146469fa16c1e6",
     "grade": false,
     "grade_id": "cell-8c66eb22718bf572",
     "locked": true,
     "schema_version": 3,
     "solution": false
    }
   },
   "source": [
    "### Vraag 23\n",
    "\n",
    "Als je deze user based voorspelling vergelijkt met de item based voorspelling, welke lijkt je dan beter? Beargumenteer in een paar korte zinnen. (In het volgende deel gaan we kijken hoe je de kwaliteit van de aanpak kan evalueren.)   "
   ]
  },
  {
   "cell_type": "markdown",
   "metadata": {
    "deletable": false,
    "nbgrader": {
     "cell_type": "markdown",
     "checksum": "456c88c18a5dd3b56317f6c380599382",
     "grade": true,
     "grade_id": "cell-2cd27fcc91e1a726",
     "locked": false,
     "points": 3,
     "schema_version": 3,
     "solution": true
    }
   },
   "source": [
    "Geen van beide lijkt mij beter. Dit omdat wij niet kunnen bepalen wat de gebruikers daadwerkelijk vonden van de films. Als we dat wel wisten konden wij wat zeggen over de kwaliteit van de voorspellingen. Maar de daadwerkelijke ratings hebben wij niet, dus we kunnen geen uitspraak er over doen. Geen van beide is dus beter dan de ander."
   ]
  },
  {
   "cell_type": "markdown",
   "metadata": {
    "deletable": false,
    "editable": false,
    "nbgrader": {
     "cell_type": "markdown",
     "checksum": "497c2ab9eb70416381a894f3c25ee78b",
     "grade": false,
     "grade_id": "cell-3a72ea0970b10a7f",
     "locked": true,
     "schema_version": 3,
     "solution": false
    }
   },
   "source": [
    "# Deel 3: Evaluatie\n",
    "\n",
    "We hebben nu gezien hoe we user ratings kunnen voorspellen. We hebben verschillende aanpakken gezien: _user-based_ en _item-based_. We hebben verschillende _similarity-maten_ gezien: _cosine similarity_ en _euclidean similarity_. Wat hebben we hier nu aan? Welk algoritme werkt het beste?\n",
    "\n",
    "Wat de beste aanpak is valt geen eenduidig antwoord op te geven. Dit hangt af van de aard van de data. We kunnen dus wel gaan onderzoeken wat het beste werkt voor een specifieke dataset. In dit deel van de opdracht gaan we kijken naar wat het beste werkt voor de MovieLens dataset.\n",
    "\n",
    "Wat we tot nu toe hebben geschreven is een algoritme om ratings mee te voorspellen. Dit is nog geen volledig recommender system. Dus we kunnen ook nog geen uitspraken doen over het resulterende recommender system. We kunnen echter wel iets zeggen over hoe goed de voorspellingen zijn. Om dat te doen gebruiken we hier weer de MovieLens dataset, maar dit keer gebruiken we een iets grotere subset.\n",
    "\n",
    "### Offline testen met een test set:\n",
    "\n",
    "Een veelgebruikte strategie is het opsplitsen van de data in een _training set_ en een _test set_. Op basis van de _training set_ leren we de overeenkomsten, waarmee we vervolgens voorspellingen kunnen doen voor de _test set_. Deze scheiding is belangrijk omdat zo de _test set_ onbekende data blijft, deze hebben we niet meegenomen in het leren van de overeenkomsten. Dus kunnen we testen of de voorspellingen op basis van de overeenkomsten uit de _training set_ ook werken voor nieuwe / onbekende data.\n",
    "\n",
    "Hiervoor doorlopen we straks de volgende stappen:\n",
    "\n",
    "* We splitsen de data vervolgens op in twee subsets: een _test set_ en een _training set_.\n",
    "* Op basis van de _training set_ maken we een similarity matrix.\n",
    "* Daaruit voorspellen we de ratings voor de film/user combinaties in de _test set_.\n",
    "* Vervolgens vergelijken we de voorspelde ratings met de echte ratings uit de _test set_."
   ]
  },
  {
   "cell_type": "markdown",
   "metadata": {
    "deletable": false,
    "editable": false,
    "nbgrader": {
     "cell_type": "markdown",
     "checksum": "b7e036f5c1517d5708e5fe5b80fbc61e",
     "grade": false,
     "grade_id": "cell-da1cec5b41dc6f3c",
     "locked": true,
     "schema_version": 3,
     "solution": false
    }
   },
   "source": [
    "### Extra helper functies\n",
    "We beginnen met het laden van een aantal nuttige helper functies."
   ]
  },
  {
   "cell_type": "code",
   "execution_count": null,
   "metadata": {
    "deletable": false,
    "editable": false,
    "nbgrader": {
     "cell_type": "code",
     "checksum": "f2f52ad39bcce1ccb2208f8dac1d6495",
     "grade": false,
     "grade_id": "cell-968322f649cb99ab",
     "locked": true,
     "schema_version": 3,
     "solution": false
    }
   },
   "outputs": [],
   "source": [
    "def number_of_movies(ratings):\n",
    "    \"\"\" determine the number of unique movie id's in the data \"\"\"\n",
    "    return len(ratings['movieId'].unique())\n",
    "\n",
    "def number_of_users(ratings):\n",
    "    \"\"\" determine the number of unique user id's in the data \"\"\"\n",
    "    return len(ratings['userId'].unique())\n",
    "\n",
    "def number_of_ratings(ratings):\n",
    "    \"\"\" count the number of ratings of a dataset \"\"\"\n",
    "    return ratings.shape[0]\n",
    "\n",
    "def rating_density(ratings):\n",
    "    \"\"\" compute the ratings given a data set \"\"\"\n",
    "    return number_of_ratings(ratings) / (number_of_movies(ratings) * number_of_users(ratings))\n",
    "\n",
    "def split_data(data,d = 0.75):\n",
    "    \"\"\" split data in a training and test set \n",
    "       `d` is the fraction of data in the training set\"\"\"\n",
    "    np.random.seed(seed=5)\n",
    "    mask_test = np.random.rand(data.shape[0]) < d\n",
    "    return data[mask_test], data[~mask_test]"
   ]
  },
  {
   "cell_type": "markdown",
   "metadata": {
    "deletable": false,
    "editable": false,
    "nbgrader": {
     "cell_type": "markdown",
     "checksum": "597eaab0609852cbcdb1fdab7347a411",
     "grade": false,
     "grade_id": "cell-27df70c1a52e4dad",
     "locked": true,
     "schema_version": 3,
     "solution": false
    }
   },
   "source": [
    "### Laad de data\n",
    "\n",
    "Hieronder laden we een nieuwe dataset. Deze bevat ruim 3000 ratings. Om te kunnen testen hoe goed ons algoritme werkt splitsen we de data in twee delen: `ratings_t80_training` (de data waarmee we gaan voorspellen) en `ratings_t80_test` (de data waarmee we testen hoe goed de voorspelling is). \n",
    "\n",
    "De dataset heeft een dichtheid van ongeveer 80% (vandaar de uitgang `_t80`). Dat wil zeggen dat gemiddeld elke gebruiker 80% van de films van een rating heeft voorzien. Omdat we een deel van de ratings appart houden voor de test set, blijft daar in de training set maar 60% van over. Dat is trouwens heel veel, in de praktijk haal je dat meestal bij lange na niet. Dit is een subselectie van een veel grotere dataset waarvan de dichtheid ver onder de 1% ligt."
   ]
  },
  {
   "cell_type": "code",
   "execution_count": null,
   "metadata": {
    "deletable": false,
    "editable": false,
    "nbgrader": {
     "cell_type": "code",
     "checksum": "c9c0ef3fcf73dbc8730d27adb3bfea4c",
     "grade": false,
     "grade_id": "cell-5a0e70d2d1d8fa8c",
     "locked": true,
     "schema_version": 3,
     "solution": false
    }
   },
   "outputs": [],
   "source": [
    "# Load the ratings_t80\n",
    "ratings_t80 = pd.read_csv('./mini-movielens/ratings_t80.csv')\n",
    "ratings_t80_training, ratings_t80_test = split_data(ratings_t80)\n",
    "\n",
    "# Show the stats\n",
    "print('Stats training set:')\n",
    "print(f'Number of ratings: {number_of_ratings(ratings_t80_training)}')\n",
    "print(f'Number of users: {number_of_users(ratings_t80_training)}')\n",
    "print(f'Number of movies: {number_of_movies(ratings_t80_training)}')\n",
    "print(f'Density: {rating_density(ratings_t80_training)}')\n",
    "\n",
    "# Display the first 5 rows of the data\n",
    "display(ratings_t80.head())"
   ]
  },
  {
   "cell_type": "markdown",
   "metadata": {
    "deletable": false,
    "editable": false,
    "nbgrader": {
     "cell_type": "markdown",
     "checksum": "716dd74fe8311dc1555cdfdc90a8d0da",
     "grade": false,
     "grade_id": "cell-9fb0d608da122ba7",
     "locked": true,
     "schema_version": 3,
     "solution": false
    }
   },
   "source": [
    "### Vraag 24\n",
    "Maak een utility matrix in een variabele genaamd `utility` en een _adjusted cosine_ similarity matrix in een variabele genaamd `similarity`. Doe beide voor _item based_ filtering. Gebruik hiervoor de functies die je in deel 1 van de opdracht hebt gemaakt.\n",
    "\n",
    "Dit kan even duren om te berekenen, misschien zelfs een paar minuten. Het is namelijk aanzienlijk meer data dan in het eerste deel van de opdracht! (De data bevat 200 films, dus de similarity matrix bevat 200 x 200 = 40.000 cellen.)"
   ]
  },
  {
   "cell_type": "code",
   "execution_count": null,
   "metadata": {
    "deletable": false,
    "nbgrader": {
     "cell_type": "code",
     "checksum": "a0864c5dd259526c1cae0fdd54b5c696",
     "grade": false,
     "grade_id": "cell-19fef734d53413a6",
     "locked": false,
     "schema_version": 3,
     "solution": true
    }
   },
   "outputs": [],
   "source": [
    "# TODO\n",
    "utility = pivot_ratings(ratings_t80_training)\n",
    "centered_util = mean_center_columns(utility)\n",
    "similarity = create_similarity_matrix_cosine(centered_util)\n",
    "\n",
    "display(utility.head())\n",
    "display(similarity.head())"
   ]
  },
  {
   "cell_type": "code",
   "execution_count": null,
   "metadata": {
    "deletable": false,
    "editable": false,
    "nbgrader": {
     "cell_type": "code",
     "checksum": "6ef5a50405ab2be5354e703c4c5a9d60",
     "grade": true,
     "grade_id": "test_24",
     "locked": true,
     "points": 1,
     "schema_version": 3,
     "solution": false
    }
   },
   "outputs": [],
   "source": [
    "answers.test_24(utility, similarity)"
   ]
  },
  {
   "cell_type": "markdown",
   "metadata": {
    "deletable": false,
    "editable": false,
    "nbgrader": {
     "cell_type": "markdown",
     "checksum": "6c624f4a77f298157a2359cdd04e0edc",
     "grade": false,
     "grade_id": "cell-17869b99693bf393",
     "locked": true,
     "schema_version": 3,
     "solution": false
    }
   },
   "source": [
    "### Snel werken\n",
    "Zoals je merkt kost het even wat rekentijd om een similarity matrix op te bouwen. Dit kunnen we daarom beter 1x doen, even opslaan en vervolgens kunnen we dit weer inladen. Dit gaat makkelijk met `pandas`. Pickle is een dataformaat dat in weinig bytes veel informatie kwijt kan en snel ingeladen kan worden. \n",
    "\n",
    "In de code hieronder slaan we de matrices op als een pickle-bestand (`.pkl`), en laden we deze vervolgens weer in om even te laten zien hoe dat werkt."
   ]
  },
  {
   "cell_type": "code",
   "execution_count": null,
   "metadata": {
    "deletable": false,
    "editable": false,
    "nbgrader": {
     "cell_type": "code",
     "checksum": "ecd349b04f90ef807d2c13f8bbd6222b",
     "grade": false,
     "grade_id": "cell-11dcf22e1422f67a",
     "locked": true,
     "schema_version": 3,
     "solution": false
    }
   },
   "outputs": [],
   "source": [
    "utility.to_pickle('./mini-movielens/ratings_t80_utility_student.pkl')\n",
    "similarity.to_pickle('./mini-movielens/ratings_t80_similarity_student.pkl')\n",
    "\n",
    "u = pd.read_pickle('./mini-movielens/ratings_t80_utility_student.pkl')\n",
    "s = pd.read_pickle('./mini-movielens/ratings_t80_similarity_student.pkl')\n",
    "\n",
    "pd.testing.assert_frame_equal(u, utility)\n",
    "pd.testing.assert_frame_equal(s, similarity)"
   ]
  },
  {
   "cell_type": "markdown",
   "metadata": {
    "deletable": false,
    "editable": false,
    "nbgrader": {
     "cell_type": "markdown",
     "checksum": "2e4d4e5070cf57e949c29debd30dd30e",
     "grade": false,
     "grade_id": "cell-37c58a18f6fe5037",
     "locked": true,
     "schema_version": 3,
     "solution": false
    }
   },
   "source": [
    "### Voorberekende data\n",
    "In de rest van de opgave maken we gebruik van een aantal verschillende datasets. Om het laden wat te versnellen en om er zeker van te zijn dat iedereen met dezelfde data rekent hebben we vast de data gesplitst en de utility en de (adjusted cosine) similarity matrix uitgerekend. Met de onderstaande code kan je deze data laden."
   ]
  },
  {
   "cell_type": "code",
   "execution_count": null,
   "metadata": {
    "deletable": false,
    "editable": false,
    "nbgrader": {
     "cell_type": "code",
     "checksum": "7881c08d9b87e2eec7a0e1f945607fda",
     "grade": false,
     "grade_id": "cell-6351432d72b9a7db",
     "locked": true,
     "schema_version": 3,
     "solution": false
    }
   },
   "outputs": [],
   "source": [
    "ratings = pd.read_csv(f'./mini-movielens/ratings_t80.csv')[['userId', 'movieId', 'rating', 'timestamp']]\n",
    "training_data = pd.read_pickle(f'./mini-movielens/ratings_t80_training.pkl')\n",
    "test_data = pd.read_pickle(f'./mini-movielens/ratings_t80_test.pkl')\n",
    "utility_items = pd.read_pickle(f'./mini-movielens/ratings_t80_utility_items.pkl')\n",
    "similarity_items = pd.read_pickle(f'./mini-movielens/ratings_t80_similarity_items.pkl')\n",
    "\n",
    "display(utility_items.head())\n",
    "display(similarity_items.head())\n",
    "\n",
    "print(ratings.shape, training_data.shape, test_data.shape, utility_items.shape, similarity_items.shape)"
   ]
  },
  {
   "cell_type": "markdown",
   "metadata": {
    "deletable": false,
    "editable": false,
    "nbgrader": {
     "cell_type": "markdown",
     "checksum": "48a75d925d0da4dff2c08ccdde89b815",
     "grade": false,
     "grade_id": "cell-7fee9d7189075029",
     "locked": true,
     "schema_version": 3,
     "solution": false
    }
   },
   "source": [
    "### Vraag 25\n",
    "\n",
    "Schrijf hieronder een functie die voor elke rating in de _test data_ een rating voorspelt. Gebruik hiervoor dezelfde _item based_ aanpak als in de vorige opdracht. \n",
    "\n",
    "De input van de functie is de similarity matrix, de utility matrix en de test data. De output is een copy van de test data met een extra kolom: de voorspelde rating. De bedoeling is dat de output er zo uitziet als hieronder: \n",
    "\n",
    "<table border=\"1\" class=\"dataframe\"><thead><tr style=\"text-align: right;\"><th></th><th>userId</th><th>movieId</th><th>rating</th><th>predicted rating</th></tr></thead><tbody><tr><th>1</th><td>68</td><td>2</td><td>2.5</td><td>3.487983</td></tr><tr><th>3</th><td>68</td><td>47</td><td>4.0</td><td>3.457851</td></tr><tr><th>6</th><td>68</td><td>110</td><td>2.5</td><td>3.625071</td></tr><tr><th>14</th><td>68</td><td>344</td><td>2.5</td><td>3.457997</td></tr><tr><th>27</th><td>68</td><td>593</td><td>3.5</td><td>3.494299</td></tr><tr><th  style=\"text-align: center;\" colspan=5>...</th></tr></tbody></table>"
   ]
  },
  {
   "cell_type": "code",
   "execution_count": null,
   "metadata": {
    "deletable": false,
    "nbgrader": {
     "cell_type": "code",
     "checksum": "a851d9bd064b1c158306f69f731e63d7",
     "grade": false,
     "grade_id": "cell-ff88c425a953ff1a",
     "locked": false,
     "schema_version": 3,
     "solution": true
    }
   },
   "outputs": [],
   "source": [
    "def predict_ratings_item_based(similarity, utility, user_item_pairs):\n",
    "    ratings_test_c = user_item_pairs.copy()\n",
    "    ratings_test_c['predicted rating'] = 0.\n",
    "    for index,row in user_item_pairs.iterrows():\n",
    "        neighborhood = select_neighborhood(similarity[row['movieId']],utility[row['userId']],100)\n",
    "        ratings_test_c.at[index,'predicted rating'] = weighted_mean(neighborhood,utility[row['userId']])\n",
    "    return ratings_test_c\n",
    "    \n",
    "predicted_item_based = predict_ratings_item_based(similarity_items, utility_items, test_data[['userId', 'movieId', 'rating']])\n",
    "display(predicted_item_based.head())"
   ]
  },
  {
   "cell_type": "code",
   "execution_count": null,
   "metadata": {
    "deletable": false,
    "editable": false,
    "nbgrader": {
     "cell_type": "code",
     "checksum": "9584421d627c9820cf4be7166b625c26",
     "grade": true,
     "grade_id": "test_25",
     "locked": true,
     "points": 1,
     "schema_version": 3,
     "solution": false
    }
   },
   "outputs": [],
   "source": [
    "answers.test_25(predict_ratings_item_based, similarity_items, utility_items, test_data)"
   ]
  },
  {
   "cell_type": "markdown",
   "metadata": {
    "deletable": false,
    "editable": false,
    "nbgrader": {
     "cell_type": "markdown",
     "checksum": "a1fcf1295fb5549cd029d4b119930aac",
     "grade": false,
     "grade_id": "cell-5aa3db58305a1ecd",
     "locked": true,
     "schema_version": 3,
     "solution": false
    }
   },
   "source": [
    "### Mean squared error\n",
    "\n",
    "Hoe meten we nu hoe goed de voorspelling is? De manier waarop we dit doen lijkt een beetje op bepalen van *similarity* tussen films of gebruikers. We bepalen eerst de afwijking (de *error*) per voorspelde rating:\n",
    "\n",
    "<table border=\"1\" class=\"dataframe\"><thead><tr style=\"text-align: right;\"><th>user</th><th>movie</th><th>:</th><th>actual<br>rating</th><th>-</th><th>predicted<br>rating</th><th>=</th><th>difference</th></tr></thead><tbody>\n",
    "    <tr><td>68</td><td>2</td><td></td><td>2.5</td><td>-</td><td>3.487983</td><td>=</td><td>-0.99</td></tr>\n",
    "    <tr><td>68</td><td>47</td><td></td><td>4.0</td><td>-</td><td>3.457851</td><td>=</td><td>0.54</td></tr>\n",
    "    <tr><td>68</td><td>110</td><td></td><td>2.5</td><td>-</td><td>3.625071</td><td>=</td><td>-1.13</td></tr>\n",
    "    <tr><td>68</td><td>344</td><td></td><td>2.5</td><td>-</td><td>3.457997</td><td>=</td><td>-0.96</td></tr>\n",
    "    <tr><td>68</td><td>593</td><td></td><td>3.5</td><td>-</td><td>3.494299</td><td>=</td><td>0.01</td></tr>\n",
    "    <tr><th  style=\"text-align: center;\" colspan=8>...</th></tr></tbody></table>\n",
    "    \n",
    "Dan nemen we het gemiddelde van de kwadraten van de afwijkingen:\n",
    "\n",
    "$$\n",
    "\\textrm{mean square error} = \\frac{(-0.99)^2 + 0.54^2 + (-1.13)^2 + (-0.96)^2 + 0.01^2 + \\ldots}{N}\n",
    "$$\n",
    "\n",
    "Waarbij $N$ het aantal items in de test set is. Deze maat voor de afwijking wordt de **mean squared error** (mse) genoemd. Dit is een zeer veel gebruikte maat in data science en machine learning, je zal hem in de toekomst nog vaak tegenkomen. \n",
    "\n",
    "De formele definitie voor de liefhebber:\n",
    "\n",
    "$$\n",
    "\\textrm{mse} = \\frac{1}{N}\\sum_{i=1}^N(a_i - p_i)^2\n",
    "$$\n",
    "\n",
    "waarbij $a_i$ de echte rating en $p_i$ de voorspelde rating voor sample $i$.\n",
    "\n",
    "\n",
    "### Vraag 26\n",
    "\n",
    "Implementeer de functie `mse()` hieronder:"
   ]
  },
  {
   "cell_type": "code",
   "execution_count": null,
   "metadata": {
    "deletable": false,
    "nbgrader": {
     "cell_type": "code",
     "checksum": "10f3db3613637f048f95c9734ee9887d",
     "grade": false,
     "grade_id": "cell-261718bc100d8728",
     "locked": false,
     "schema_version": 3,
     "solution": true
    }
   },
   "outputs": [],
   "source": [
    "def mse(predicted_ratings):\n",
    "    return sum((predicted_ratings['rating']-predicted_ratings['predicted rating'])**2)/len(predicted_ratings)\n",
    "    \n",
    "\n",
    "mse_item_based = mse(predicted_item_based)\n",
    "print(mse_item_based)"
   ]
  },
  {
   "cell_type": "code",
   "execution_count": null,
   "metadata": {
    "deletable": false,
    "editable": false,
    "nbgrader": {
     "cell_type": "code",
     "checksum": "3b5ab41f7c64bcc38bba7a52d7ab4ced",
     "grade": true,
     "grade_id": "test_26",
     "locked": true,
     "points": 1,
     "schema_version": 3,
     "solution": false
    }
   },
   "outputs": [],
   "source": [
    "answers.test_26(mse, predicted_item_based)"
   ]
  },
  {
   "cell_type": "markdown",
   "metadata": {
    "deletable": false,
    "editable": false,
    "nbgrader": {
     "cell_type": "markdown",
     "checksum": "a34be1e5fe3a0d10d6194643a354310a",
     "grade": false,
     "grade_id": "cell-a79bec362dba9e8c",
     "locked": true,
     "schema_version": 3,
     "solution": false
    }
   },
   "source": [
    "### Wat betekent dit?\n",
    "\n",
    "Als het goed is komt er een getal rond de 0.6 uit de mean squared error voor de voorspellingen voor deze specifieke dataset. Is dat goed? Het probleem met _mse_ is dat de waarde op zichzelf niet zoveel zegt. Het is vooral nuttig om uitkomsten met elkaar te kunnen vergelijken. We kunnen bijvoorbeeld kijken hoe goed _item based filtering_ het doet ten opzichte van _user based filtering_."
   ]
  },
  {
   "cell_type": "markdown",
   "metadata": {
    "deletable": false,
    "editable": false,
    "nbgrader": {
     "cell_type": "markdown",
     "checksum": "4285708544a92ccb789abb8fd840c5db",
     "grade": false,
     "grade_id": "cell-598f11292aba409a",
     "locked": true,
     "schema_version": 3,
     "solution": false
    }
   },
   "source": [
    "### Vraag 27\n",
    "\n",
    "Implementeer hieronder de functie `predict_ratings_user_based()`. De output moet verglijkbaar zijn met de functie `predict_ratings_item_based()`:\n",
    "\n",
    "<table border=\"1\" class=\"dataframe\"><thead><tr style=\"text-align: right;\"><th></th><th>userId</th><th>movieId</th><th>rating</th><th>predicted rating</th></tr></thead><tbody><tr><th>0</th><td>68</td><td>1</td><td>2.5</td><td>3.803867</td></tr><tr><th>2</th><td>68</td><td>16</td><td>3.5</td><td>3.931587</td></tr><tr><th>9</th><td>68</td><td>231</td><td>3.5</td><td>2.789119</td></tr><tr><th>10</th><td>68</td><td>260</td><td>5.0</td><td>4.378258</td></tr><tr><th  style=\"text-align: center;\" colspan=5>...</th></tr></tbody></table>"
   ]
  },
  {
   "cell_type": "code",
   "execution_count": null,
   "metadata": {
    "deletable": false,
    "nbgrader": {
     "cell_type": "code",
     "checksum": "d83d82b0ccb3957814a1cbe754f81230",
     "grade": false,
     "grade_id": "cell-b1bfb37305b47df2",
     "locked": false,
     "schema_version": 3,
     "solution": true,
     "task": false
    }
   },
   "outputs": [],
   "source": [
    "def predict_ratings_user_based(similarity, utility, user_item_pairs):\n",
    "    ratings_test_c = user_item_pairs.copy()\n",
    "    ratings_test_c['predicted rating'] = 0.\n",
    "    for index,row in user_item_pairs.iterrows():\n",
    "        neighborhood = select_neighborhood(similarity[row['userId']],utility[row['movieId']],1000)\n",
    "        ratings_test_c.at[index,'predicted rating'] = weighted_mean(neighborhood,utility[row['movieId']])\n",
    "    return ratings_test_c\n",
    "    \n",
    "    \n",
    "test_data = pd.read_pickle(f'./mini-movielens/ratings_t80_test.pkl')\n",
    "utility_users = pd.read_pickle(f'./mini-movielens/ratings_t80_utility_users.pkl')\n",
    "similarity_users = pd.read_pickle(f'./mini-movielens/ratings_t80_similarity_users.pkl')\n",
    "\n",
    "predicted_user_based = predict_ratings_user_based(similarity_users, utility_users, test_data[['userId', 'movieId', 'rating']])\n",
    "display(predicted_user_based.head())\n",
    "mse_user_based = mse(predicted_user_based)\n",
    "print(mse_user_based)"
   ]
  },
  {
   "cell_type": "code",
   "execution_count": null,
   "metadata": {
    "deletable": false,
    "editable": false,
    "nbgrader": {
     "cell_type": "code",
     "checksum": "72beec3be244a0ec8fc67821a1c64290",
     "grade": true,
     "grade_id": "test_27",
     "locked": true,
     "points": 1,
     "schema_version": 3,
     "solution": false
    }
   },
   "outputs": [],
   "source": [
    "answers.test_27(mse, predicted_user_based, predicted_item_based)"
   ]
  },
  {
   "cell_type": "markdown",
   "metadata": {
    "deletable": false,
    "editable": false,
    "nbgrader": {
     "cell_type": "markdown",
     "checksum": "acf1689dca81c5296f2e70062a7c0a67",
     "grade": false,
     "grade_id": "cell-58d08324c923f5c5",
     "locked": true,
     "schema_version": 3,
     "solution": false
    }
   },
   "source": [
    "### Beter dan random?\n",
    "\n",
    "We hebben nu gezien dat item based filtering iets beter werkt dan content based, **voor deze data**. Maar dat geeft ons nog steeds geen duidelijk idee van hoe goed het is. \n",
    "\n",
    "We hebben nog steeds geen duidelijke baseline. Hoe hoog zou de _mse_ bijvoorbeeld uitpakken als we compleet willekeurige voorspellingen doen.\n",
    "\n",
    "### Vraag 28\n",
    "\n",
    "Voeg aan de series `predicted_random` hieronder de kolom `predicted rating` toe. Genereer als voorspelling voor elke film een random rating tussen de `0.5` en `5.0`. Bereken vervolgens de _mse_ voor deze voorspelling. Sla het resultaat op in de variabele `mse_random`."
   ]
  },
  {
   "cell_type": "code",
   "execution_count": null,
   "metadata": {
    "deletable": false,
    "nbgrader": {
     "cell_type": "code",
     "checksum": "76bc8ffd6d99af64034899841439f9b7",
     "grade": false,
     "grade_id": "cell-fb7df28b07230820",
     "locked": false,
     "schema_version": 3,
     "solution": true
    }
   },
   "outputs": [],
   "source": [
    "mse_random = 0\n",
    "predicted_random = test_data.copy()[['userId', 'movieId', 'rating']]\n",
    "predicted_random['predicted rating'] = 4.5 * np.random.random_sample((len(predicted_random),)) + 0.5\n",
    "\n",
    "display(predicted_random.head())\n",
    "\n",
    "mse_random = mse(predicted_random)\n",
    "\n",
    "print(f'mse for item based prediction: {mse_item_based:.2f}')\n",
    "print(f'mse for user based prediction: {mse_user_based:.2f}')\n",
    "print(f'mse for random prediction: {mse_random:.2f}')"
   ]
  },
  {
   "cell_type": "code",
   "execution_count": null,
   "metadata": {
    "deletable": false,
    "editable": false,
    "nbgrader": {
     "cell_type": "code",
     "checksum": "db6f85efe9ea4b7246e1628cb1d144b6",
     "grade": true,
     "grade_id": "test_28",
     "locked": true,
     "points": 1,
     "schema_version": 3,
     "solution": false
    }
   },
   "outputs": [],
   "source": [
    "answers.test_28(mse_random)"
   ]
  },
  {
   "cell_type": "markdown",
   "metadata": {
    "deletable": false,
    "editable": false,
    "nbgrader": {
     "cell_type": "markdown",
     "checksum": "b3b87cf5dbb63f39348d777c37141f7c",
     "grade": false,
     "grade_id": "cell-763750d9da5e4bb8",
     "locked": true,
     "schema_version": 3,
     "solution": false
    }
   },
   "source": [
    "### Beter dan het gemiddelde per film?\n",
    "\n",
    "Het is altijd goed om meerdere baselines te bekijken. We zouden ook kunnen kijken hoe goed het werkt om altijd de gemiddelde rating van een film te gebruiken als voorspelling. \n",
    "\n",
    "### Vraag 29\n",
    "\n",
    "Bereken de gemiddelde rating per film van de _training set_. Kijk nog even in de vorige module als je vergeten bent hoe je dit kan doen. Je kan hiervoor handig de methodes `groupby()` en `aggregate()` en de functie `np.mean()` gebruiken. Gebruik deze gemiddelde rating als voorspelling van de _test set_. Hiervoor is de methode `join()` heel handig. Bereken vervolgens de _mse_ over deze voorspelling. Bewaar de uitkomst in de variable `mse_item_mean`."
   ]
  },
  {
   "cell_type": "code",
   "execution_count": null,
   "metadata": {
    "deletable": false,
    "nbgrader": {
     "cell_type": "code",
     "checksum": "52d7d9f705409b4a36bf89cc6c89587d",
     "grade": false,
     "grade_id": "cell-51d3236eaeb529d4",
     "locked": false,
     "schema_version": 3,
     "solution": true
    }
   },
   "outputs": [],
   "source": [
    "mse_item_mean = 0\n",
    "groups = ratings_t80_training.groupby('movieId')\n",
    "ratings = groups['rating']\n",
    "ratings = ratings.aggregate(list)\n",
    "ratings_mean = ratings.copy()\n",
    "for index,value in ratings.iteritems():\n",
    "    ratings_mean[index] = np.mean(value)\n",
    "\n",
    "\n",
    "predicted_item_mean = test_data.copy()[['userId', 'movieId', 'rating']]\n",
    "predicted_item_mean = predicted_item_mean.join(ratings_mean,on='movieId',rsuffix='predicted').rename(columns={'ratingpredicted':'predicted rating'})\n",
    "\n",
    "mse_item_mean = mse(predicted_item_mean)\n",
    "\n",
    "print(f'mse for item based prediction: {mse_item_based:.2f}')\n",
    "print(f'mse for user based prediction: {mse_user_based:.2f}')\n",
    "print(f'mse for random prediction: {mse_random:.2f}')\n",
    "print(f'mse for mean per item: {mse_item_mean:.2f}')"
   ]
  },
  {
   "cell_type": "code",
   "execution_count": null,
   "metadata": {
    "deletable": false,
    "editable": false,
    "nbgrader": {
     "cell_type": "code",
     "checksum": "821485d26fc86b9d4a85bfe2befc4f87",
     "grade": true,
     "grade_id": "test_29",
     "locked": true,
     "points": 1,
     "schema_version": 3,
     "solution": false
    }
   },
   "outputs": [],
   "source": [
    "answers.test_29(mse_item_mean)"
   ]
  },
  {
   "cell_type": "markdown",
   "metadata": {
    "deletable": false,
    "editable": false,
    "nbgrader": {
     "cell_type": "markdown",
     "checksum": "f904c449772953f1027a7c9ad57564fa",
     "grade": false,
     "grade_id": "cell-de56ed9ec4308dd9",
     "locked": true,
     "schema_version": 3,
     "solution": false,
     "task": false
    }
   },
   "source": [
    "### Verdeling\n",
    "\n",
    "We hebben nu de mse van drie verschillende aanpakken vergeleken, maar hoe zijn de voorspellingen precies verdeeld? Dit is een goed moment om de voorspellingen te visualiseren met een aantal histogrammen. Run de onderstaande code: "
   ]
  },
  {
   "cell_type": "code",
   "execution_count": null,
   "metadata": {
    "deletable": false,
    "editable": false,
    "nbgrader": {
     "cell_type": "code",
     "checksum": "4397c9010f4f4c5a37a98a1e8bb9f1f5",
     "grade": false,
     "grade_id": "cell-ba1754b15405f4c8",
     "locked": true,
     "schema_version": 3,
     "solution": false,
     "task": false
    }
   },
   "outputs": [],
   "source": [
    "fig, ((ax1, ax2), (ax3, ax4)) = plt.subplots(ncols=2, nrows=2)\n",
    "fig.tight_layout(pad=3.0)\n",
    "\n",
    "axes = [ax1, ax2, ax3, ax4]\n",
    "data = [predicted_item_based['rating'], \n",
    "        predicted_item_mean['predicted rating'], \n",
    "        predicted_item_based['predicted rating'],\n",
    "        predicted_user_based['predicted rating']]\n",
    "titles = [\"actual ratings\", \"predicted mean\", \"predicted item based\", \"predicted user based\"]\n",
    "\n",
    "for ax, d, title in zip(axes, data, titles):\n",
    "    ax.hist(list(d), bins=list(np.arange(0,5.5,0.25)))\n",
    "    ax.set_xlabel(\"rating\")\n",
    "    ax.set_ylabel(\"amount\")\n",
    "    ax.set_title(title)\n",
    " \n",
    "print('     | actual | mean | item | user')\n",
    "print('-----+--------+------+------+-----')\n",
    "print(f'mean |   {data[0].mean():.2f} | {data[1].mean():.2f} | {data[2].mean():.2f} | {data[3].mean():.2f}')\n",
    "print(f'std  |   {data[0].std():.2f} | {data[1].std():.2f} | {data[2].std():.2f} | {data[3].std():.2f}')"
   ]
  },
  {
   "cell_type": "markdown",
   "metadata": {
    "deletable": false,
    "editable": false,
    "nbgrader": {
     "cell_type": "markdown",
     "checksum": "2139e88ef7f9e902a151c86bd458af38",
     "grade": false,
     "grade_id": "cell-d974851dd0cb98e2",
     "locked": true,
     "schema_version": 3,
     "solution": false,
     "task": false
    }
   },
   "source": [
    "Je ziet dat de verdeling voorspelde ratings van alle drie de algoritmes (item based filtering, user based filtering en de mean baseline) er redelijk vergelijkbaar uitzien. Met een gemiddelde rond de 3.70 en standaarddeviatie van rond de 0.45. De daadwerkelijk rating daarentegen heeft een veel hogere standaarddeviatie (0.90). \n",
    "\n",
    "### Vraag 30\n",
    "\n",
    "Probeer te beredeneren waarom de standaarddeviatie voor de voorspelde ratings lager is dan die van de daadwerlijke rating. Met ander woorden, waarom zijn zeer hoge en zeer lage voorspelde ratings relatief zeldzaam?"
   ]
  },
  {
   "cell_type": "markdown",
   "metadata": {
    "deletable": false,
    "nbgrader": {
     "cell_type": "markdown",
     "checksum": "215a939c5f7cbda078d3b175cdbcb261",
     "grade": true,
     "grade_id": "cell-0e878a21d396ff60",
     "locked": false,
     "points": 2,
     "schema_version": 3,
     "solution": true,
     "task": false
    }
   },
   "source": [
    "Zeer hoge en lage voorspelde ratings zijn relatief zeldzaam, omdat de voorspelde ratings gebaseerd zijn op gemiddeldes. Gemiddeldes zorgen ervoor dat de uitschieters verdwijnen uit de range van ratings, omdat de hoge uitschieters tegen de lage worden weggestreept. Verder is het ook zo dat gebruikers vaak juist de uitschieters toekennen, en maar weinig de waardes kiezen rond het gemiddelde."
   ]
  },
  {
   "cell_type": "markdown",
   "metadata": {
    "deletable": false,
    "editable": false,
    "nbgrader": {
     "cell_type": "markdown",
     "checksum": "2d2123a0a24565e7acf40a6f569b4476",
     "grade": false,
     "grade_id": "cell-41b2380f60a80ebd",
     "locked": true,
     "schema_version": 3,
     "solution": false
    }
   },
   "source": [
    "Je hebt net gezien dat de *mse* van de baseline akelig dicht bij die van *user based collaborative filtering* komt. Het verschil is zelfs zo klein dat je je moet gaan afvragen of het nog wel significant is. Betekent dit dat user based filtering waardeloos is? \n",
    "\n",
    "Dat is moeilijk te zeggen, zelfs voor deze data. Een belangrijk vraag hierbij is: hoe betekenisvol is de maat *mse* zelf eigenlijk?\n",
    "\n",
    "Om hier antwoord op te geven moeten we wat verder gaan kijken naar hoe het systeem uiteindelijk gebruikt wordt. Wat gebeurt er uiteindelijk in het systeem met de voorspelde rating? Wordt er een top 10 gegeven van items met de hoogste voorspelde rating? Worden er willekeurig 20 items aanbevolen waarvan de voorspelde rating hoger is dan 3.75? Kan de gebruiker invloed uitoefenen op de aanbevelingen? \n",
    "\n",
    "### Recommended items\n",
    "\n",
    "We moeten dus wat concretere aannames doen over de werking van het recommender system: \n",
    "1. Voor elke gebruiker maken we een lijst met recommended items. Dat zijn films waarvoor de voorspelde rating hoger is dan of gelijk is aan een bepaalde drempelwaarde (bijvoorbeeld 3.75). \n",
    "2. En we maken een lijst met hidden items. Dit zijn films met een voorspelde rating die lager is dan de drempelwaarde, en die we dus niet willen aanbevelen. \n",
    "3. Vervolgens presenteren we de gebruiker met een lijst van $N$ willekeurige films uit de lijst van recommended items. (Deze aanname gaan we niet verder uitwerken in deze module, maar het is belangrijk om te weten dat alle recommended items een even grote kans hebben om aan de gebruiker getoond te worden.)\n",
    "\n",
    "> Hiermee maken we van onze recommender system een classificatieprobleem: We hebben twee *classes*, recommended en hidden, en we willen van elk film/user paar weten in welke van de twee classes dit paar valt. Dit is een type probleem dat je bij machine learning vaak zal tegenkomen.\n",
    "\n",
    "### Vraag 31 \n",
    "\n",
    "Implementeer hieronder de functies `recommended()` en `hidden()`. Deze functies krijgen als input een DataFrame met de voorspelde ratings en een drempelwaarde (`treshold`). De output is een Dataframe met alle relevante combinaties van `userId` en `movieId`. "
   ]
  },
  {
   "cell_type": "code",
   "execution_count": null,
   "metadata": {
    "deletable": false,
    "nbgrader": {
     "cell_type": "code",
     "checksum": "3b21e38a4033ef758064a76648fb0149",
     "grade": false,
     "grade_id": "cell-47851bb491606f2d",
     "locked": false,
     "schema_version": 3,
     "solution": true,
     "task": false
    }
   },
   "outputs": [],
   "source": [
    "def recommended(predictions, threshold):\n",
    "    return predictions[predictions['predicted rating']>=threshold]\n",
    "    \n",
    "\n",
    "def hidden(predictions, threshold):\n",
    "    return predictions[predictions['predicted rating']<threshold]\n",
    "    \n",
    "    \n",
    "treshold_recommended = 3.75\n",
    "recommended_items = recommended(predicted_item_based, treshold_recommended)\n",
    "hidden_items = hidden(predicted_item_based, treshold_recommended)\n",
    "\n",
    "print(f'Test items : {predicted_item_based.shape[0]}')\n",
    "print(f'Recommended: {recommended_items.shape[0]}')\n",
    "print(f'Hidden     : {hidden_items.shape[0]}')\n",
    "display(recommended_items.head())\n",
    "display(hidden_items.head())"
   ]
  },
  {
   "cell_type": "code",
   "execution_count": null,
   "metadata": {
    "deletable": false,
    "editable": false,
    "nbgrader": {
     "cell_type": "code",
     "checksum": "ed9d5bb952a36e1b08ea85f35c74625f",
     "grade": true,
     "grade_id": "test_31",
     "locked": true,
     "points": 1,
     "schema_version": 3,
     "solution": false,
     "task": false
    }
   },
   "outputs": [],
   "source": [
    "answers.test_31(recommended, hidden, predicted_item_based, treshold_recommended)"
   ]
  },
  {
   "cell_type": "markdown",
   "metadata": {
    "deletable": false,
    "editable": false,
    "nbgrader": {
     "cell_type": "markdown",
     "checksum": "5436ff828065273324fd529cc6d17efb",
     "grade": false,
     "grade_id": "cell-01a62c5e3adf66a5",
     "locked": true,
     "schema_version": 3,
     "solution": false,
     "task": false
    }
   },
   "source": [
    "We weten nu voor elke gebruiker in de test set welke items aangeraden kunnen worden door het recommender systeem. Zijn die aanbevelingen terecht? Hiervoor kunnen we kijken naar de daadwerkelijke rating die gebruikers hebben gegeven. De aanname is dat als de gebruiker een hoge rating heeft gegeven dat de aanbevling dan terecht was. \n",
    "\n",
    "We noemen de items met een hoge aanbeveling *used* en items met een te lage aanbeveling *unused*. Ook hiervoor kunnen we weer een drempelwaarde voor gebruiken. Deze hoeft niet dezelfde te zijn als de drempelwaarde die recommended en hidden items van elkaar scheidt.\n",
    "\n",
    "### Vraag 32\n",
    "\n",
    "Implementeer hieronder de functies `used()` en `unused()`. Deze functies krijgen als input een DataFrame met de daadwerkelijke ratings en een drempelwaarde (`treshold`). De output is een Dataframe met alle relevante combinaties van `userId` en `movieId`. "
   ]
  },
  {
   "cell_type": "code",
   "execution_count": null,
   "metadata": {
    "deletable": false,
    "nbgrader": {
     "cell_type": "code",
     "checksum": "244e4b7be57a6c5e8c9ad1526a08135a",
     "grade": false,
     "grade_id": "cell-2a65c25f92ad07cb",
     "locked": false,
     "schema_version": 3,
     "solution": true,
     "task": false
    }
   },
   "outputs": [],
   "source": [
    "def used(predictions, threshold):\n",
    "    return predictions[predictions['rating']>=threshold]\n",
    "    \n",
    "\n",
    "def unused(predictions, threshold):\n",
    "    return predictions[predictions['rating']<threshold]\n",
    "    \n",
    "    \n",
    "treshold_used = 4.0\n",
    "used_items = used(predicted_item_based, treshold_used)\n",
    "unused_items = unused(predicted_item_based, treshold_used)\n",
    "\n",
    "print(f'Test items: {predicted_item_based.shape[0]}')\n",
    "print(f'Used      : {used_items.shape[0]}')\n",
    "print(f'Unused    : {unused_items.shape[0]}')\n",
    "display(used_items.head())\n",
    "display(unused_items.head())"
   ]
  },
  {
   "cell_type": "code",
   "execution_count": null,
   "metadata": {
    "deletable": false,
    "editable": false,
    "nbgrader": {
     "cell_type": "code",
     "checksum": "0bb20b33882b55722dcd4a488d43edb7",
     "grade": true,
     "grade_id": "test_32",
     "locked": true,
     "points": 1,
     "schema_version": 3,
     "solution": false,
     "task": false
    }
   },
   "outputs": [],
   "source": [
    "answers.test_32(used, unused, predicted_item_based, treshold_used)"
   ]
  },
  {
   "cell_type": "markdown",
   "metadata": {
    "deletable": false,
    "editable": false,
    "nbgrader": {
     "cell_type": "markdown",
     "checksum": "92349b77834676946f32b4c8fb16e9cf",
     "grade": false,
     "grade_id": "cell-3caf1663142453c7",
     "locked": true,
     "schema_version": 3,
     "solution": false,
     "task": false
    }
   },
   "source": [
    "We hebben een hoop aannames moeten doen over de werking van het recommender system en de interpretatie van de resultaten. Maar nu hebben we iets meer gereedschappen om mee te evalueren.\n",
    "\n",
    "We kunnen bij voorbeeld eerst eens kijken naar het aantal items dat ook daadwerkelijk terecht aabevolen is. Dat is namelijk het aantal items dat zowel in de lijst `recommended_items` als `used_items` zit. Dit noemen we de *true positives*. Gegeven de vier lijsten (recommended, hidden, used en unused), kunnen we de volgende waardes bepalen:\n",
    "\n",
    "* **true positives**: het aantal items die zowel in de lijst van *recommended items* als *used items* voorkomen.\n",
    "* **false positives**: het aantal items die zowel in de lijst van *recommended items* als *unused items* voorkomen.\n",
    "* **true negatives**: het aantal items die zowel in de lijst van *hidden items* als *unused items* voorkomen.\n",
    "* **false negatives**: het aantal items die zowel in de lijst van *hidden items* als *used items* voorkomen.\n",
    "\n",
    "Deze vier waardes worden meestal weergegeven in de vorm van een [confusion matrix](https://en.wikipedia.org/wiki/Confusion_matrix). \n",
    "\n",
    "### Opdracht 33\n",
    "\n",
    "Implementeer hieronder de functie 'confusion()' met als input de vier lijsten (*recommended*, *hidden*, *used* en *unused*) en als output een 2x2 DataFrame met de confusion matrix."
   ]
  },
  {
   "cell_type": "code",
   "execution_count": null,
   "metadata": {
    "deletable": false,
    "nbgrader": {
     "cell_type": "code",
     "checksum": "899966da70ebf9ec47b6575c12dea6b2",
     "grade": false,
     "grade_id": "cell-6ebdaec79db3655e",
     "locked": false,
     "schema_version": 3,
     "solution": true,
     "task": false
    }
   },
   "outputs": [],
   "source": [
    "def confusion(recommended, hidden, used, unused):\n",
    "    TP = len(recommended.index.intersection(used.index))\n",
    "    FP = len(recommended.index.intersection(unused.index))\n",
    "    FN = len(hidden.index.intersection(used.index))\n",
    "    TN = len(hidden.index.intersection(unused.index))\n",
    "    return pd.DataFrame([[TP,FP],[FN,TN]],columns=['used','unused'],index=['recommended','hidden'])\n",
    "    \n",
    "\n",
    "confusion_matrix = confusion(recommended_items, hidden_items, used_items, unused_items)\n",
    "display(confusion_matrix)"
   ]
  },
  {
   "cell_type": "code",
   "execution_count": null,
   "metadata": {
    "deletable": false,
    "editable": false,
    "nbgrader": {
     "cell_type": "code",
     "checksum": "4c4b334a482071b4dfd8da3128f76089",
     "grade": true,
     "grade_id": "test_33",
     "locked": true,
     "points": 1,
     "schema_version": 3,
     "solution": false,
     "task": false
    }
   },
   "outputs": [],
   "source": [
    "answers.test_33(confusion_matrix)"
   ]
  },
  {
   "cell_type": "markdown",
   "metadata": {
    "deletable": false,
    "editable": false,
    "nbgrader": {
     "cell_type": "markdown",
     "checksum": "0eb2f616fef482f25372b9e2433e6d8b",
     "grade": false,
     "grade_id": "cell-24c6771f84d2d8ac",
     "locked": true,
     "schema_version": 3,
     "solution": false
    }
   },
   "source": [
    "### Precision\n",
    "\n",
    "Een veelgebruikte maat voor evaluatie is **precision**. Precision is een maat voor de vraag: hoe vaak is een aanbevolen film ook terecht aanbevolen? \n",
    "\n",
    "Definitie:\n",
    "\n",
    "$$\n",
    "\\textrm{precision} = \\frac{\\textrm{true positives}}{\\textrm{#recommended items}} = \\frac{\\textrm{true positives}}{\\textrm{true positives + false positives}}\n",
    "$$\n",
    "\n",
    "Dus, als alle films die worden aangeraden ook terecht zijn (i.e. $\\textrm{false positives} = 0$), dan geldt:\n",
    "\n",
    "$\\textrm{precision} = 1$. \n",
    "\n",
    "Als geen van de films die worden aangeraden terecht zijn (i.e. $\\textrm{true positives} = 0$) , dan geldt:\n",
    "\n",
    "$\\textrm{precision} = 0$. \n",
    "\n",
    "> Kijk voor meer informatie ook hier: https://en.wikipedia.org/wiki/Precision_and_recall\n",
    "\n",
    "### Vraag 34\n",
    "\n",
    "Implementeer de functie `precision()` hieronder, met als input de confusion matrix en als output de *precision*."
   ]
  },
  {
   "cell_type": "code",
   "execution_count": null,
   "metadata": {
    "deletable": false,
    "nbgrader": {
     "cell_type": "code",
     "checksum": "24a62699304406ca41309d2d04f7f375",
     "grade": false,
     "grade_id": "cell-56aabfe527272f33",
     "locked": false,
     "schema_version": 3,
     "solution": true
    }
   },
   "outputs": [],
   "source": [
    "def precision(confusion_matrix):\n",
    "    return confusion_matrix.at['recommended','used']/(confusion_matrix.at['recommended','used']+confusion_matrix.at['recommended','unused'])\n",
    "    \n",
    "\n",
    "precision_item_based = precision(confusion_matrix)\n",
    "\n",
    "print(f'precision for item based prediction: {precision_item_based:.2f}')"
   ]
  },
  {
   "cell_type": "code",
   "execution_count": null,
   "metadata": {
    "deletable": false,
    "editable": false,
    "nbgrader": {
     "cell_type": "code",
     "checksum": "48c62d8f74c4cfd18b7f0f99634eb4c4",
     "grade": true,
     "grade_id": "test_34",
     "locked": true,
     "points": 1,
     "schema_version": 3,
     "solution": false
    }
   },
   "outputs": [],
   "source": [
    "answers.test_34(precision_item_based)"
   ]
  },
  {
   "cell_type": "markdown",
   "metadata": {
    "deletable": false,
    "editable": false,
    "nbgrader": {
     "cell_type": "markdown",
     "checksum": "51df08ed378e332b25be690f9d2ab820",
     "grade": false,
     "grade_id": "cell-0ea0f73969bcec59",
     "locked": true,
     "schema_version": 3,
     "solution": false
    }
   },
   "source": [
    "### Recall\n",
    "\n",
    "Precision zegt iets over hoe goed het algoritme werkt, maar zeker niet alles. Er zijn nog vele andere maten die relevant zijn voor de evaluatie van een algoritme. Een maat die veel in combinatie met precision wordt gebruikt is *recall*.\n",
    "\n",
    "De centrale vraag bij **recall** is: hoe vaak worden items waarvan je zou willen dat ze aangeraden worden ook daadwerkelijk aangeraden door het algoritme? Met andere woorden als een gebruiker een film goed zou vinden, krijgt hij hem dan ook vaak aangeraden?\n",
    "\n",
    "Definitie:\n",
    "\n",
    "$$\n",
    "\\textrm{recall} = \\frac{\\textrm{true positives}}{\\textrm{#used items}} = \\frac{\\textrm{true positives}}{\\textrm{true positives + false negatives}}\n",
    "$$\n",
    "\n",
    "Dus, als we geen false negatives hebben (i.e. als alle films die de gebruike goed zou vinden ook daadwerkelijk worden aanbevolen), dan geldt: $\\textrm{precision} = 1$.\n",
    "\n",
    "### Vraag 35\n",
    "\n",
    "Implementeer de functie `recall()` hieronder, met als input de confusion matrix en als output de *recall*."
   ]
  },
  {
   "cell_type": "code",
   "execution_count": null,
   "metadata": {
    "deletable": false,
    "nbgrader": {
     "cell_type": "code",
     "checksum": "be3d7f17da6c5752479523ebdc9c7649",
     "grade": false,
     "grade_id": "cell-f3ca4aa93bb10ec7",
     "locked": false,
     "schema_version": 3,
     "solution": true
    }
   },
   "outputs": [],
   "source": [
    "def recall(confusion_matrix):\n",
    "    return confusion_matrix.at['recommended','used']/(confusion_matrix.at['recommended','used']+confusion_matrix.at['hidden','used'])\n",
    "    \n",
    "    \n",
    "\n",
    "recall_item_based = recall(confusion_matrix)\n",
    "\n",
    "print(f'recall for item based prediction: {recall_item_based:.2f}')"
   ]
  },
  {
   "cell_type": "code",
   "execution_count": null,
   "metadata": {
    "deletable": false,
    "editable": false,
    "nbgrader": {
     "cell_type": "code",
     "checksum": "7fd7246fee64f2c7a5fa36a0edac2a63",
     "grade": true,
     "grade_id": "test_35",
     "locked": true,
     "points": 1,
     "schema_version": 3,
     "solution": false
    }
   },
   "outputs": [],
   "source": [
    "answers.test_35(recall_item_based)"
   ]
  },
  {
   "cell_type": "markdown",
   "metadata": {
    "deletable": false,
    "editable": false,
    "nbgrader": {
     "cell_type": "markdown",
     "checksum": "3da0111680f7ddd33e0f38bc36dd94d4",
     "grade": false,
     "grade_id": "cell-0ebb1e0e7105b1fe",
     "locked": true,
     "schema_version": 3,
     "solution": false,
     "task": false
    }
   },
   "source": [
    "### Vraag 36\n",
    "\n",
    "Nu kunnen we eindelijk de verschillende aanpakken met elkaar vergelijken. Bereken hieronder de *precision* en *recall* voor:\n",
    "* item base collaborative filtering\n",
    "* user based collaborative filtering\n",
    "* random baseline\n",
    "* mean baseline."
   ]
  },
  {
   "cell_type": "code",
   "execution_count": null,
   "metadata": {
    "deletable": false,
    "nbgrader": {
     "cell_type": "code",
     "checksum": "a01d982acdbce5d41f2b6bbfb0f846ad",
     "grade": true,
     "grade_id": "cell-b33d487fb92d31c9",
     "locked": false,
     "points": 1,
     "schema_version": 3,
     "solution": true,
     "task": false
    }
   },
   "outputs": [],
   "source": [
    "treshold_recommended = 3.75\n",
    "treshold_used = 4.0\n",
    "\n",
    "recommended_item_based = recommended(predicted_item_based, treshold_recommended)\n",
    "hidden_item_based = hidden(predicted_item_based, treshold_recommended)\n",
    "used_item_based = used(predicted_item_based, treshold_used)\n",
    "unused_item_based = unused(predicted_item_based, treshold_used)\n",
    "\n",
    "recommended_item_mean = recommended(predicted_item_mean, treshold_recommended)\n",
    "hidden_item_mean = hidden(predicted_item_mean, treshold_recommended)\n",
    "used_item_mean = used(predicted_item_mean, treshold_used)\n",
    "unused_item_mean = unused(predicted_item_mean, treshold_used)\n",
    "\n",
    "recommended_random = recommended(predicted_random, treshold_recommended)\n",
    "hidden_random = hidden(predicted_random, treshold_recommended)\n",
    "used_random = used(predicted_random, treshold_used)\n",
    "unused_random = unused(predicted_random, treshold_used)\n",
    "\n",
    "recommended_user_based = recommended(predicted_user_based, treshold_recommended)\n",
    "hidden_user_based = hidden(predicted_user_based, treshold_recommended)\n",
    "used_user_based = used(predicted_user_based, treshold_used)\n",
    "unused_user_based = unused(predicted_user_based, treshold_used)\n",
    "\n",
    "confusion_item_based = confusion(recommended_item_based,hidden_item_based,used_item_based,unused_item_based)\n",
    "confusion_item_mean = confusion(recommended_item_mean,hidden_item_mean,used_item_mean,unused_item_mean)\n",
    "confusion_random = confusion(recommended_random,hidden_random,used_random,unused_random)\n",
    "confusion_user_based = confusion(recommended_user_based,hidden_user_based,used_user_based,unused_user_based)\n",
    "\n",
    "precision_item_based = precision(confusion_item_based)\n",
    "recall_item_based = recall(confusion_item_based)\n",
    "\n",
    "precision_item_mean = precision(confusion_item_mean)\n",
    "recall_item_mean = recall(confusion_item_mean)\n",
    "\n",
    "precision_random = precision(confusion_random)\n",
    "recall_random = recall(confusion_random)\n",
    "\n",
    "precision_user_based = precision(confusion_user_based)\n",
    "recall_user_based = recall(confusion_user_based)\n",
    "\n",
    "print('           | precision | recall')\n",
    "print(f'item based |      {precision_item_based:.2f} |   {recall_item_based:.2f}')\n",
    "print(f'user based |      {precision_user_based:.2f} |   {recall_user_based:.2f}')\n",
    "print(f'random     |      {precision_random:.2f} |   {recall_random:.2f}')\n",
    "print(f'mean       |      {precision_item_mean:.2f} |   {recall_item_mean:.2f}')"
   ]
  },
  {
   "cell_type": "markdown",
   "metadata": {
    "deletable": false,
    "editable": false,
    "nbgrader": {
     "cell_type": "markdown",
     "checksum": "5363f93d5ee2ea22be75942b7416c302",
     "grade": false,
     "grade_id": "cell-6868272a0a698797",
     "locked": true,
     "schema_version": 3,
     "solution": false
    }
   },
   "source": [
    "Bij recall zien we voor het eerst dat item based filtering het niet zo goed doet. Zowel user based filtering als bij mean per item is de recall-score hoger. Kennelijk gebeurt het bij item based filtering best vaak dat een film die de gebruiker best zou willen zien niet wordt aangeraden. Alleen zelfs dat zegt nog niet zoveel. Het is, bijvoorbeeld, waarschijnlijk (maar niet noodzakelijk) dat als we de `treshold_recommended` iets lager kiezen dat de recall dan omhoog gaat, maar de precision naar beneden.\n",
    "\n",
    "### Vraag 37\n",
    "\n",
    "Waarom is dat waarschijnlijk?"
   ]
  },
  {
   "cell_type": "markdown",
   "metadata": {
    "deletable": false,
    "nbgrader": {
     "cell_type": "markdown",
     "checksum": "1d3fb3ff9719b1d5c0cac2c231811c0e",
     "grade": true,
     "grade_id": "cell-e652cc5c688b562b",
     "locked": false,
     "points": 2,
     "schema_version": 3,
     "solution": true,
     "task": false
    }
   },
   "source": [
    "De recall is het percentage van used films dat recommended is. Met een lagere threshold worden er meer films aanbevolen, waardoor er een kans is dat daar ook used films in zitten, waardoor de recall groter kan worden omdat er een groter percentage recommended films zijn."
   ]
  },
  {
   "cell_type": "markdown",
   "metadata": {
    "deletable": false,
    "editable": false,
    "nbgrader": {
     "cell_type": "markdown",
     "checksum": "54f8399b3c58cf1bda4e7501fc10a77c",
     "grade": false,
     "grade_id": "cell-17fb22a30cf27f96",
     "locked": true,
     "schema_version": 3,
     "solution": false,
     "task": false
    }
   },
   "source": [
    "### Precision-recall curve\n",
    "\n",
    "De performance van het algoritme is dus afhankelijk van de parameter `treshold_recommended`. En zoals je wel vaker zal zien in hebben we bij de keuze van die parameter te maken met een tradeoff tussen verschillende evaluatiematen. In dit geval is er sprake van ee tradeoff tussen *precision* en *recall*. In zo'n geval is het gebruikelijk om een precision-recall curve te plotten. Voer de onderstaande code uit om te zien hoe zo'n curve er uit kan zien."
   ]
  },
  {
   "cell_type": "code",
   "execution_count": null,
   "metadata": {
    "deletable": false,
    "editable": false,
    "nbgrader": {
     "cell_type": "code",
     "checksum": "5eb1d0de5eb211d89cf707363de0e424",
     "grade": false,
     "grade_id": "cell-ffb22c782d50d3c6",
     "locked": true,
     "schema_version": 3,
     "solution": false,
     "task": false
    }
   },
   "outputs": [],
   "source": [
    "tresholds = [2.5, 3.0, 3.5, 4.0, 4.5]\n",
    "\n",
    "# good fake algorithm\n",
    "precisons = [0.4, 0.5, 0.8, 0.9, 0.95]\n",
    "recalls = [1.0, 0.98, 0.85, 0.5, 0]\n",
    "plt.plot(recalls, precisons)\n",
    "for r, p, t in zip(recalls, precisons, tresholds):\n",
    "    plt.text(r, p, t)\n",
    "\n",
    "# bad fake algorithm\n",
    "precisons = [0.4, 0.45, 0.5, 0.6, 0.95]\n",
    "recalls = [1.0, 0.7, 0.5, 0.3, 0]\n",
    "plt.plot(recalls, precisons)\n",
    "for r, p, t in zip(recalls, precisons, tresholds):\n",
    "    plt.text(r, p, t)\n",
    "\n",
    "plt.xlim(0.0, 1.0)\n",
    "plt.ylim(0.3, 1.0)\n",
    "plt.xlabel('recall')\n",
    "plt.ylabel('precision')\n",
    "\n",
    "plt.legend(['good fake algorithm', 'bad fake algorithm'], loc = 'lower left')"
   ]
  },
  {
   "cell_type": "markdown",
   "metadata": {
    "deletable": false,
    "editable": false,
    "nbgrader": {
     "cell_type": "markdown",
     "checksum": "21c8426b47255a57c49f542bac1f7188",
     "grade": false,
     "grade_id": "cell-66d64a7e9fdff95e",
     "locked": true,
     "schema_version": 3,
     "solution": false,
     "task": false
    }
   },
   "source": [
    "In de plot hierboven zien we de waardes van zowel *precision* als *recall* voor verschillende waardes van de parameter `treshold_recommended` van twee denkbeeldige algoritmes. In een ideaal geval zouden we de *threshold* zo willen kiezen dat zowel *precision* als *recall* de waarde 1 hebben. Alleen voor geen van beide algoritmes is er zo'n waarde voor de * threshold*. We zien echter wel dat het goede algoritme (*good fake algorithm*) er een stuk dichter in de buurt komt. Deze plot geeft dus een stuk volledigere informatie over de werking van een algoritme dan een enkele waarde voor *precision* en *recall*.\n",
    "\n",
    "Welke waarde voor de threshold het best is hang deels af van de toepassing. Is *precision* of *recall* een belangrijkere maat? Is het erger om onterecht films aan te raden? Of is het erger om films te negeren die de gebruiker wel graag had willen zien?\n",
    "\n",
    "We kunnen er in dit geval wel iets over zeggen zonder in te gaan op de specifieke toepassing: Voor het goede algoritme is een een duidelijk cut-off te zien. Als je de *threshold* lager dan 3.5 kiest dan keldert de precision. het is dus in dit geval duidelijk een goed idee om de *threshold* in ieder geval boven de 3.5 te zetten.\n",
    "\n",
    "\n",
    "### Vraag 38\n",
    "\n",
    "Maak hieronder eenzelfde plot, maar nu met echte data. Plot de *precision-recall curves* voor:\n",
    "* item base collaborative filtering\n",
    "* user based collaborative filtering\n",
    "* random baseline\n",
    "* mean baseline.\n",
    "\n",
    "Geef de `treshold_used` een vaste waarde van 3.75, en gebruik voor de `treshold_ recommended` waardes van 2.5 (inclusief) tot 5.0 (exclusief) met stappen van 0.5."
   ]
  },
  {
   "cell_type": "code",
   "execution_count": null,
   "metadata": {
    "deletable": false,
    "nbgrader": {
     "cell_type": "code",
     "checksum": "0df9ff20604f93c51ce5cbceb04c1cce",
     "grade": true,
     "grade_id": "cell-1abbb01a0d7c3a5d",
     "locked": false,
     "points": 1,
     "schema_version": 3,
     "solution": true,
     "task": false
    }
   },
   "outputs": [],
   "source": [
    "treshold_used = 3.75\n",
    "treshold_recommended = [2.5,3.,3.5,4.,4.5]\n",
    "\n",
    "recommended_item_based = [recommended(predicted_item_based, thresh) for thresh in treshold_recommended]\n",
    "hidden_item_based = [hidden(predicted_item_based, thresh) for thresh in treshold_recommended]\n",
    "used_item_based = used(predicted_item_based, treshold_used)\n",
    "unused_item_based = unused(predicted_item_based, treshold_used)\n",
    "\n",
    "recommended_item_mean = [recommended(predicted_item_mean, thresh) for thresh in treshold_recommended]\n",
    "hidden_item_mean = [hidden(predicted_item_mean, thresh) for thresh in treshold_recommended]\n",
    "used_item_mean = used(predicted_item_mean, treshold_used)\n",
    "unused_item_mean = unused(predicted_item_mean, treshold_used)\n",
    "\n",
    "recommended_random = [recommended(predicted_random, thresh) for thresh in treshold_recommended]\n",
    "hidden_random = [hidden(predicted_random, thresh) for thresh in treshold_recommended]\n",
    "used_random = used(predicted_random, treshold_used)\n",
    "unused_random = unused(predicted_random, treshold_used)\n",
    "\n",
    "recommended_user_based = [recommended(predicted_user_based, thresh) for thresh in treshold_recommended]\n",
    "hidden_user_based = [hidden(predicted_user_based, thresh) for thresh in treshold_recommended]\n",
    "used_user_based = used(predicted_user_based, treshold_used)\n",
    "unused_user_based = unused(predicted_user_based, treshold_used)\n",
    "\n",
    "confusion_item_based = [confusion(recommended_item_based[x],hidden_item_based[x],used_item_based,unused_item_based) for x in range(len(treshold_recommended))]\n",
    "confusion_item_mean = [confusion(recommended_item_mean[x],hidden_item_mean[x],used_item_mean,unused_item_mean) for x in range(len(treshold_recommended))]\n",
    "confusion_random = [confusion(recommended_random[x],hidden_random[x],used_random,unused_random) for x in range(len(treshold_recommended))]\n",
    "confusion_user_based = [confusion(recommended_user_based[x],hidden_user_based[x],used_user_based,unused_user_based) for x in range(len(treshold_recommended))]\n",
    "\n",
    "precision_item_based = [precision(confusion_item_based[x]) for x in range(len(treshold_recommended))]\n",
    "recall_item_based = [recall(confusion_item_based[x]) for x in range(len(treshold_recommended))]\n",
    "\n",
    "precision_item_mean = [precision(confusion_item_mean[x]) for x in range(len(treshold_recommended))]\n",
    "recall_item_mean = [recall(confusion_item_mean[x]) for x in range(len(treshold_recommended))]\n",
    "\n",
    "precision_random = [precision(confusion_random[x]) for x in range(len(treshold_recommended))]\n",
    "recall_random = [recall(confusion_random[x]) for x in range(len(treshold_recommended))]\n",
    "\n",
    "precision_user_based = [precision(confusion_user_based[x]) for x in range(len(treshold_recommended))]\n",
    "recall_user_based = [recall(confusion_user_based[x]) for x in range(len(treshold_recommended))]\n",
    "\n",
    "plt.plot(recall_item_based, precision_item_based)\n",
    "for r, p, t in zip(recall_item_based, precision_item_based, treshold_recommended):\n",
    "    plt.text(r, p, t)\n",
    "\n",
    "plt.plot(recall_item_mean, precision_item_mean)\n",
    "for r, p, t in zip(recall_item_mean, precision_item_mean, treshold_recommended):\n",
    "    plt.text(r, p, t)\n",
    "\n",
    "plt.plot(recall_random, precision_random)\n",
    "for r, p, t in zip(recall_random, precision_random, treshold_recommended):\n",
    "    plt.text(r, p, t)\n",
    "\n",
    "plt.plot(recall_user_based, precision_user_based)\n",
    "for r, p, t in zip(recall_user_based, precision_user_based, treshold_recommended):\n",
    "    plt.text(r, p, t)\n",
    "\n",
    "plt.xlim(0.0, 1.0)\n",
    "plt.ylim(0.3, 1.0)\n",
    "plt.xlabel('recall')\n",
    "plt.ylabel('precision')\n",
    "\n",
    "plt.legend(['item_based','item_mean','random', 'user_based'], loc = 'lower left')"
   ]
  },
  {
   "cell_type": "markdown",
   "metadata": {
    "deletable": false,
    "editable": false,
    "nbgrader": {
     "cell_type": "markdown",
     "checksum": "645bc69833c4194ae8f1341f81cacef9",
     "grade": false,
     "grade_id": "cell-2e447c6fdc19e012",
     "locked": true,
     "schema_version": 3,
     "solution": false,
     "task": false
    }
   },
   "source": [
    "De verschillen zijn niet zo enorm als bij het nepvoorbeeld, maar als het goed is, is er wel een algoritme dat het zichtbaar beter doet voor deze data.\n",
    "\n",
    "### Vraag 39\n",
    "\n",
    "Het zal je misschien opvallen dat de precision bij deze data nooit lager dan ongeveer 0.5 wordt. Waar zou dat door kunnen komen? "
   ]
  },
  {
   "cell_type": "markdown",
   "metadata": {
    "deletable": false,
    "nbgrader": {
     "cell_type": "markdown",
     "checksum": "5cc0abce75bb7a350be158627f3f0255",
     "grade": true,
     "grade_id": "cell-599984f465754035",
     "locked": false,
     "points": 3,
     "schema_version": 3,
     "solution": true,
     "task": false
    }
   },
   "source": [
    "Omdat de laagste threshold op 2.5 ligt, en dat is het midden van de ratings. Dus de helft zal er altijd boven liggen, waardoor de precision minimaal 0.5 is."
   ]
  },
  {
   "cell_type": "markdown",
   "metadata": {},
   "source": [
    "Bij deze algoritmes is de *threshold* een duidelijk parameter waarmee je de *precision* en *recall* kan beinvloeden. Maar, er zijn natuurlijk vaak nog meer dan genoeg andere parameters die van invloed kunnen zijn op deze waardes (bijvoorbeeld de waarde van `k` bij het selecteren van de *neighborhood*). Je zou in principe voor elke parameter zo'n curve kunnen maken bij het ontwerpen van een recommender system. Dat gaan we nu niet doen.\n",
    "\n",
    "We gaan nog naar één ander interessant effect kijken: de data zelf. Dit soort algoritmes zijn op z'n best zo goed als de data die je ze voert. In dit geval hebben we gewerkt met een zeer dichte dataset. Voor ongeveer 80% van de mogelijke gebruiker-film paren is er een rating. Dat is héél veel meer dan je meestal zal tegenkomen als je een recommender system gaat bouwen. Deze data is een subset van een véél grote dataset waarvan de dichtheid lager dan 1% is.\n",
    "\n",
    "Voer de code hieronder uit om een nieuwe dataset te laden. Deze set heeft een dichtheid van ongeveer 50%. Dat is nog steeds bij lange na niet zo laag als de oorspronkelijke dataset, maar hiermee kunnen we al gaan kijken of de dichtheid een effect heeft op het algoritm."
   ]
  },
  {
   "cell_type": "code",
   "execution_count": null,
   "metadata": {
    "deletable": false,
    "editable": false,
    "nbgrader": {
     "cell_type": "code",
     "checksum": "2139a1f50d8f78e6a4ad6eae0e416bcd",
     "grade": false,
     "grade_id": "cell-c8532dcab888007a",
     "locked": true,
     "schema_version": 3,
     "solution": false,
     "task": false
    }
   },
   "outputs": [],
   "source": [
    "training_data = pd.read_pickle(f'./mini-movielens/ratings_t50_training.pkl')\n",
    "test_data = pd.read_pickle(f'./mini-movielens/ratings_t50_test.pkl')\n",
    "utility_items = pd.read_pickle(f'./mini-movielens/ratings_t50_utility_items.pkl')\n",
    "similarity_items = pd.read_pickle(f'./mini-movielens/ratings_t50_similarity_items.pkl')\n",
    "predicted_item_based_50 = predict_ratings_item_based(similarity_items, utility_items, test_data)"
   ]
  },
  {
   "cell_type": "markdown",
   "metadata": {
    "deletable": false,
    "editable": false,
    "nbgrader": {
     "cell_type": "markdown",
     "checksum": "5c43a0d46bdf5b162f931f7bdf48eb88",
     "grade": false,
     "grade_id": "cell-ec5330435b4edb80",
     "locked": true,
     "schema_version": 3,
     "solution": false,
     "task": false
    }
   },
   "source": [
    "### Vraag 40\n",
    "\n",
    "Maak *precision-recall curve* voor alléén item based filtering met de bovenstaande dataset. Plot in dezelfde grafiek ook de item based filtering curve voor de oude dataset nog een keer."
   ]
  },
  {
   "cell_type": "code",
   "execution_count": null,
   "metadata": {
    "deletable": false,
    "nbgrader": {
     "cell_type": "code",
     "checksum": "8b2fbafb710158ee900d7dac0b6f8e7f",
     "grade": true,
     "grade_id": "cell-ad02c9d6cf2a3ae3",
     "locked": false,
     "points": 1,
     "schema_version": 3,
     "solution": true,
     "task": false
    }
   },
   "outputs": [],
   "source": [
    "recommended_item_based_new = [recommended(predicted_item_based_50, thresh) for thresh in treshold_recommended]\n",
    "hidden_item_based_new = [hidden(predicted_item_based_50, thresh) for thresh in treshold_recommended]\n",
    "used_item_based_new = used(predicted_item_based_50, treshold_used)\n",
    "unused_item_based_new = unused(predicted_item_based_50, treshold_used)\n",
    "\n",
    "confusion_item_based_new = [confusion(recommended_item_based_new[x],hidden_item_based_new[x],used_item_based_new,unused_item_based_new) for x in range(len(treshold_recommended))]\n",
    "\n",
    "precision_item_based_new = [precision(confusion_item_based_new[x]) for x in range(len(treshold_recommended))]\n",
    "recall_item_based_new = [recall(confusion_item_based_new[x]) for x in range(len(treshold_recommended))]\n",
    "\n",
    "plt.plot(recall_item_based_new, precision_item_based_new)\n",
    "for r, p, t in zip(recall_item_based_new, precision_item_based_new, treshold_recommended):\n",
    "    plt.text(r, p, t)\n",
    "\n",
    "plt.plot(recall_item_based, precision_item_based)\n",
    "for r, p, t in zip(recall_item_based, precision_item_based, treshold_recommended):\n",
    "    plt.text(r, p, t)\n",
    "\n",
    "plt.xlim(0.0, 1.0)\n",
    "plt.ylim(0.3, 1.0)\n",
    "plt.xlabel('recall')\n",
    "plt.ylabel('precision')\n",
    "\n",
    "plt.legend(['item_based_new','item_based_old'], loc = 'lower left')"
   ]
  },
  {
   "cell_type": "markdown",
   "metadata": {
    "deletable": false,
    "editable": false,
    "nbgrader": {
     "cell_type": "markdown",
     "checksum": "11c88dd840667434cc7727ae3b84174e",
     "grade": false,
     "grade_id": "cell-840f592bb6a31369",
     "locked": true,
     "schema_version": 3,
     "solution": false,
     "task": false
    }
   },
   "source": [
    "### Vraag 41\n",
    "Zou je een toepassing van een recommender system kunnen noemen waarvoor precision en recall géén relevante maten zijn?"
   ]
  },
  {
   "cell_type": "markdown",
   "metadata": {
    "deletable": false,
    "nbgrader": {
     "cell_type": "markdown",
     "checksum": "a49b26ad53fc55355ecca3a017f79300",
     "grade": true,
     "grade_id": "cell-de74ecf986dab540",
     "locked": false,
     "points": 2,
     "schema_version": 3,
     "solution": true,
     "task": false
    }
   },
   "source": [
    "Nee, want als dat zo zou zijn is er geen reden om een recommender system op te zetten. Het idee van zo'n systeem is altijd om goede recommendations te geven, en dat wordt gemeten met precision en recall. Dus op het moment dat die niet relevant zijn, is het recommender systeem ook niet meer relevant."
   ]
  },
  {
   "cell_type": "markdown",
   "metadata": {
    "deletable": false,
    "editable": false,
    "nbgrader": {
     "cell_type": "markdown",
     "checksum": "bb29326cca594493c5e11ef87e2b008d",
     "grade": false,
     "grade_id": "cell-b18deaf079b4716e",
     "locked": true,
     "schema_version": 3,
     "solution": false,
     "task": false
    }
   },
   "source": [
    "### Vraag 42\n",
    "Je hebt voor de parameter *threshold_recommended* een precision-recall curve gemaakt, dus we hebben nu een redelijk beeld van het effect van die parameter op de kwaliteit van de voorspellingen. Welke parameters zou je nog meer kunnen(/moeten) onderzoeken?\n"
   ]
  },
  {
   "cell_type": "markdown",
   "metadata": {
    "deletable": false,
    "nbgrader": {
     "cell_type": "markdown",
     "checksum": "8b9ed950fa97b8d89f290974c1c11f59",
     "grade": true,
     "grade_id": "cell-7ac2e6128a82265d",
     "locked": false,
     "points": 2,
     "schema_version": 3,
     "solution": true,
     "task": false
    }
   },
   "source": [
    "De threshold van de used/unused zou een geteste parameter kunnen zijn. Verder de k bij de select_neighborhood zou ook nog gevarieerd kunnen worden. Waardes van k<10 zullen een grotere verschillen in de kwaliteit van de voorspellingen."
   ]
  },
  {
   "cell_type": "markdown",
   "metadata": {
    "deletable": false,
    "editable": false,
    "nbgrader": {
     "cell_type": "markdown",
     "checksum": "0bdb382dbedbc7966881282b0a1d1915",
     "grade": false,
     "grade_id": "cell-4ae921886eed13a5",
     "locked": true,
     "schema_version": 3,
     "solution": false,
     "task": false
    }
   },
   "source": [
    "# Done\n",
    "\n",
    "In het eerste deel heb je gezien hoe je *item based collaborative filtering* kan implementeren. Hiervoor heb je geleerd hoe je een *utility matrix* kan maken. Die utility matrix heb je gebruikt voor het maken van een *similarity matrix*. Hiervoor heb je verschillende similarity-maten uitgebprobeerd. Uiteindelijk heb je met de *cosine similarity* de rest van het algoritme uitgewerkt. Dit bestond uit het bepalen van een *neighborhood* en vervolgens het berekenen van een gewogen gemiddelde voor die neighborhood. In het tweede deel heb je gezien hoe je dezelfde technieken kan toepassen voor *user based* collaborative filtering. \n",
    "\n",
    "In het derde deel hebben we gekeken hoe we de geleerde algoritmes kunnen *evalueren*. Hierbij hebben we alleen gekeken naar *offline test* (dus alleen met de gegeven historische data). Om dit te doen, moeten we een hoop aannames doen over gebruikersgedrag. De enige manier om deze aannames te toetsen zou met online testen. Wij kunnen dat niet doen binnen deze cursus, maar dit is wel wat bedrijven zoals Facebook continu doen. \n",
    "\n",
    "Er valt nog heel veel meer te zeggen over het onderwerp van evaluatie. Dit is een onderwerp wat ook buiten het domein van recommender systems van belang is. Onder andere veel machine learning algoritmes worden op vergelijkbare manier getoetst. Voor meer informatie:\n",
    "\n",
    "* [Wikipedia, Confusion matrix](https://en.wikipedia.org/wiki/Confusion_matrix)\n",
    "* [Wikipedia, Recommender systems](https://en.wikipedia.org/wiki/Recommender_system#Performance_measures)\n",
    "* [G. Shani, A. Gunawardana, *Evaluating recommendation systems*](https://www.researchgate.net/publication/226264572_Evaluating_Recommendation_Systems) (gratis te downloaden vanaf het UvA netwerk).\n",
    "* [M. Ge, C Delgado-Battenfeld, Dietmar Jannach, *Beyond Accuracy: Evaluating Recommender Systems by Coverage and Serendipity*](http://citeseerx.ist.psu.edu/viewdoc/download?doi=10.1.1.464.8494&rep=rep1&type=pdf)\n",
    "\n",
    "\n",
    "### Volgende module\n",
    "\n",
    "Bij de laatste opgave zagen we dat de dichtheid van de dataset een effect heeft op de werking van collaborative filtering. Als de dichtheid lager wordt, werkt collaborative filtering minder goed. In de volgende module gaan we zien hoe we content based filtering kunnen gebruiken om dit probleem op te lossen."
   ]
  },
  {
   "cell_type": "markdown",
   "metadata": {
    "deletable": false,
    "editable": false,
    "nbgrader": {
     "cell_type": "markdown",
     "checksum": "43f73ac682583dc614606542fc6a98ab",
     "grade": false,
     "grade_id": "cell-8948f610e9afedf0",
     "locked": true,
     "schema_version": 3,
     "solution": false,
     "task": false
    }
   },
   "source": [
    "## Extra conceptvragen \n",
    "Deze vragen hoef je niet in te leveren, maar zijn handig om te oefenen voor het tentamen.\n",
    "\n",
    "### Conceptvraag 1\n",
    "We hebben een hoop aannames gedaan bij het testen van de bovenstaande algoritmes. Bijvoorbeeld, een daadwerkelijk rating hoger dan 4.0 betekent dat een film terecht is aangeraden.\n",
    "\n",
    "- a. Noem ten minste nog twee aannames die we hebben gedaan bij het evalueren van de *collaboratve filtering* algoritmes.\n",
    "- b. Doe een suggestie voor een online evaluatie of gebruikersstudie waarmee we kunnen testen of deze aannames terecht zijn.\n",
    "\n",
    "### Conceptvraag 2:\n",
    "De maten die we hierboven hebben behandeld worden heel veel gebruikt, maar zijn zeker niet de enige mogelijke maten. Er zijn nog talloze vragen die we kunnen stellen over het systeem waar de huidige maten geen antwoord op geven. Bijvoorbeeld:\n",
    "- Hoe groot de kans is dat gebruikers nieuwe filmgenres ontdekken? \n",
    "- Voor een nieuwsmediasite: Hoe groot is de kans dat gebruikers in een filterbubbel terechtkomen?\n",
    "- Hoe groot is de kans dat een minder populair item wordt aanbevolen?\n",
    "- Hoe groot is de diversiteit van aanbevolen films.\n",
    "\n",
    "Kan je zelf een nuttige maat verzinnen die hier nog niet is behandeld? Wat is de definitie? Op welke vraag geeft de maat een antwoord? Waarom is dat een nuttige vraag?\n"
   ]
  }
 ],
 "metadata": {
  "kernelspec": {
   "display_name": "Python 3",
   "language": "python",
   "name": "python3"
  },
  "language_info": {
   "codemirror_mode": {
    "name": "ipython",
    "version": 3
   },
   "file_extension": ".py",
   "mimetype": "text/x-python",
   "name": "python",
   "nbconvert_exporter": "python",
   "pygments_lexer": "ipython3",
   "version": "3.7.4"
  },
  "varInspector": {
   "cols": {
    "lenName": 16,
    "lenType": 16,
    "lenVar": 40
   },
   "kernels_config": {
    "python": {
     "delete_cmd_postfix": "",
     "delete_cmd_prefix": "del ",
     "library": "var_list.py",
     "varRefreshCmd": "print(var_dic_list())"
    },
    "r": {
     "delete_cmd_postfix": ") ",
     "delete_cmd_prefix": "rm(",
     "library": "var_list.r",
     "varRefreshCmd": "cat(var_dic_list()) "
    }
   },
   "types_to_exclude": [
    "module",
    "function",
    "builtin_function_or_method",
    "instance",
    "_Feature"
   ],
   "window_display": false
  }
 },
 "nbformat": 4,
 "nbformat_minor": 2
}
